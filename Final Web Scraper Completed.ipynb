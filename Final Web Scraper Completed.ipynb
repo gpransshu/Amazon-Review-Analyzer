{
 "cells": [
  {
   "cell_type": "code",
   "execution_count": 190,
   "metadata": {},
   "outputs": [],
   "source": [
    "#!pip install pandas"
   ]
  },
  {
   "cell_type": "code",
   "execution_count": 191,
   "metadata": {
    "colab": {
     "base_uri": "https://localhost:8080/"
    },
    "id": "h2QX0szMmBBK",
    "outputId": "1b194553-9854-4d81-e374-4186eb09b320"
   },
   "outputs": [],
   "source": [
    "#!pip install selenium"
   ]
  },
  {
   "cell_type": "code",
   "execution_count": 192,
   "metadata": {
    "colab": {
     "base_uri": "https://localhost:8080/"
    },
    "id": "r3RhxETF4wID",
    "outputId": "e6dc2c78-6e4f-4b82-8bc2-a72330820483"
   },
   "outputs": [],
   "source": [
    "#!pip install bs4"
   ]
  },
  {
   "cell_type": "code",
   "execution_count": 193,
   "metadata": {
    "colab": {
     "base_uri": "https://localhost:8080/"
    },
    "id": "7rUIrOcFnJE_",
    "outputId": "7be7f228-cc85-4af7-b2fb-e6a7655565b0"
   },
   "outputs": [],
   "source": [
    "#!apt-get update"
   ]
  },
  {
   "cell_type": "code",
   "execution_count": 194,
   "metadata": {
    "colab": {
     "base_uri": "https://localhost:8080/"
    },
    "id": "OrHkMiOOnunU",
    "outputId": "bed55f23-07f3-4315-f9a0-4c098130a8f6"
   },
   "outputs": [],
   "source": [
    "#!apt-get install chromium chromium-driver"
   ]
  },
  {
   "cell_type": "code",
   "execution_count": 195,
   "metadata": {},
   "outputs": [],
   "source": [
    "import pandas as pd"
   ]
  },
  {
   "cell_type": "code",
   "execution_count": 196,
   "metadata": {
    "id": "W4n8PfM_n14Y"
   },
   "outputs": [],
   "source": [
    "from selenium import webdriver\n",
    "from selenium.webdriver.common.by import By\n",
    "from selenium.webdriver.support import expected_conditions as EC\n",
    "from selenium.webdriver.support.ui import WebDriverWait\n",
    "import time\n",
    "\n",
    "\n",
    "def web_driver():\n",
    "    options = webdriver.ChromeOptions()\n",
    "    options.add_argument(\"--verbose\")\n",
    "    options.add_argument('--no-sandbox')\n",
    "    options.add_argument('--headless')\n",
    "    options.add_argument('--disable-gpu')\n",
    "    options.add_argument(\"--window-size=1920, 1200\")\n",
    "    options.add_argument('--disable-dev-shm-usage')\n",
    "    driver = webdriver.Chrome(options=options)\n",
    "    return driver\n",
    "\n",
    "\n"
   ]
  },
  {
   "cell_type": "code",
   "execution_count": 197,
   "metadata": {
    "id": "CHIqGrDKn7i7"
   },
   "outputs": [],
   "source": [
    "driver = web_driver()\n",
    "\n",
    "\n"
   ]
  },
  {
   "cell_type": "code",
   "execution_count": null,
   "metadata": {},
   "outputs": [],
   "source": []
  },
  {
   "cell_type": "code",
   "execution_count": 198,
   "metadata": {
    "id": "ehqdziKDn_Rn"
   },
   "outputs": [],
   "source": [
    "driver.get('https://www.amazon.in/')"
   ]
  },
  {
   "cell_type": "code",
   "execution_count": 199,
   "metadata": {
    "id": "T1WBFZVIp_Oq"
   },
   "outputs": [],
   "source": [
    "driver.maximize_window()"
   ]
  },
  {
   "cell_type": "code",
   "execution_count": 200,
   "metadata": {},
   "outputs": [],
   "source": [
    "time.sleep(5)\n",
    "isearch = WebDriverWait(driver, 20).until(EC.element_to_be_clickable((By.NAME,'field-keywords')))\n",
    "sbutton = WebDriverWait(driver, 20).until(EC.element_to_be_clickable((By.ID, 'nav-search-submit-button')))"
   ]
  },
  {
   "cell_type": "code",
   "execution_count": 201,
   "metadata": {
    "id": "tO-2qJkqqq8d"
   },
   "outputs": [],
   "source": [
    "isearch.send_keys(\"iPhone\")\n",
    "time.sleep(1)"
   ]
  },
  {
   "cell_type": "code",
   "execution_count": 202,
   "metadata": {
    "id": "HG5d9hlna-L7"
   },
   "outputs": [],
   "source": [
    "sbutton.click()"
   ]
  },
  {
   "cell_type": "code",
   "execution_count": 203,
   "metadata": {
    "id": "x0Lq4FhMqPd2"
   },
   "outputs": [],
   "source": [
    "from bs4 import BeautifulSoup\n",
    "html = driver.page_source\n",
    "\n",
    "soup = BeautifulSoup(html)\n"
   ]
  },
  {
   "cell_type": "code",
   "execution_count": 204,
   "metadata": {
    "id": "ACFFB-uZP6D2"
   },
   "outputs": [],
   "source": [
    "#button_element = soup.find('a', {'data-cel-widget':'search_result_2'})\n"
   ]
  },
  {
   "cell_type": "code",
   "execution_count": 205,
   "metadata": {
    "id": "ytb_BoDpMDg5"
   },
   "outputs": [],
   "source": [
    "button_element = soup.find('a', {'class':'a-link-normal s-underline-text s-underline-link-text s-link-style a-text-normal'})\n"
   ]
  },
  {
   "cell_type": "code",
   "execution_count": 206,
   "metadata": {
    "colab": {
     "base_uri": "https://localhost:8080/"
    },
    "id": "cuYAiisneJtG",
    "outputId": "15714c21-15c7-408c-aa01-4d491b75b127"
   },
   "outputs": [
    {
     "name": "stdout",
     "output_type": "stream",
     "text": [
      "<a class=\"a-link-normal s-underline-text s-underline-link-text s-link-style a-text-normal\" href=\"/Apple-iPhone-13-128GB-Starlight/dp/B09G9D8KRQ/ref=sr_1_1?crid=3DAYNNR5SK4JQ&amp;dib=eyJ2IjoiMSJ9.OCoJgZ8ghdguKvc7Ozmt3OyY3JIh2zh_9fXQPStOsFxpiRsfqUDXAr6MP3uGF_Cah_0a0KHjoywW31vyUaWAX7ByavT0Y7CW82lsMUc502A8EfPYtsfGyVvyq6SUsNV4CwlfWoAgI2uwzF69V_HJv65Yns9Ngf5CKKeCjb3T3n1YqcBKd7rtRWu4xUHJsEzOu1Wfmys6FL-Mzqg95Ih1zZCHOBmM3GRi9bBMI1n-_jI.qg73eITdvDIKFYvDkQ5xbppvx2kTwW7KNI10apHy7QA&amp;dib_tag=se&amp;keywords=iPhone&amp;qid=1716627130&amp;sprefix=iphone%2Caps%2C461&amp;sr=8-1\" target=\"_blank\"><span class=\"a-size-medium a-color-base a-text-normal\">Apple iPhone 13 (128GB) - Starlight</span> </a>\n"
     ]
    }
   ],
   "source": [
    "print(button_element)"
   ]
  },
  {
   "cell_type": "code",
   "execution_count": 207,
   "metadata": {
    "id": "cQyWhrAANpx3"
   },
   "outputs": [],
   "source": [
    "button_class = button_element['class']"
   ]
  },
  {
   "cell_type": "code",
   "execution_count": 208,
   "metadata": {
    "colab": {
     "base_uri": "https://localhost:8080/"
    },
    "id": "P5zt33KePY0-",
    "outputId": "3e1ff6bc-0a61-4df5-b121-abebe01fc6aa"
   },
   "outputs": [
    {
     "name": "stdout",
     "output_type": "stream",
     "text": [
      "['a-link-normal', 's-underline-text', 's-underline-link-text', 's-link-style', 'a-text-normal']\n"
     ]
    }
   ],
   "source": [
    "print(button_class)"
   ]
  },
  {
   "cell_type": "markdown",
   "metadata": {
    "id": "FO5ii7OxOZBq"
   },
   "source": [
    "from selenium.webdriver.support.ui import WebDriverWait\n",
    "from selenium.webdriver.support import expected_conditions as EC\n",
    "from selenium.webdriver.common.by import By\n"
   ]
  },
  {
   "cell_type": "code",
   "execution_count": 209,
   "metadata": {
    "id": "uIsZj-pAOPiE"
   },
   "outputs": [],
   "source": [
    "# Construct the CSS selector using the button class\n",
    "button_selector = f\".{'.'.join(button_class)}\"\n",
    "\n",
    "# Find the element using Selenium\n",
    "element = WebDriverWait(driver, 10).until(EC.presence_of_element_located((By.CSS_SELECTOR, button_selector)))\n"
   ]
  },
  {
   "cell_type": "code",
   "execution_count": 210,
   "metadata": {
    "id": "2TnGRPHaOmuZ"
   },
   "outputs": [],
   "source": [
    "# Perform actions (e.g., click)\n",
    "element.click()"
   ]
  },
  {
   "cell_type": "code",
   "execution_count": 211,
   "metadata": {
    "id": "4n8mkQ9lcwHT"
   },
   "outputs": [],
   "source": [
    "driver.switch_to.window(driver.window_handles[1])"
   ]
  },
  {
   "cell_type": "code",
   "execution_count": 212,
   "metadata": {
    "id": "R6ZHS8rIyysU"
   },
   "outputs": [],
   "source": [
    "\n",
    "time.sleep(10)"
   ]
  },
  {
   "cell_type": "code",
   "execution_count": null,
   "metadata": {},
   "outputs": [],
   "source": []
  },
  {
   "cell_type": "code",
   "execution_count": 213,
   "metadata": {
    "id": "3K1nQeHudBQ7"
   },
   "outputs": [],
   "source": [
    "morereviewbutton = \"See more reviews\"\n",
    "morereviewbutton1 = WebDriverWait(driver, 20).until(EC.element_to_be_clickable((By.LINK_TEXT, morereviewbutton)))\n",
    "morereviewbutton1.click()"
   ]
  },
  {
   "cell_type": "code",
   "execution_count": 214,
   "metadata": {
    "colab": {
     "base_uri": "https://localhost:8080/"
    },
    "id": "3YvYQlHRrFWB",
    "outputId": "0f1df15e-954e-4105-8728-d2b294e45d99"
   },
   "outputs": [
    {
     "name": "stdout",
     "output_type": "stream",
     "text": [
      "https://www.amazon.in/Apple-iPhone-13-128GB-Starlight/product-reviews/B09G9D8KRQ/ref=cm_cr_dp_d_show_all_btm?ie=UTF8&reviewerType=all_reviews\n"
     ]
    }
   ],
   "source": [
    "url1 = driver.current_url\n",
    "print(url1)"
   ]
  },
  {
   "cell_type": "code",
   "execution_count": 216,
   "metadata": {
    "id": "T8yGQye44gm7"
   },
   "outputs": [],
   "source": [
    "html = driver.page_source\n",
    "\n",
    "soup = BeautifulSoup(html)\n"
   ]
  },
  {
   "cell_type": "code",
   "execution_count": 217,
   "metadata": {},
   "outputs": [],
   "source": [
    "def get_reviews_for_rating(driver, rating_text):\n",
    "\n",
    "    try:\n",
    "        driver.refresh()\n",
    "        # Wait for the rating button to be clickable and click it\n",
    "        rating_button = WebDriverWait(driver, 20).until(EC.element_to_be_clickable((By.LINK_TEXT, rating_text)))\n",
    "        rating_button.click()\n",
    "\n",
    "        # Get the page source after the click\n",
    "        html = driver.page_source\n",
    "\n",
    "        # Parse the page source with BeautifulSoup\n",
    "        soup = BeautifulSoup(html, 'html.parser')\n",
    "        \n",
    "        reviews=''\n",
    "\n",
    "        # Find and return the review count text\n",
    "        reviews = soup.find('div', {'data-hook': 'cr-filter-info-review-rating-count'}).text.strip()\n",
    "        return reviews\n",
    "    except Exception as e:\n",
    "        print(f\"An error occurred: {e}\")\n",
    "        return None\n"
   ]
  },
  {
   "cell_type": "code",
   "execution_count": 218,
   "metadata": {},
   "outputs": [],
   "source": [
    "# one_star  two_star   three_star   four_star    five_star"
   ]
  },
  {
   "cell_type": "code",
   "execution_count": 219,
   "metadata": {},
   "outputs": [],
   "source": [
    "stars = {'1 star': None, '2 star': None, '3 star': None, '4 star': None, '5 star': None}\n",
    "\n",
    "for rating in stars.keys():\n",
    "    reviews = get_reviews_for_rating(driver, rating)\n",
    "    reviews = get_reviews_for_rating(driver, rating)\n",
    "    stars[rating] = reviews"
   ]
  },
  {
   "cell_type": "code",
   "execution_count": 220,
   "metadata": {},
   "outputs": [
    {
     "data": {
      "text/plain": [
       "{'1 star': '1,347 total ratings, 435 with reviews',\n",
       " '2 star': '317 total ratings, 95 with reviews',\n",
       " '3 star': '773 total ratings, 124 with reviews',\n",
       " '4 star': '3,919 total ratings, 442 with reviews',\n",
       " '5 star': '20,639 total ratings, 2,419 with reviews'}"
      ]
     },
     "execution_count": 220,
     "metadata": {},
     "output_type": "execute_result"
    }
   ],
   "source": [
    "stars"
   ]
  },
  {
   "cell_type": "code",
   "execution_count": 221,
   "metadata": {
    "scrolled": true
   },
   "outputs": [
    {
     "data": {
      "text/plain": [
       "{'1 star': {'ratings': 1347, 'reviews': 435},\n",
       " '2 star': {'ratings': 317, 'reviews': 95},\n",
       " '3 star': {'ratings': 773, 'reviews': 124},\n",
       " '4 star': {'ratings': 3919, 'reviews': 442},\n",
       " '5 star': {'ratings': 20639, 'reviews': 2419}}"
      ]
     },
     "execution_count": 221,
     "metadata": {},
     "output_type": "execute_result"
    }
   ],
   "source": [
    "updated_stars = {}\n",
    "\n",
    "for key, value in stars.items():\n",
    "    rating, review = value.split('total ratings, ')\n",
    "    rating = rating.strip().replace(',', '')\n",
    "    review = review.split(' with reviews')[0].strip().replace(',', '')\n",
    "    updated_stars[key] = {'ratings': int(rating), 'reviews': int(review)}\n",
    "\n",
    "updated_stars"
   ]
  },
  {
   "cell_type": "code",
   "execution_count": null,
   "metadata": {},
   "outputs": [],
   "source": []
  },
  {
   "cell_type": "code",
   "execution_count": null,
   "metadata": {},
   "outputs": [],
   "source": []
  },
  {
   "cell_type": "code",
   "execution_count": 224,
   "metadata": {},
   "outputs": [
    {
     "name": "stdout",
     "output_type": "stream",
     "text": [
      "Collecting 435 reviews for 1 star with filter one_star...\n",
      "https://www.amazon.in/Apple-iPhone-13-128GB-Starlight/product-reviews/B09G9D8KRQ/ref=cm_cr_dp_d_show_all_btm?ie=UTF8&reviewerType=all_reviews&pageNumber=1&filterByStar=one_star\n",
      "Scraped 1 reviews for 1 star\n",
      "Scraped 2 reviews for 1 star\n",
      "Scraped 3 reviews for 1 star\n",
      "Scraped 4 reviews for 1 star\n",
      "Scraped 5 reviews for 1 star\n",
      "Scraped 6 reviews for 1 star\n",
      "Scraped 7 reviews for 1 star\n",
      "Scraped 8 reviews for 1 star\n",
      "Scraped 9 reviews for 1 star\n",
      "Scraped 10 reviews for 1 star\n",
      "https://www.amazon.in/Apple-iPhone-13-128GB-Starlight/product-reviews/B09G9D8KRQ/ref=cm_cr_dp_d_show_all_btm?ie=UTF8&reviewerType=all_reviews&pageNumber=2&filterByStar=one_star\n",
      "Scraped 11 reviews for 1 star\n",
      "Scraped 12 reviews for 1 star\n",
      "Scraped 13 reviews for 1 star\n",
      "Scraped 14 reviews for 1 star\n",
      "Scraped 15 reviews for 1 star\n",
      "Scraped 16 reviews for 1 star\n",
      "Scraped 17 reviews for 1 star\n",
      "Scraped 18 reviews for 1 star\n",
      "Scraped 19 reviews for 1 star\n",
      "Scraped 20 reviews for 1 star\n",
      "https://www.amazon.in/Apple-iPhone-13-128GB-Starlight/product-reviews/B09G9D8KRQ/ref=cm_cr_dp_d_show_all_btm?ie=UTF8&reviewerType=all_reviews&pageNumber=3&filterByStar=one_star\n",
      "Scraped 21 reviews for 1 star\n",
      "Scraped 22 reviews for 1 star\n",
      "Scraped 23 reviews for 1 star\n",
      "Scraped 24 reviews for 1 star\n",
      "Scraped 25 reviews for 1 star\n",
      "Scraped 26 reviews for 1 star\n",
      "Scraped 27 reviews for 1 star\n",
      "Scraped 28 reviews for 1 star\n",
      "Scraped 29 reviews for 1 star\n",
      "Scraped 30 reviews for 1 star\n",
      "https://www.amazon.in/Apple-iPhone-13-128GB-Starlight/product-reviews/B09G9D8KRQ/ref=cm_cr_dp_d_show_all_btm?ie=UTF8&reviewerType=all_reviews&pageNumber=4&filterByStar=one_star\n",
      "Scraped 31 reviews for 1 star\n",
      "Scraped 32 reviews for 1 star\n",
      "Scraped 33 reviews for 1 star\n",
      "Scraped 34 reviews for 1 star\n",
      "Scraped 35 reviews for 1 star\n",
      "Scraped 36 reviews for 1 star\n",
      "Scraped 37 reviews for 1 star\n",
      "Scraped 38 reviews for 1 star\n",
      "Scraped 39 reviews for 1 star\n",
      "Scraped 40 reviews for 1 star\n",
      "https://www.amazon.in/Apple-iPhone-13-128GB-Starlight/product-reviews/B09G9D8KRQ/ref=cm_cr_dp_d_show_all_btm?ie=UTF8&reviewerType=all_reviews&pageNumber=5&filterByStar=one_star\n",
      "Scraped 41 reviews for 1 star\n",
      "Scraped 42 reviews for 1 star\n",
      "Scraped 43 reviews for 1 star\n",
      "Scraped 44 reviews for 1 star\n",
      "Scraped 45 reviews for 1 star\n",
      "Scraped 46 reviews for 1 star\n",
      "Scraped 47 reviews for 1 star\n",
      "Scraped 48 reviews for 1 star\n",
      "Scraped 49 reviews for 1 star\n",
      "Scraped 50 reviews for 1 star\n",
      "https://www.amazon.in/Apple-iPhone-13-128GB-Starlight/product-reviews/B09G9D8KRQ/ref=cm_cr_dp_d_show_all_btm?ie=UTF8&reviewerType=all_reviews&pageNumber=6&filterByStar=one_star\n",
      "Scraped 51 reviews for 1 star\n",
      "Scraped 52 reviews for 1 star\n",
      "Scraped 53 reviews for 1 star\n",
      "Scraped 54 reviews for 1 star\n",
      "Scraped 55 reviews for 1 star\n",
      "Scraped 56 reviews for 1 star\n",
      "Scraped 57 reviews for 1 star\n",
      "Scraped 58 reviews for 1 star\n",
      "Scraped 59 reviews for 1 star\n",
      "Scraped 60 reviews for 1 star\n",
      "https://www.amazon.in/Apple-iPhone-13-128GB-Starlight/product-reviews/B09G9D8KRQ/ref=cm_cr_dp_d_show_all_btm?ie=UTF8&reviewerType=all_reviews&pageNumber=7&filterByStar=one_star\n",
      "Scraped 61 reviews for 1 star\n",
      "Scraped 62 reviews for 1 star\n",
      "Scraped 63 reviews for 1 star\n",
      "Scraped 64 reviews for 1 star\n",
      "Scraped 65 reviews for 1 star\n",
      "Scraped 66 reviews for 1 star\n",
      "Scraped 67 reviews for 1 star\n",
      "Scraped 68 reviews for 1 star\n",
      "Scraped 69 reviews for 1 star\n",
      "Scraped 70 reviews for 1 star\n",
      "https://www.amazon.in/Apple-iPhone-13-128GB-Starlight/product-reviews/B09G9D8KRQ/ref=cm_cr_dp_d_show_all_btm?ie=UTF8&reviewerType=all_reviews&pageNumber=8&filterByStar=one_star\n",
      "Scraped 71 reviews for 1 star\n",
      "Scraped 72 reviews for 1 star\n",
      "Scraped 73 reviews for 1 star\n",
      "Scraped 74 reviews for 1 star\n",
      "Scraped 75 reviews for 1 star\n",
      "Scraped 76 reviews for 1 star\n",
      "Scraped 77 reviews for 1 star\n",
      "Scraped 78 reviews for 1 star\n",
      "Scraped 79 reviews for 1 star\n",
      "Scraped 80 reviews for 1 star\n",
      "https://www.amazon.in/Apple-iPhone-13-128GB-Starlight/product-reviews/B09G9D8KRQ/ref=cm_cr_dp_d_show_all_btm?ie=UTF8&reviewerType=all_reviews&pageNumber=9&filterByStar=one_star\n",
      "Scraped 81 reviews for 1 star\n",
      "Scraped 82 reviews for 1 star\n",
      "Scraped 83 reviews for 1 star\n",
      "Scraped 84 reviews for 1 star\n",
      "Scraped 85 reviews for 1 star\n",
      "Scraped 86 reviews for 1 star\n",
      "Scraped 87 reviews for 1 star\n",
      "Scraped 88 reviews for 1 star\n",
      "Scraped 89 reviews for 1 star\n",
      "Scraped 90 reviews for 1 star\n",
      "https://www.amazon.in/Apple-iPhone-13-128GB-Starlight/product-reviews/B09G9D8KRQ/ref=cm_cr_dp_d_show_all_btm?ie=UTF8&reviewerType=all_reviews&pageNumber=10&filterByStar=one_star\n",
      "Scraped 91 reviews for 1 star\n",
      "Scraped 92 reviews for 1 star\n",
      "Scraped 93 reviews for 1 star\n",
      "Scraped 94 reviews for 1 star\n",
      "Scraped 95 reviews for 1 star\n",
      "Scraped 96 reviews for 1 star\n",
      "Scraped 97 reviews for 1 star\n",
      "Scraped 98 reviews for 1 star\n",
      "Scraped 99 reviews for 1 star\n",
      "Scraped 100 reviews for 1 star\n",
      "Collecting 95 reviews for 2 star with filter two_star...\n",
      "https://www.amazon.in/Apple-iPhone-13-128GB-Starlight/product-reviews/B09G9D8KRQ/ref=cm_cr_dp_d_show_all_btm?ie=UTF8&reviewerType=all_reviews&pageNumber=1&filterByStar=two_star\n",
      "Scraped 1 reviews for 2 star\n",
      "Scraped 2 reviews for 2 star\n",
      "Scraped 3 reviews for 2 star\n",
      "Scraped 4 reviews for 2 star\n",
      "Scraped 5 reviews for 2 star\n",
      "Scraped 6 reviews for 2 star\n",
      "Scraped 7 reviews for 2 star\n",
      "Scraped 8 reviews for 2 star\n",
      "Scraped 9 reviews for 2 star\n",
      "Scraped 10 reviews for 2 star\n",
      "https://www.amazon.in/Apple-iPhone-13-128GB-Starlight/product-reviews/B09G9D8KRQ/ref=cm_cr_dp_d_show_all_btm?ie=UTF8&reviewerType=all_reviews&pageNumber=2&filterByStar=two_star\n",
      "Scraped 11 reviews for 2 star\n",
      "Scraped 12 reviews for 2 star\n",
      "Scraped 13 reviews for 2 star\n",
      "Scraped 14 reviews for 2 star\n",
      "Scraped 15 reviews for 2 star\n",
      "Scraped 16 reviews for 2 star\n",
      "Scraped 17 reviews for 2 star\n",
      "Scraped 18 reviews for 2 star\n",
      "Scraped 19 reviews for 2 star\n",
      "Scraped 20 reviews for 2 star\n",
      "https://www.amazon.in/Apple-iPhone-13-128GB-Starlight/product-reviews/B09G9D8KRQ/ref=cm_cr_dp_d_show_all_btm?ie=UTF8&reviewerType=all_reviews&pageNumber=3&filterByStar=two_star\n",
      "Scraped 21 reviews for 2 star\n",
      "Scraped 22 reviews for 2 star\n",
      "Scraped 23 reviews for 2 star\n",
      "Scraped 24 reviews for 2 star\n",
      "Scraped 25 reviews for 2 star\n",
      "Scraped 26 reviews for 2 star\n",
      "Scraped 27 reviews for 2 star\n",
      "Scraped 28 reviews for 2 star\n",
      "Scraped 29 reviews for 2 star\n",
      "Scraped 30 reviews for 2 star\n",
      "https://www.amazon.in/Apple-iPhone-13-128GB-Starlight/product-reviews/B09G9D8KRQ/ref=cm_cr_dp_d_show_all_btm?ie=UTF8&reviewerType=all_reviews&pageNumber=4&filterByStar=two_star\n",
      "Scraped 31 reviews for 2 star\n",
      "Scraped 32 reviews for 2 star\n",
      "Scraped 33 reviews for 2 star\n",
      "Scraped 34 reviews for 2 star\n",
      "Scraped 35 reviews for 2 star\n",
      "Scraped 36 reviews for 2 star\n",
      "Scraped 37 reviews for 2 star\n",
      "Scraped 38 reviews for 2 star\n",
      "Scraped 39 reviews for 2 star\n",
      "Scraped 40 reviews for 2 star\n",
      "https://www.amazon.in/Apple-iPhone-13-128GB-Starlight/product-reviews/B09G9D8KRQ/ref=cm_cr_dp_d_show_all_btm?ie=UTF8&reviewerType=all_reviews&pageNumber=5&filterByStar=two_star\n",
      "Scraped 41 reviews for 2 star\n",
      "Scraped 42 reviews for 2 star\n",
      "Scraped 43 reviews for 2 star\n",
      "Scraped 44 reviews for 2 star\n",
      "Scraped 45 reviews for 2 star\n",
      "Scraped 46 reviews for 2 star\n",
      "Scraped 47 reviews for 2 star\n",
      "Scraped 48 reviews for 2 star\n",
      "Scraped 49 reviews for 2 star\n",
      "Scraped 50 reviews for 2 star\n",
      "https://www.amazon.in/Apple-iPhone-13-128GB-Starlight/product-reviews/B09G9D8KRQ/ref=cm_cr_dp_d_show_all_btm?ie=UTF8&reviewerType=all_reviews&pageNumber=6&filterByStar=two_star\n",
      "Scraped 51 reviews for 2 star\n",
      "Scraped 52 reviews for 2 star\n",
      "Scraped 53 reviews for 2 star\n",
      "Scraped 54 reviews for 2 star\n",
      "Scraped 55 reviews for 2 star\n",
      "Scraped 56 reviews for 2 star\n",
      "Scraped 57 reviews for 2 star\n",
      "Scraped 58 reviews for 2 star\n",
      "Scraped 59 reviews for 2 star\n",
      "Scraped 60 reviews for 2 star\n",
      "https://www.amazon.in/Apple-iPhone-13-128GB-Starlight/product-reviews/B09G9D8KRQ/ref=cm_cr_dp_d_show_all_btm?ie=UTF8&reviewerType=all_reviews&pageNumber=7&filterByStar=two_star\n",
      "Scraped 61 reviews for 2 star\n",
      "Scraped 62 reviews for 2 star\n",
      "Scraped 63 reviews for 2 star\n",
      "Scraped 64 reviews for 2 star\n",
      "Scraped 65 reviews for 2 star\n",
      "Scraped 66 reviews for 2 star\n",
      "Scraped 67 reviews for 2 star\n",
      "Scraped 68 reviews for 2 star\n",
      "Scraped 69 reviews for 2 star\n",
      "Scraped 70 reviews for 2 star\n"
     ]
    },
    {
     "name": "stdout",
     "output_type": "stream",
     "text": [
      "https://www.amazon.in/Apple-iPhone-13-128GB-Starlight/product-reviews/B09G9D8KRQ/ref=cm_cr_dp_d_show_all_btm?ie=UTF8&reviewerType=all_reviews&pageNumber=8&filterByStar=two_star\n",
      "Scraped 71 reviews for 2 star\n",
      "Scraped 72 reviews for 2 star\n",
      "Scraped 73 reviews for 2 star\n",
      "Scraped 74 reviews for 2 star\n",
      "Scraped 75 reviews for 2 star\n",
      "Scraped 76 reviews for 2 star\n",
      "Scraped 77 reviews for 2 star\n",
      "Scraped 78 reviews for 2 star\n",
      "Scraped 79 reviews for 2 star\n",
      "Scraped 80 reviews for 2 star\n",
      "https://www.amazon.in/Apple-iPhone-13-128GB-Starlight/product-reviews/B09G9D8KRQ/ref=cm_cr_dp_d_show_all_btm?ie=UTF8&reviewerType=all_reviews&pageNumber=9&filterByStar=two_star\n",
      "Scraped 81 reviews for 2 star\n",
      "Scraped 82 reviews for 2 star\n",
      "Scraped 83 reviews for 2 star\n",
      "Scraped 84 reviews for 2 star\n",
      "Scraped 85 reviews for 2 star\n",
      "Scraped 86 reviews for 2 star\n",
      "Scraped 87 reviews for 2 star\n",
      "Scraped 88 reviews for 2 star\n",
      "Scraped 89 reviews for 2 star\n",
      "Scraped 90 reviews for 2 star\n",
      "https://www.amazon.in/Apple-iPhone-13-128GB-Starlight/product-reviews/B09G9D8KRQ/ref=cm_cr_dp_d_show_all_btm?ie=UTF8&reviewerType=all_reviews&pageNumber=10&filterByStar=two_star\n",
      "Scraped 91 reviews for 2 star\n",
      "Scraped 92 reviews for 2 star\n",
      "Scraped 93 reviews for 2 star\n",
      "Scraped 94 reviews for 2 star\n",
      "Scraped 95 reviews for 2 star\n",
      "Collecting 124 reviews for 3 star with filter three_star...\n",
      "https://www.amazon.in/Apple-iPhone-13-128GB-Starlight/product-reviews/B09G9D8KRQ/ref=cm_cr_dp_d_show_all_btm?ie=UTF8&reviewerType=all_reviews&pageNumber=1&filterByStar=three_star\n",
      "Scraped 1 reviews for 3 star\n",
      "Scraped 2 reviews for 3 star\n",
      "Scraped 3 reviews for 3 star\n",
      "Scraped 4 reviews for 3 star\n",
      "Scraped 5 reviews for 3 star\n",
      "Scraped 6 reviews for 3 star\n",
      "Scraped 7 reviews for 3 star\n",
      "Scraped 8 reviews for 3 star\n",
      "Scraped 9 reviews for 3 star\n",
      "Scraped 10 reviews for 3 star\n",
      "https://www.amazon.in/Apple-iPhone-13-128GB-Starlight/product-reviews/B09G9D8KRQ/ref=cm_cr_dp_d_show_all_btm?ie=UTF8&reviewerType=all_reviews&pageNumber=2&filterByStar=three_star\n",
      "Scraped 11 reviews for 3 star\n",
      "Scraped 12 reviews for 3 star\n",
      "Scraped 13 reviews for 3 star\n",
      "Scraped 14 reviews for 3 star\n",
      "Scraped 15 reviews for 3 star\n",
      "Scraped 16 reviews for 3 star\n",
      "Scraped 17 reviews for 3 star\n",
      "Scraped 18 reviews for 3 star\n",
      "Scraped 19 reviews for 3 star\n",
      "Scraped 20 reviews for 3 star\n",
      "https://www.amazon.in/Apple-iPhone-13-128GB-Starlight/product-reviews/B09G9D8KRQ/ref=cm_cr_dp_d_show_all_btm?ie=UTF8&reviewerType=all_reviews&pageNumber=3&filterByStar=three_star\n",
      "Scraped 21 reviews for 3 star\n",
      "Scraped 22 reviews for 3 star\n",
      "Scraped 23 reviews for 3 star\n",
      "Scraped 24 reviews for 3 star\n",
      "Scraped 25 reviews for 3 star\n",
      "Scraped 26 reviews for 3 star\n",
      "Scraped 27 reviews for 3 star\n",
      "Scraped 28 reviews for 3 star\n",
      "Scraped 29 reviews for 3 star\n",
      "Scraped 30 reviews for 3 star\n",
      "https://www.amazon.in/Apple-iPhone-13-128GB-Starlight/product-reviews/B09G9D8KRQ/ref=cm_cr_dp_d_show_all_btm?ie=UTF8&reviewerType=all_reviews&pageNumber=4&filterByStar=three_star\n",
      "Scraped 31 reviews for 3 star\n",
      "Scraped 32 reviews for 3 star\n",
      "Scraped 33 reviews for 3 star\n",
      "Scraped 34 reviews for 3 star\n",
      "Scraped 35 reviews for 3 star\n",
      "Scraped 36 reviews for 3 star\n",
      "Scraped 37 reviews for 3 star\n",
      "Scraped 38 reviews for 3 star\n",
      "Scraped 39 reviews for 3 star\n",
      "Scraped 40 reviews for 3 star\n",
      "https://www.amazon.in/Apple-iPhone-13-128GB-Starlight/product-reviews/B09G9D8KRQ/ref=cm_cr_dp_d_show_all_btm?ie=UTF8&reviewerType=all_reviews&pageNumber=5&filterByStar=three_star\n",
      "Scraped 41 reviews for 3 star\n",
      "Scraped 42 reviews for 3 star\n",
      "Scraped 43 reviews for 3 star\n",
      "Scraped 44 reviews for 3 star\n",
      "Scraped 45 reviews for 3 star\n",
      "Scraped 46 reviews for 3 star\n",
      "Scraped 47 reviews for 3 star\n",
      "Scraped 48 reviews for 3 star\n",
      "Scraped 49 reviews for 3 star\n",
      "Scraped 50 reviews for 3 star\n",
      "https://www.amazon.in/Apple-iPhone-13-128GB-Starlight/product-reviews/B09G9D8KRQ/ref=cm_cr_dp_d_show_all_btm?ie=UTF8&reviewerType=all_reviews&pageNumber=6&filterByStar=three_star\n",
      "Scraped 51 reviews for 3 star\n",
      "Scraped 52 reviews for 3 star\n",
      "Scraped 53 reviews for 3 star\n",
      "Scraped 54 reviews for 3 star\n",
      "Scraped 55 reviews for 3 star\n",
      "Scraped 56 reviews for 3 star\n",
      "Scraped 57 reviews for 3 star\n",
      "Scraped 58 reviews for 3 star\n",
      "Scraped 59 reviews for 3 star\n",
      "Scraped 60 reviews for 3 star\n",
      "https://www.amazon.in/Apple-iPhone-13-128GB-Starlight/product-reviews/B09G9D8KRQ/ref=cm_cr_dp_d_show_all_btm?ie=UTF8&reviewerType=all_reviews&pageNumber=7&filterByStar=three_star\n",
      "Scraped 61 reviews for 3 star\n",
      "Scraped 62 reviews for 3 star\n",
      "Scraped 63 reviews for 3 star\n",
      "Scraped 64 reviews for 3 star\n",
      "Scraped 65 reviews for 3 star\n",
      "Scraped 66 reviews for 3 star\n",
      "Scraped 67 reviews for 3 star\n",
      "Scraped 68 reviews for 3 star\n",
      "Scraped 69 reviews for 3 star\n",
      "Scraped 70 reviews for 3 star\n",
      "https://www.amazon.in/Apple-iPhone-13-128GB-Starlight/product-reviews/B09G9D8KRQ/ref=cm_cr_dp_d_show_all_btm?ie=UTF8&reviewerType=all_reviews&pageNumber=8&filterByStar=three_star\n",
      "Scraped 71 reviews for 3 star\n",
      "Scraped 72 reviews for 3 star\n",
      "Scraped 73 reviews for 3 star\n",
      "Scraped 74 reviews for 3 star\n",
      "Scraped 75 reviews for 3 star\n",
      "Scraped 76 reviews for 3 star\n",
      "Scraped 77 reviews for 3 star\n",
      "Scraped 78 reviews for 3 star\n",
      "Scraped 79 reviews for 3 star\n",
      "Scraped 80 reviews for 3 star\n",
      "https://www.amazon.in/Apple-iPhone-13-128GB-Starlight/product-reviews/B09G9D8KRQ/ref=cm_cr_dp_d_show_all_btm?ie=UTF8&reviewerType=all_reviews&pageNumber=9&filterByStar=three_star\n",
      "Scraped 81 reviews for 3 star\n",
      "Scraped 82 reviews for 3 star\n",
      "Scraped 83 reviews for 3 star\n",
      "Scraped 84 reviews for 3 star\n",
      "Scraped 85 reviews for 3 star\n",
      "Scraped 86 reviews for 3 star\n",
      "Scraped 87 reviews for 3 star\n",
      "Scraped 88 reviews for 3 star\n",
      "Scraped 89 reviews for 3 star\n",
      "Scraped 90 reviews for 3 star\n",
      "https://www.amazon.in/Apple-iPhone-13-128GB-Starlight/product-reviews/B09G9D8KRQ/ref=cm_cr_dp_d_show_all_btm?ie=UTF8&reviewerType=all_reviews&pageNumber=10&filterByStar=three_star\n",
      "Scraped 91 reviews for 3 star\n",
      "Scraped 92 reviews for 3 star\n",
      "Scraped 93 reviews for 3 star\n",
      "Scraped 94 reviews for 3 star\n",
      "Scraped 95 reviews for 3 star\n",
      "Scraped 96 reviews for 3 star\n",
      "Scraped 97 reviews for 3 star\n",
      "Scraped 98 reviews for 3 star\n",
      "Scraped 99 reviews for 3 star\n",
      "Scraped 100 reviews for 3 star\n",
      "Collecting 442 reviews for 4 star with filter four_star...\n",
      "https://www.amazon.in/Apple-iPhone-13-128GB-Starlight/product-reviews/B09G9D8KRQ/ref=cm_cr_dp_d_show_all_btm?ie=UTF8&reviewerType=all_reviews&pageNumber=1&filterByStar=four_star\n",
      "Scraped 1 reviews for 4 star\n",
      "Scraped 2 reviews for 4 star\n",
      "Scraped 3 reviews for 4 star\n",
      "Scraped 4 reviews for 4 star\n",
      "Scraped 5 reviews for 4 star\n",
      "Scraped 6 reviews for 4 star\n",
      "Scraped 7 reviews for 4 star\n",
      "Scraped 8 reviews for 4 star\n",
      "Scraped 9 reviews for 4 star\n",
      "Scraped 10 reviews for 4 star\n",
      "https://www.amazon.in/Apple-iPhone-13-128GB-Starlight/product-reviews/B09G9D8KRQ/ref=cm_cr_dp_d_show_all_btm?ie=UTF8&reviewerType=all_reviews&pageNumber=2&filterByStar=four_star\n",
      "Scraped 11 reviews for 4 star\n",
      "Scraped 12 reviews for 4 star\n",
      "Scraped 13 reviews for 4 star\n",
      "Scraped 14 reviews for 4 star\n",
      "Scraped 15 reviews for 4 star\n",
      "Scraped 16 reviews for 4 star\n",
      "Scraped 17 reviews for 4 star\n",
      "Scraped 18 reviews for 4 star\n",
      "Scraped 19 reviews for 4 star\n",
      "Scraped 20 reviews for 4 star\n",
      "https://www.amazon.in/Apple-iPhone-13-128GB-Starlight/product-reviews/B09G9D8KRQ/ref=cm_cr_dp_d_show_all_btm?ie=UTF8&reviewerType=all_reviews&pageNumber=3&filterByStar=four_star\n",
      "Scraped 21 reviews for 4 star\n",
      "Scraped 22 reviews for 4 star\n",
      "Scraped 23 reviews for 4 star\n",
      "Scraped 24 reviews for 4 star\n",
      "Scraped 25 reviews for 4 star\n",
      "Scraped 26 reviews for 4 star\n",
      "Scraped 27 reviews for 4 star\n",
      "Scraped 28 reviews for 4 star\n",
      "Scraped 29 reviews for 4 star\n",
      "Scraped 30 reviews for 4 star\n",
      "https://www.amazon.in/Apple-iPhone-13-128GB-Starlight/product-reviews/B09G9D8KRQ/ref=cm_cr_dp_d_show_all_btm?ie=UTF8&reviewerType=all_reviews&pageNumber=4&filterByStar=four_star\n",
      "Scraped 31 reviews for 4 star\n",
      "Scraped 32 reviews for 4 star\n",
      "Scraped 33 reviews for 4 star\n",
      "Scraped 34 reviews for 4 star\n",
      "Scraped 35 reviews for 4 star\n",
      "Scraped 36 reviews for 4 star\n",
      "Scraped 37 reviews for 4 star\n",
      "Scraped 38 reviews for 4 star\n",
      "Scraped 39 reviews for 4 star\n",
      "Scraped 40 reviews for 4 star\n",
      "https://www.amazon.in/Apple-iPhone-13-128GB-Starlight/product-reviews/B09G9D8KRQ/ref=cm_cr_dp_d_show_all_btm?ie=UTF8&reviewerType=all_reviews&pageNumber=5&filterByStar=four_star\n"
     ]
    },
    {
     "name": "stdout",
     "output_type": "stream",
     "text": [
      "Scraped 41 reviews for 4 star\n",
      "Scraped 42 reviews for 4 star\n",
      "Scraped 43 reviews for 4 star\n",
      "Scraped 44 reviews for 4 star\n",
      "Scraped 45 reviews for 4 star\n",
      "Scraped 46 reviews for 4 star\n",
      "Scraped 47 reviews for 4 star\n",
      "Scraped 48 reviews for 4 star\n",
      "Scraped 49 reviews for 4 star\n",
      "Scraped 50 reviews for 4 star\n",
      "https://www.amazon.in/Apple-iPhone-13-128GB-Starlight/product-reviews/B09G9D8KRQ/ref=cm_cr_dp_d_show_all_btm?ie=UTF8&reviewerType=all_reviews&pageNumber=6&filterByStar=four_star\n",
      "Scraped 51 reviews for 4 star\n",
      "Scraped 52 reviews for 4 star\n",
      "Scraped 53 reviews for 4 star\n",
      "Scraped 54 reviews for 4 star\n",
      "Scraped 55 reviews for 4 star\n",
      "Scraped 56 reviews for 4 star\n",
      "Scraped 57 reviews for 4 star\n",
      "Scraped 58 reviews for 4 star\n",
      "Scraped 59 reviews for 4 star\n",
      "Scraped 60 reviews for 4 star\n",
      "https://www.amazon.in/Apple-iPhone-13-128GB-Starlight/product-reviews/B09G9D8KRQ/ref=cm_cr_dp_d_show_all_btm?ie=UTF8&reviewerType=all_reviews&pageNumber=7&filterByStar=four_star\n",
      "Scraped 61 reviews for 4 star\n",
      "Scraped 62 reviews for 4 star\n",
      "Scraped 63 reviews for 4 star\n",
      "Scraped 64 reviews for 4 star\n",
      "Scraped 65 reviews for 4 star\n",
      "Scraped 66 reviews for 4 star\n",
      "Scraped 67 reviews for 4 star\n",
      "Scraped 68 reviews for 4 star\n",
      "Scraped 69 reviews for 4 star\n",
      "Scraped 70 reviews for 4 star\n",
      "https://www.amazon.in/Apple-iPhone-13-128GB-Starlight/product-reviews/B09G9D8KRQ/ref=cm_cr_dp_d_show_all_btm?ie=UTF8&reviewerType=all_reviews&pageNumber=8&filterByStar=four_star\n",
      "Scraped 71 reviews for 4 star\n",
      "Scraped 72 reviews for 4 star\n",
      "Scraped 73 reviews for 4 star\n",
      "Scraped 74 reviews for 4 star\n",
      "Scraped 75 reviews for 4 star\n",
      "Scraped 76 reviews for 4 star\n",
      "Scraped 77 reviews for 4 star\n",
      "Scraped 78 reviews for 4 star\n",
      "Scraped 79 reviews for 4 star\n",
      "Scraped 80 reviews for 4 star\n",
      "https://www.amazon.in/Apple-iPhone-13-128GB-Starlight/product-reviews/B09G9D8KRQ/ref=cm_cr_dp_d_show_all_btm?ie=UTF8&reviewerType=all_reviews&pageNumber=9&filterByStar=four_star\n",
      "Scraped 81 reviews for 4 star\n",
      "Scraped 82 reviews for 4 star\n",
      "Scraped 83 reviews for 4 star\n",
      "Scraped 84 reviews for 4 star\n",
      "Scraped 85 reviews for 4 star\n",
      "Scraped 86 reviews for 4 star\n",
      "Scraped 87 reviews for 4 star\n",
      "Scraped 88 reviews for 4 star\n",
      "Scraped 89 reviews for 4 star\n",
      "Scraped 90 reviews for 4 star\n",
      "https://www.amazon.in/Apple-iPhone-13-128GB-Starlight/product-reviews/B09G9D8KRQ/ref=cm_cr_dp_d_show_all_btm?ie=UTF8&reviewerType=all_reviews&pageNumber=10&filterByStar=four_star\n",
      "Scraped 91 reviews for 4 star\n",
      "Scraped 92 reviews for 4 star\n",
      "Scraped 93 reviews for 4 star\n",
      "Scraped 94 reviews for 4 star\n",
      "Scraped 95 reviews for 4 star\n",
      "Scraped 96 reviews for 4 star\n",
      "Scraped 97 reviews for 4 star\n",
      "Scraped 98 reviews for 4 star\n",
      "Scraped 99 reviews for 4 star\n",
      "Scraped 100 reviews for 4 star\n",
      "Collecting 2419 reviews for 5 star with filter five_star...\n",
      "https://www.amazon.in/Apple-iPhone-13-128GB-Starlight/product-reviews/B09G9D8KRQ/ref=cm_cr_dp_d_show_all_btm?ie=UTF8&reviewerType=all_reviews&pageNumber=1&filterByStar=five_star\n",
      "Scraped 1 reviews for 5 star\n",
      "Scraped 2 reviews for 5 star\n",
      "Scraped 3 reviews for 5 star\n",
      "Scraped 4 reviews for 5 star\n",
      "Scraped 5 reviews for 5 star\n",
      "Scraped 6 reviews for 5 star\n",
      "Scraped 7 reviews for 5 star\n",
      "Scraped 8 reviews for 5 star\n",
      "Scraped 9 reviews for 5 star\n",
      "Scraped 10 reviews for 5 star\n",
      "https://www.amazon.in/Apple-iPhone-13-128GB-Starlight/product-reviews/B09G9D8KRQ/ref=cm_cr_dp_d_show_all_btm?ie=UTF8&reviewerType=all_reviews&pageNumber=2&filterByStar=five_star\n",
      "Scraped 11 reviews for 5 star\n",
      "Scraped 12 reviews for 5 star\n",
      "Scraped 13 reviews for 5 star\n",
      "Scraped 14 reviews for 5 star\n",
      "Scraped 15 reviews for 5 star\n",
      "Scraped 16 reviews for 5 star\n",
      "Scraped 17 reviews for 5 star\n",
      "Scraped 18 reviews for 5 star\n",
      "Scraped 19 reviews for 5 star\n",
      "Scraped 20 reviews for 5 star\n",
      "https://www.amazon.in/Apple-iPhone-13-128GB-Starlight/product-reviews/B09G9D8KRQ/ref=cm_cr_dp_d_show_all_btm?ie=UTF8&reviewerType=all_reviews&pageNumber=3&filterByStar=five_star\n",
      "Scraped 21 reviews for 5 star\n",
      "Scraped 22 reviews for 5 star\n",
      "Scraped 23 reviews for 5 star\n",
      "Scraped 24 reviews for 5 star\n",
      "Scraped 25 reviews for 5 star\n",
      "Scraped 26 reviews for 5 star\n",
      "Scraped 27 reviews for 5 star\n",
      "Scraped 28 reviews for 5 star\n",
      "Scraped 29 reviews for 5 star\n",
      "Scraped 30 reviews for 5 star\n",
      "https://www.amazon.in/Apple-iPhone-13-128GB-Starlight/product-reviews/B09G9D8KRQ/ref=cm_cr_dp_d_show_all_btm?ie=UTF8&reviewerType=all_reviews&pageNumber=4&filterByStar=five_star\n",
      "Scraped 31 reviews for 5 star\n",
      "Scraped 32 reviews for 5 star\n",
      "Scraped 33 reviews for 5 star\n",
      "Scraped 34 reviews for 5 star\n",
      "Scraped 35 reviews for 5 star\n",
      "Scraped 36 reviews for 5 star\n",
      "Scraped 37 reviews for 5 star\n",
      "Scraped 38 reviews for 5 star\n",
      "Scraped 39 reviews for 5 star\n",
      "Scraped 40 reviews for 5 star\n",
      "https://www.amazon.in/Apple-iPhone-13-128GB-Starlight/product-reviews/B09G9D8KRQ/ref=cm_cr_dp_d_show_all_btm?ie=UTF8&reviewerType=all_reviews&pageNumber=5&filterByStar=five_star\n",
      "Scraped 41 reviews for 5 star\n",
      "Scraped 42 reviews for 5 star\n",
      "Scraped 43 reviews for 5 star\n",
      "Scraped 44 reviews for 5 star\n",
      "Scraped 45 reviews for 5 star\n",
      "Scraped 46 reviews for 5 star\n",
      "Scraped 47 reviews for 5 star\n",
      "Scraped 48 reviews for 5 star\n",
      "Scraped 49 reviews for 5 star\n",
      "Scraped 50 reviews for 5 star\n",
      "https://www.amazon.in/Apple-iPhone-13-128GB-Starlight/product-reviews/B09G9D8KRQ/ref=cm_cr_dp_d_show_all_btm?ie=UTF8&reviewerType=all_reviews&pageNumber=6&filterByStar=five_star\n",
      "Scraped 51 reviews for 5 star\n",
      "Scraped 52 reviews for 5 star\n",
      "Scraped 53 reviews for 5 star\n",
      "Scraped 54 reviews for 5 star\n",
      "Scraped 55 reviews for 5 star\n",
      "Scraped 56 reviews for 5 star\n",
      "Scraped 57 reviews for 5 star\n",
      "Scraped 58 reviews for 5 star\n",
      "Scraped 59 reviews for 5 star\n",
      "Scraped 60 reviews for 5 star\n",
      "https://www.amazon.in/Apple-iPhone-13-128GB-Starlight/product-reviews/B09G9D8KRQ/ref=cm_cr_dp_d_show_all_btm?ie=UTF8&reviewerType=all_reviews&pageNumber=7&filterByStar=five_star\n",
      "Scraped 61 reviews for 5 star\n",
      "Scraped 62 reviews for 5 star\n",
      "Scraped 63 reviews for 5 star\n",
      "Scraped 64 reviews for 5 star\n",
      "Scraped 65 reviews for 5 star\n",
      "Scraped 66 reviews for 5 star\n",
      "Scraped 67 reviews for 5 star\n",
      "Scraped 68 reviews for 5 star\n",
      "Scraped 69 reviews for 5 star\n",
      "Scraped 70 reviews for 5 star\n",
      "https://www.amazon.in/Apple-iPhone-13-128GB-Starlight/product-reviews/B09G9D8KRQ/ref=cm_cr_dp_d_show_all_btm?ie=UTF8&reviewerType=all_reviews&pageNumber=8&filterByStar=five_star\n",
      "Scraped 71 reviews for 5 star\n",
      "Scraped 72 reviews for 5 star\n",
      "Scraped 73 reviews for 5 star\n",
      "Scraped 74 reviews for 5 star\n",
      "Scraped 75 reviews for 5 star\n",
      "Scraped 76 reviews for 5 star\n",
      "Scraped 77 reviews for 5 star\n",
      "Scraped 78 reviews for 5 star\n",
      "Scraped 79 reviews for 5 star\n",
      "Scraped 80 reviews for 5 star\n",
      "https://www.amazon.in/Apple-iPhone-13-128GB-Starlight/product-reviews/B09G9D8KRQ/ref=cm_cr_dp_d_show_all_btm?ie=UTF8&reviewerType=all_reviews&pageNumber=9&filterByStar=five_star\n",
      "Scraped 81 reviews for 5 star\n",
      "Scraped 82 reviews for 5 star\n",
      "Scraped 83 reviews for 5 star\n",
      "Scraped 84 reviews for 5 star\n",
      "Scraped 85 reviews for 5 star\n",
      "Scraped 86 reviews for 5 star\n",
      "Scraped 87 reviews for 5 star\n",
      "Scraped 88 reviews for 5 star\n",
      "Scraped 89 reviews for 5 star\n",
      "Scraped 90 reviews for 5 star\n",
      "https://www.amazon.in/Apple-iPhone-13-128GB-Starlight/product-reviews/B09G9D8KRQ/ref=cm_cr_dp_d_show_all_btm?ie=UTF8&reviewerType=all_reviews&pageNumber=10&filterByStar=five_star\n",
      "Scraped 91 reviews for 5 star\n",
      "Scraped 92 reviews for 5 star\n",
      "Scraped 93 reviews for 5 star\n",
      "Scraped 94 reviews for 5 star\n",
      "Scraped 95 reviews for 5 star\n",
      "Scraped 96 reviews for 5 star\n",
      "Scraped 97 reviews for 5 star\n",
      "Scraped 98 reviews for 5 star\n",
      "Scraped 99 reviews for 5 star\n",
      "Scraped 100 reviews for 5 star\n"
     ]
    }
   ],
   "source": [
    "# Initialize an empty DataFrame to store all reviews\n",
    "all_reviews = pd.DataFrame()\n",
    "\n",
    "# Define the mapping of rating text to filter values\n",
    "rating_to_filter = {\n",
    "    '1 star': 'one_star',\n",
    "    '2 star': 'two_star',\n",
    "    '3 star': 'three_star',\n",
    "    '4 star': 'four_star',\n",
    "    '5 star': 'five_star'\n",
    "}\n",
    "\n",
    "# Updated get_reviews function\n",
    "def get_reviews(driver, rating_text, total_reviews, filters):\n",
    "    try:\n",
    "        # Initialize an empty list to collect reviews\n",
    "        reviews_list = []\n",
    "        collected_reviews = 0\n",
    "        page_number = 1\n",
    "\n",
    "        while page_number <= 10:\n",
    "            time.sleep(2)\n",
    "            \n",
    "            # Update the URL with the current page number and filter\n",
    "            url = f\"{url1}&pageNumber={page_number}&filterByStar={filters}\"\n",
    "            print(url)\n",
    "            driver.get(url)\n",
    "\n",
    "            # Wait for the rating button to be clickable and click it\n",
    "            rating_button = WebDriverWait(driver, 20).until(EC.element_to_be_clickable((By.LINK_TEXT, rating_text)))\n",
    "            rating_button.click()\n",
    "\n",
    "            # Get the page source after the click\n",
    "            html = driver.page_source\n",
    "\n",
    "            # Parse the page source with BeautifulSoup\n",
    "            soup = BeautifulSoup(html, 'html.parser')\n",
    "\n",
    "            # Find all the reviews on the current page\n",
    "            reviews = soup.find_all('div', {'data-hook': 'review'})\n",
    "            \n",
    "            for review in reviews:\n",
    "                title = review.find('a', {'data-hook': 'review-title'}).text.strip() if review.find('a', {'data-hook': 'review-title'}) else ''\n",
    "                rating = review.find('i', {'data-hook': 'review-star-rating'}).text.strip() if review.find('i', {'data-hook': 'review-star-rating'}) else ''\n",
    "                date = review.find('span', {'data-hook': 'review-date'}).text.strip() if review.find('span', {'data-hook': 'review-date'}) else ''\n",
    "                body = review.find('span', {'data-hook': 'review-body'}).text.strip() if review.find('span', {'data-hook': 'review-body'}) else ''\n",
    "                details = review.find('a', {'data-hook': 'format-strip'}).text.strip() if review.find('a', {'data-hook': 'format-strip'}) else ''\n",
    "\n",
    "                reviews_list.append({\n",
    "                    'title': title,\n",
    "                    'rating': rating,\n",
    "                    'date': date,\n",
    "                    'body': body,\n",
    "                    'details': details\n",
    "                })\n",
    "\n",
    "                collected_reviews += 1\n",
    "                print(f\"Scraped {collected_reviews} reviews for {rating_text}\")\n",
    "\n",
    "                # Stop if the total_reviews count is reached (if you still want this check)\n",
    "                if collected_reviews >= total_reviews:\n",
    "                    break\n",
    "\n",
    "            # Clear cookies to avoid session issues\n",
    "            driver.delete_all_cookies()\n",
    "\n",
    "            page_number += 1\n",
    "\n",
    "        return pd.DataFrame(reviews_list)\n",
    "    except Exception as e:\n",
    "        print(f\"An error occurred: {e}\")\n",
    "        return None\n",
    "\n",
    "# Assume updated_stars and other configurations are defined as needed\n",
    "for star, values in updated_stars.items():\n",
    "    rating_text = star  # e.g., '1 star', '2 star', etc.\n",
    "    total_reviews = values['reviews']\n",
    "\n",
    "    # Determine the filter based on rating text\n",
    "    filters = rating_to_filter.get(rating_text, 'all_stars')\n",
    "\n",
    "    print(f\"Collecting {total_reviews} reviews for {rating_text} with filter {filters}...\")\n",
    "\n",
    "    # Pass the filter to the get_reviews function\n",
    "    reviews_df = get_reviews(driver, rating_text, total_reviews, filters)\n",
    "    \n",
    "    if reviews_df is not None:\n",
    "        all_reviews = pd.concat([all_reviews, reviews_df], ignore_index=True)"
   ]
  },
  {
   "cell_type": "code",
   "execution_count": 227,
   "metadata": {},
   "outputs": [
    {
     "data": {
      "text/html": [
       "<div>\n",
       "<style scoped>\n",
       "    .dataframe tbody tr th:only-of-type {\n",
       "        vertical-align: middle;\n",
       "    }\n",
       "\n",
       "    .dataframe tbody tr th {\n",
       "        vertical-align: top;\n",
       "    }\n",
       "\n",
       "    .dataframe thead th {\n",
       "        text-align: right;\n",
       "    }\n",
       "</style>\n",
       "<table border=\"1\" class=\"dataframe\">\n",
       "  <thead>\n",
       "    <tr style=\"text-align: right;\">\n",
       "      <th></th>\n",
       "      <th>title</th>\n",
       "      <th>rating</th>\n",
       "      <th>date</th>\n",
       "      <th>body</th>\n",
       "      <th>details</th>\n",
       "    </tr>\n",
       "  </thead>\n",
       "  <tbody>\n",
       "    <tr>\n",
       "      <th>0</th>\n",
       "      <td>1.0 out of 5 stars\\nIt is a total waste of money!</td>\n",
       "      <td>1.0 out of 5 stars</td>\n",
       "      <td>Reviewed in India on 7 October 2023</td>\n",
       "      <td>Things to remember before you buy an Iphone -1...</td>\n",
       "      <td>Colour: PinkSize: 128 GB</td>\n",
       "    </tr>\n",
       "    <tr>\n",
       "      <th>1</th>\n",
       "      <td>1.0 out of 5 stars\\nI am or sure if the produc...</td>\n",
       "      <td>1.0 out of 5 stars</td>\n",
       "      <td>Reviewed in India on 22 May 2024</td>\n",
       "      <td>When ever I am speaking I have problem with sp...</td>\n",
       "      <td>Colour: PinkSize: 128 GB</td>\n",
       "    </tr>\n",
       "    <tr>\n",
       "      <th>2</th>\n",
       "      <td>1.0 out of 5 stars\\n👎🏻</td>\n",
       "      <td>1.0 out of 5 stars</td>\n",
       "      <td>Reviewed in India on 25 April 2024</td>\n",
       "      <td>Bekr phone hai iPhone 13 bhut slow hai bettery...</td>\n",
       "      <td>Colour: StarlightSize: 128 GB</td>\n",
       "    </tr>\n",
       "    <tr>\n",
       "      <th>3</th>\n",
       "      <td>1.0 out of 5 stars\\nHeating and poor performan...</td>\n",
       "      <td>1.0 out of 5 stars</td>\n",
       "      <td>Reviewed in India on 10 May 2024</td>\n",
       "      <td>Heating , sounds not goodOnly name and brand p...</td>\n",
       "      <td>Colour: GreenSize: 128 GB</td>\n",
       "    </tr>\n",
       "    <tr>\n",
       "      <th>4</th>\n",
       "      <td>1.0 out of 5 stars\\nscratch on display</td>\n",
       "      <td>1.0 out of 5 stars</td>\n",
       "      <td>Reviewed in India on 13 May 2024</td>\n",
       "      <td>found scratches on my new iPhone 13 and I am u...</td>\n",
       "      <td>Colour: MidnightSize: 128 GB</td>\n",
       "    </tr>\n",
       "    <tr>\n",
       "      <th>...</th>\n",
       "      <td>...</td>\n",
       "      <td>...</td>\n",
       "      <td>...</td>\n",
       "      <td>...</td>\n",
       "      <td>...</td>\n",
       "    </tr>\n",
       "    <tr>\n",
       "      <th>490</th>\n",
       "      <td>5.0 out of 5 stars\\nAlways a king</td>\n",
       "      <td>5.0 out of 5 stars</td>\n",
       "      <td>Reviewed in India on 20 March 2024</td>\n",
       "      <td>Best experience in using when compared to andr...</td>\n",
       "      <td>Colour: PinkSize: 512 GB</td>\n",
       "    </tr>\n",
       "    <tr>\n",
       "      <th>491</th>\n",
       "      <td>5.0 out of 5 stars\\nWholesome bundle of worthi...</td>\n",
       "      <td>5.0 out of 5 stars</td>\n",
       "      <td>Reviewed in India on 1 March 2024</td>\n",
       "      <td>Best of all the iPhones. If anyone wants to up...</td>\n",
       "      <td>Colour: BlueSize: 128 GB</td>\n",
       "    </tr>\n",
       "    <tr>\n",
       "      <th>492</th>\n",
       "      <td>5.0 out of 5 stars\\nBeautiful</td>\n",
       "      <td>5.0 out of 5 stars</td>\n",
       "      <td>Reviewed in India on 2 April 2024</td>\n",
       "      <td></td>\n",
       "      <td>Colour: PinkSize: 128 GB</td>\n",
       "    </tr>\n",
       "    <tr>\n",
       "      <th>493</th>\n",
       "      <td>5.0 out of 5 stars\\nMajha aagya</td>\n",
       "      <td>5.0 out of 5 stars</td>\n",
       "      <td>Reviewed in India on 31 March 2024</td>\n",
       "      <td>Waah yr mast phone hai</td>\n",
       "      <td>Colour: BlueSize: 128 GB</td>\n",
       "    </tr>\n",
       "    <tr>\n",
       "      <th>494</th>\n",
       "      <td>5.0 out of 5 stars\\nFantastic First iPhone Exp...</td>\n",
       "      <td>5.0 out of 5 stars</td>\n",
       "      <td>Reviewed in India on 11 March 2024</td>\n",
       "      <td>I recently got my hands on the iPhone 13, and ...</td>\n",
       "      <td>Colour: BlueSize: 128 GB</td>\n",
       "    </tr>\n",
       "  </tbody>\n",
       "</table>\n",
       "<p>495 rows × 5 columns</p>\n",
       "</div>"
      ],
      "text/plain": [
       "                                                 title              rating  \\\n",
       "0    1.0 out of 5 stars\\nIt is a total waste of money!  1.0 out of 5 stars   \n",
       "1    1.0 out of 5 stars\\nI am or sure if the produc...  1.0 out of 5 stars   \n",
       "2                               1.0 out of 5 stars\\n👎🏻  1.0 out of 5 stars   \n",
       "3    1.0 out of 5 stars\\nHeating and poor performan...  1.0 out of 5 stars   \n",
       "4               1.0 out of 5 stars\\nscratch on display  1.0 out of 5 stars   \n",
       "..                                                 ...                 ...   \n",
       "490                  5.0 out of 5 stars\\nAlways a king  5.0 out of 5 stars   \n",
       "491  5.0 out of 5 stars\\nWholesome bundle of worthi...  5.0 out of 5 stars   \n",
       "492                      5.0 out of 5 stars\\nBeautiful  5.0 out of 5 stars   \n",
       "493                    5.0 out of 5 stars\\nMajha aagya  5.0 out of 5 stars   \n",
       "494  5.0 out of 5 stars\\nFantastic First iPhone Exp...  5.0 out of 5 stars   \n",
       "\n",
       "                                    date  \\\n",
       "0    Reviewed in India on 7 October 2023   \n",
       "1       Reviewed in India on 22 May 2024   \n",
       "2     Reviewed in India on 25 April 2024   \n",
       "3       Reviewed in India on 10 May 2024   \n",
       "4       Reviewed in India on 13 May 2024   \n",
       "..                                   ...   \n",
       "490   Reviewed in India on 20 March 2024   \n",
       "491    Reviewed in India on 1 March 2024   \n",
       "492    Reviewed in India on 2 April 2024   \n",
       "493   Reviewed in India on 31 March 2024   \n",
       "494   Reviewed in India on 11 March 2024   \n",
       "\n",
       "                                                  body  \\\n",
       "0    Things to remember before you buy an Iphone -1...   \n",
       "1    When ever I am speaking I have problem with sp...   \n",
       "2    Bekr phone hai iPhone 13 bhut slow hai bettery...   \n",
       "3    Heating , sounds not goodOnly name and brand p...   \n",
       "4    found scratches on my new iPhone 13 and I am u...   \n",
       "..                                                 ...   \n",
       "490  Best experience in using when compared to andr...   \n",
       "491  Best of all the iPhones. If anyone wants to up...   \n",
       "492                                                      \n",
       "493                             Waah yr mast phone hai   \n",
       "494  I recently got my hands on the iPhone 13, and ...   \n",
       "\n",
       "                           details  \n",
       "0         Colour: PinkSize: 128 GB  \n",
       "1         Colour: PinkSize: 128 GB  \n",
       "2    Colour: StarlightSize: 128 GB  \n",
       "3        Colour: GreenSize: 128 GB  \n",
       "4     Colour: MidnightSize: 128 GB  \n",
       "..                             ...  \n",
       "490       Colour: PinkSize: 512 GB  \n",
       "491       Colour: BlueSize: 128 GB  \n",
       "492       Colour: PinkSize: 128 GB  \n",
       "493       Colour: BlueSize: 128 GB  \n",
       "494       Colour: BlueSize: 128 GB  \n",
       "\n",
       "[495 rows x 5 columns]"
      ]
     },
     "execution_count": 227,
     "metadata": {},
     "output_type": "execute_result"
    }
   ],
   "source": [
    "all_reviews"
   ]
  },
  {
   "cell_type": "code",
   "execution_count": 228,
   "metadata": {},
   "outputs": [
    {
     "name": "stdout",
     "output_type": "stream",
     "text": [
      "  star_rating  ratings  reviews\n",
      "0      1 star     1347      435\n",
      "1      2 star      317       95\n",
      "2      3 star      773      124\n",
      "3      4 star     3919      442\n",
      "4      5 star    20639     2419\n"
     ]
    }
   ],
   "source": [
    "# Convert the dictionary to a DataFrame\n",
    "updated_stars_df = pd.DataFrame.from_dict(updated_stars, orient='index')\n",
    "\n",
    "# Reset the index to make star ratings a column\n",
    "updated_stars_df = updated_stars_df.reset_index()\n",
    "\n",
    "# Rename the columns for clarity\n",
    "updated_stars_df = updated_stars_df.rename(columns={'index': 'star_rating'})\n",
    "\n",
    "# Display the updated DataFrame\n",
    "print(updated_stars_df)\n"
   ]
  },
  {
   "cell_type": "code",
   "execution_count": null,
   "metadata": {},
   "outputs": [],
   "source": []
  },
  {
   "cell_type": "code",
   "execution_count": 229,
   "metadata": {},
   "outputs": [],
   "source": [
    "all_reviews.to_excel(\"ReviewData.xlsx\")"
   ]
  },
  {
   "cell_type": "code",
   "execution_count": 230,
   "metadata": {
    "id": "qUettdSBxlZD"
   },
   "outputs": [],
   "source": [
    "updated_stars_df.to_excel(\"RatingData.xlsx\")"
   ]
  },
  {
   "cell_type": "code",
   "execution_count": null,
   "metadata": {},
   "outputs": [],
   "source": []
  }
 ],
 "metadata": {
  "colab": {
   "provenance": []
  },
  "kernelspec": {
   "display_name": "Python 3 (ipykernel)",
   "language": "python",
   "name": "python3"
  },
  "language_info": {
   "codemirror_mode": {
    "name": "ipython",
    "version": 3
   },
   "file_extension": ".py",
   "mimetype": "text/x-python",
   "name": "python",
   "nbconvert_exporter": "python",
   "pygments_lexer": "ipython3",
   "version": "3.11.5"
  }
 },
 "nbformat": 4,
 "nbformat_minor": 1
}
