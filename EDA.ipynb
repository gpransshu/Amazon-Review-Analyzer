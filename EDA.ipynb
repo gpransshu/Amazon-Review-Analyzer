{
 "cells": [
  {
   "cell_type": "markdown",
   "id": "fd32c6ea",
   "metadata": {},
   "source": [
    "## Importing Libraries and Reading Dataset"
   ]
  },
  {
   "cell_type": "code",
   "execution_count": 177,
   "id": "fe993b94",
   "metadata": {},
   "outputs": [],
   "source": [
    "import pandas as pd\n",
    "import numpy as np"
   ]
  },
  {
   "cell_type": "code",
   "execution_count": 178,
   "id": "63a78a3d",
   "metadata": {},
   "outputs": [],
   "source": [
    "df = pd.read_excel(\"Dataset.xlsx\")"
   ]
  },
  {
   "cell_type": "code",
   "execution_count": 179,
   "id": "ed0e7613",
   "metadata": {},
   "outputs": [
    {
     "data": {
      "text/html": [
       "<div>\n",
       "<style scoped>\n",
       "    .dataframe tbody tr th:only-of-type {\n",
       "        vertical-align: middle;\n",
       "    }\n",
       "\n",
       "    .dataframe tbody tr th {\n",
       "        vertical-align: top;\n",
       "    }\n",
       "\n",
       "    .dataframe thead th {\n",
       "        text-align: right;\n",
       "    }\n",
       "</style>\n",
       "<table border=\"1\" class=\"dataframe\">\n",
       "  <thead>\n",
       "    <tr style=\"text-align: right;\">\n",
       "      <th></th>\n",
       "      <th>Unnamed: 0</th>\n",
       "      <th>title</th>\n",
       "      <th>rating</th>\n",
       "      <th>date</th>\n",
       "      <th>body</th>\n",
       "      <th>details</th>\n",
       "    </tr>\n",
       "  </thead>\n",
       "  <tbody>\n",
       "    <tr>\n",
       "      <th>0</th>\n",
       "      <td>0</td>\n",
       "      <td>5.0 out of 5 stars\\nGood performance</td>\n",
       "      <td>5.0 out of 5 stars</td>\n",
       "      <td>Reviewed in India on 26 December 2023</td>\n",
       "      <td>\\nUpgrading from iPhone 11 to 15. Good one ful...</td>\n",
       "      <td>Colour: BlueSize: 256 GB</td>\n",
       "    </tr>\n",
       "    <tr>\n",
       "      <th>1</th>\n",
       "      <td>1</td>\n",
       "      <td>5.0 out of 5 stars\\nExcellent Product</td>\n",
       "      <td>5.0 out of 5 stars</td>\n",
       "      <td>Reviewed in India on 2 January 2024</td>\n",
       "      <td>\\nThis phone is good and quite seamless for mu...</td>\n",
       "      <td>Colour: BlackSize: 256 GB</td>\n",
       "    </tr>\n",
       "    <tr>\n",
       "      <th>2</th>\n",
       "      <td>2</td>\n",
       "      <td>5.0 out of 5 stars\\nOn Time delivery</td>\n",
       "      <td>5.0 out of 5 stars</td>\n",
       "      <td>Reviewed in India on 15 January 2024</td>\n",
       "      <td>\\nGood and quality\\n</td>\n",
       "      <td>Colour: BlackSize: 256 GB</td>\n",
       "    </tr>\n",
       "    <tr>\n",
       "      <th>3</th>\n",
       "      <td>3</td>\n",
       "      <td>4.0 out of 5 stars\\niPhone 15 A solid upgrade ...</td>\n",
       "      <td>4.0 out of 5 stars</td>\n",
       "      <td>Reviewed in India on 8 January 2024</td>\n",
       "      <td>\\nI am from Android(Samsung flagship phones)  ...</td>\n",
       "      <td>Colour: BlackSize: 256 GB</td>\n",
       "    </tr>\n",
       "    <tr>\n",
       "      <th>4</th>\n",
       "      <td>4</td>\n",
       "      <td>5.0 out of 5 stars\\nEnjoying iphone15</td>\n",
       "      <td>5.0 out of 5 stars</td>\n",
       "      <td>Reviewed in India on 13 December 2023</td>\n",
       "      <td>\\nMoved from android, display is impressiveCam...</td>\n",
       "      <td>Colour: BlackSize: 256 GB</td>\n",
       "    </tr>\n",
       "  </tbody>\n",
       "</table>\n",
       "</div>"
      ],
      "text/plain": [
       "   Unnamed: 0                                              title  \\\n",
       "0           0               5.0 out of 5 stars\\nGood performance   \n",
       "1           1              5.0 out of 5 stars\\nExcellent Product   \n",
       "2           2               5.0 out of 5 stars\\nOn Time delivery   \n",
       "3           3  4.0 out of 5 stars\\niPhone 15 A solid upgrade ...   \n",
       "4           4              5.0 out of 5 stars\\nEnjoying iphone15   \n",
       "\n",
       "               rating                                   date  \\\n",
       "0  5.0 out of 5 stars  Reviewed in India on 26 December 2023   \n",
       "1  5.0 out of 5 stars    Reviewed in India on 2 January 2024   \n",
       "2  5.0 out of 5 stars   Reviewed in India on 15 January 2024   \n",
       "3  4.0 out of 5 stars    Reviewed in India on 8 January 2024   \n",
       "4  5.0 out of 5 stars  Reviewed in India on 13 December 2023   \n",
       "\n",
       "                                                body  \\\n",
       "0  \\nUpgrading from iPhone 11 to 15. Good one ful...   \n",
       "1  \\nThis phone is good and quite seamless for mu...   \n",
       "2                               \\nGood and quality\\n   \n",
       "3  \\nI am from Android(Samsung flagship phones)  ...   \n",
       "4  \\nMoved from android, display is impressiveCam...   \n",
       "\n",
       "                     details  \n",
       "0   Colour: BlueSize: 256 GB  \n",
       "1  Colour: BlackSize: 256 GB  \n",
       "2  Colour: BlackSize: 256 GB  \n",
       "3  Colour: BlackSize: 256 GB  \n",
       "4  Colour: BlackSize: 256 GB  "
      ]
     },
     "execution_count": 179,
     "metadata": {},
     "output_type": "execute_result"
    }
   ],
   "source": [
    "df.head()"
   ]
  },
  {
   "cell_type": "markdown",
   "id": "6bcbb629",
   "metadata": {},
   "source": [
    "## Data Cleaning"
   ]
  },
  {
   "cell_type": "code",
   "execution_count": 180,
   "id": "a0fb7c6f",
   "metadata": {},
   "outputs": [],
   "source": [
    "df = df.drop(df.columns[0], axis=1)"
   ]
  },
  {
   "cell_type": "code",
   "execution_count": 181,
   "id": "26c87e7b",
   "metadata": {},
   "outputs": [
    {
     "data": {
      "text/html": [
       "<div>\n",
       "<style scoped>\n",
       "    .dataframe tbody tr th:only-of-type {\n",
       "        vertical-align: middle;\n",
       "    }\n",
       "\n",
       "    .dataframe tbody tr th {\n",
       "        vertical-align: top;\n",
       "    }\n",
       "\n",
       "    .dataframe thead th {\n",
       "        text-align: right;\n",
       "    }\n",
       "</style>\n",
       "<table border=\"1\" class=\"dataframe\">\n",
       "  <thead>\n",
       "    <tr style=\"text-align: right;\">\n",
       "      <th></th>\n",
       "      <th>title</th>\n",
       "      <th>rating</th>\n",
       "      <th>date</th>\n",
       "      <th>body</th>\n",
       "      <th>details</th>\n",
       "    </tr>\n",
       "  </thead>\n",
       "  <tbody>\n",
       "    <tr>\n",
       "      <th>0</th>\n",
       "      <td>5.0 out of 5 stars\\nGood performance</td>\n",
       "      <td>5.0 out of 5 stars</td>\n",
       "      <td>Reviewed in India on 26 December 2023</td>\n",
       "      <td>\\nUpgrading from iPhone 11 to 15. Good one ful...</td>\n",
       "      <td>Colour: BlueSize: 256 GB</td>\n",
       "    </tr>\n",
       "    <tr>\n",
       "      <th>1</th>\n",
       "      <td>5.0 out of 5 stars\\nExcellent Product</td>\n",
       "      <td>5.0 out of 5 stars</td>\n",
       "      <td>Reviewed in India on 2 January 2024</td>\n",
       "      <td>\\nThis phone is good and quite seamless for mu...</td>\n",
       "      <td>Colour: BlackSize: 256 GB</td>\n",
       "    </tr>\n",
       "    <tr>\n",
       "      <th>2</th>\n",
       "      <td>5.0 out of 5 stars\\nOn Time delivery</td>\n",
       "      <td>5.0 out of 5 stars</td>\n",
       "      <td>Reviewed in India on 15 January 2024</td>\n",
       "      <td>\\nGood and quality\\n</td>\n",
       "      <td>Colour: BlackSize: 256 GB</td>\n",
       "    </tr>\n",
       "    <tr>\n",
       "      <th>3</th>\n",
       "      <td>4.0 out of 5 stars\\niPhone 15 A solid upgrade ...</td>\n",
       "      <td>4.0 out of 5 stars</td>\n",
       "      <td>Reviewed in India on 8 January 2024</td>\n",
       "      <td>\\nI am from Android(Samsung flagship phones)  ...</td>\n",
       "      <td>Colour: BlackSize: 256 GB</td>\n",
       "    </tr>\n",
       "    <tr>\n",
       "      <th>4</th>\n",
       "      <td>5.0 out of 5 stars\\nEnjoying iphone15</td>\n",
       "      <td>5.0 out of 5 stars</td>\n",
       "      <td>Reviewed in India on 13 December 2023</td>\n",
       "      <td>\\nMoved from android, display is impressiveCam...</td>\n",
       "      <td>Colour: BlackSize: 256 GB</td>\n",
       "    </tr>\n",
       "  </tbody>\n",
       "</table>\n",
       "</div>"
      ],
      "text/plain": [
       "                                               title              rating  \\\n",
       "0               5.0 out of 5 stars\\nGood performance  5.0 out of 5 stars   \n",
       "1              5.0 out of 5 stars\\nExcellent Product  5.0 out of 5 stars   \n",
       "2               5.0 out of 5 stars\\nOn Time delivery  5.0 out of 5 stars   \n",
       "3  4.0 out of 5 stars\\niPhone 15 A solid upgrade ...  4.0 out of 5 stars   \n",
       "4              5.0 out of 5 stars\\nEnjoying iphone15  5.0 out of 5 stars   \n",
       "\n",
       "                                    date  \\\n",
       "0  Reviewed in India on 26 December 2023   \n",
       "1    Reviewed in India on 2 January 2024   \n",
       "2   Reviewed in India on 15 January 2024   \n",
       "3    Reviewed in India on 8 January 2024   \n",
       "4  Reviewed in India on 13 December 2023   \n",
       "\n",
       "                                                body  \\\n",
       "0  \\nUpgrading from iPhone 11 to 15. Good one ful...   \n",
       "1  \\nThis phone is good and quite seamless for mu...   \n",
       "2                               \\nGood and quality\\n   \n",
       "3  \\nI am from Android(Samsung flagship phones)  ...   \n",
       "4  \\nMoved from android, display is impressiveCam...   \n",
       "\n",
       "                     details  \n",
       "0   Colour: BlueSize: 256 GB  \n",
       "1  Colour: BlackSize: 256 GB  \n",
       "2  Colour: BlackSize: 256 GB  \n",
       "3  Colour: BlackSize: 256 GB  \n",
       "4  Colour: BlackSize: 256 GB  "
      ]
     },
     "execution_count": 181,
     "metadata": {},
     "output_type": "execute_result"
    }
   ],
   "source": [
    "df.head()"
   ]
  },
  {
   "cell_type": "code",
   "execution_count": 182,
   "id": "04e11749",
   "metadata": {},
   "outputs": [
    {
     "data": {
      "text/plain": [
       "title      0\n",
       "rating     0\n",
       "date       0\n",
       "body       0\n",
       "details    0\n",
       "dtype: int64"
      ]
     },
     "execution_count": 182,
     "metadata": {},
     "output_type": "execute_result"
    }
   ],
   "source": [
    "df.isnull().sum()"
   ]
  },
  {
   "cell_type": "code",
   "execution_count": null,
   "id": "31f64e84",
   "metadata": {},
   "outputs": [],
   "source": []
  },
  {
   "cell_type": "code",
   "execution_count": 183,
   "id": "54a06bbd",
   "metadata": {},
   "outputs": [],
   "source": [
    "df.dropna(axis=0, inplace=True)\n"
   ]
  },
  {
   "cell_type": "code",
   "execution_count": 184,
   "id": "74f78a52",
   "metadata": {},
   "outputs": [],
   "source": [
    "# Remove newline character '\\n' from each string in the 'title' column\n",
    "df['title'] = df['title'].str.split('\\n').str[1]\n",
    "df['body'] = df['body'].str.split('\\n').str[1]\n",
    "df['date'] = df['date'].str.split('on ').str[1]"
   ]
  },
  {
   "cell_type": "code",
   "execution_count": 185,
   "id": "824ed5c7",
   "metadata": {},
   "outputs": [],
   "source": [
    "\n",
    "# Extract only the first number from the 'rating' column\n",
    "df['rating'] = df['rating'].str.split(' ', expand=True)[0]\n",
    "\n",
    "\n",
    "# Convert the 'rating' column to float\n",
    "df['rating'] = df['rating'].astype(float)\n",
    "\n",
    "# Convert the 'rating' column to integer\n",
    "df['rating'] = df['rating'].astype(int)"
   ]
  },
  {
   "cell_type": "code",
   "execution_count": 186,
   "id": "0ab85f83",
   "metadata": {},
   "outputs": [],
   "source": [
    "\n",
    "df['date'] = pd.to_datetime(df['date'], format='%d %B %Y')"
   ]
  },
  {
   "cell_type": "code",
   "execution_count": 187,
   "id": "9f26c2cd",
   "metadata": {},
   "outputs": [],
   "source": [
    "# Split the 'details' column into 'colour' and 'size' columns\n",
    "df[['colour', 'size']] = df['details'].str.split('Size:', expand=True)\n",
    "\n",
    "# Strip any leading or trailing whitespace\n",
    "df['colour'] = df['colour'].str.strip()\n",
    "df['size'] = df['size'].str.strip()\n",
    "\n",
    "df.drop(columns=['details'], inplace=True)\n"
   ]
  },
  {
   "cell_type": "code",
   "execution_count": 188,
   "id": "290c687c",
   "metadata": {},
   "outputs": [
    {
     "data": {
      "text/html": [
       "<div>\n",
       "<style scoped>\n",
       "    .dataframe tbody tr th:only-of-type {\n",
       "        vertical-align: middle;\n",
       "    }\n",
       "\n",
       "    .dataframe tbody tr th {\n",
       "        vertical-align: top;\n",
       "    }\n",
       "\n",
       "    .dataframe thead th {\n",
       "        text-align: right;\n",
       "    }\n",
       "</style>\n",
       "<table border=\"1\" class=\"dataframe\">\n",
       "  <thead>\n",
       "    <tr style=\"text-align: right;\">\n",
       "      <th></th>\n",
       "      <th>title</th>\n",
       "      <th>rating</th>\n",
       "      <th>date</th>\n",
       "      <th>body</th>\n",
       "      <th>colour</th>\n",
       "      <th>size</th>\n",
       "    </tr>\n",
       "  </thead>\n",
       "  <tbody>\n",
       "    <tr>\n",
       "      <th>0</th>\n",
       "      <td>Good performance</td>\n",
       "      <td>5</td>\n",
       "      <td>2023-12-26</td>\n",
       "      <td>Upgrading from iPhone 11 to 15. Good one full ...</td>\n",
       "      <td>Colour: Blue</td>\n",
       "      <td>256 GB</td>\n",
       "    </tr>\n",
       "    <tr>\n",
       "      <th>1</th>\n",
       "      <td>Excellent Product</td>\n",
       "      <td>5</td>\n",
       "      <td>2024-01-02</td>\n",
       "      <td>This phone is good and quite seamless for mult...</td>\n",
       "      <td>Colour: Black</td>\n",
       "      <td>256 GB</td>\n",
       "    </tr>\n",
       "    <tr>\n",
       "      <th>2</th>\n",
       "      <td>On Time delivery</td>\n",
       "      <td>5</td>\n",
       "      <td>2024-01-15</td>\n",
       "      <td>Good and quality</td>\n",
       "      <td>Colour: Black</td>\n",
       "      <td>256 GB</td>\n",
       "    </tr>\n",
       "    <tr>\n",
       "      <th>3</th>\n",
       "      <td>iPhone 15 A solid upgrade and value for money</td>\n",
       "      <td>4</td>\n",
       "      <td>2024-01-08</td>\n",
       "      <td>I am from Android(Samsung flagship phones)  ba...</td>\n",
       "      <td>Colour: Black</td>\n",
       "      <td>256 GB</td>\n",
       "    </tr>\n",
       "    <tr>\n",
       "      <th>4</th>\n",
       "      <td>Enjoying iphone15</td>\n",
       "      <td>5</td>\n",
       "      <td>2023-12-13</td>\n",
       "      <td>Moved from android, display is impressiveCamer...</td>\n",
       "      <td>Colour: Black</td>\n",
       "      <td>256 GB</td>\n",
       "    </tr>\n",
       "    <tr>\n",
       "      <th>5</th>\n",
       "      <td>Fast delivery</td>\n",
       "      <td>5</td>\n",
       "      <td>2023-11-21</td>\n",
       "      <td>Good deal</td>\n",
       "      <td>Colour: Black</td>\n",
       "      <td>256 GB</td>\n",
       "    </tr>\n",
       "    <tr>\n",
       "      <th>6</th>\n",
       "      <td>Bad behaviour</td>\n",
       "      <td>1</td>\n",
       "      <td>2024-01-12</td>\n",
       "      <td>I want to give 0 start but had to give one start</td>\n",
       "      <td>Colour: Blue</td>\n",
       "      <td>256 GB</td>\n",
       "    </tr>\n",
       "    <tr>\n",
       "      <th>7</th>\n",
       "      <td>Best IPhone</td>\n",
       "      <td>5</td>\n",
       "      <td>2023-10-29</td>\n",
       "      <td>Performance is great. Battery is too good and ...</td>\n",
       "      <td>Colour: Green</td>\n",
       "      <td>256 GB</td>\n",
       "    </tr>\n",
       "    <tr>\n",
       "      <th>8</th>\n",
       "      <td>Nice</td>\n",
       "      <td>4</td>\n",
       "      <td>2024-01-04</td>\n",
       "      <td>Like</td>\n",
       "      <td>Colour: Black</td>\n",
       "      <td>256 GB</td>\n",
       "    </tr>\n",
       "    <tr>\n",
       "      <th>9</th>\n",
       "      <td>Authentic Product</td>\n",
       "      <td>5</td>\n",
       "      <td>2023-12-31</td>\n",
       "      <td>As usual good apple product</td>\n",
       "      <td>Colour: Pink</td>\n",
       "      <td>256 GB</td>\n",
       "    </tr>\n",
       "  </tbody>\n",
       "</table>\n",
       "</div>"
      ],
      "text/plain": [
       "                                           title  rating       date  \\\n",
       "0                               Good performance       5 2023-12-26   \n",
       "1                              Excellent Product       5 2024-01-02   \n",
       "2                               On Time delivery       5 2024-01-15   \n",
       "3  iPhone 15 A solid upgrade and value for money       4 2024-01-08   \n",
       "4                              Enjoying iphone15       5 2023-12-13   \n",
       "5                                  Fast delivery       5 2023-11-21   \n",
       "6                                  Bad behaviour       1 2024-01-12   \n",
       "7                                    Best IPhone       5 2023-10-29   \n",
       "8                                           Nice       4 2024-01-04   \n",
       "9                              Authentic Product       5 2023-12-31   \n",
       "\n",
       "                                                body         colour    size  \n",
       "0  Upgrading from iPhone 11 to 15. Good one full ...   Colour: Blue  256 GB  \n",
       "1  This phone is good and quite seamless for mult...  Colour: Black  256 GB  \n",
       "2                                   Good and quality  Colour: Black  256 GB  \n",
       "3  I am from Android(Samsung flagship phones)  ba...  Colour: Black  256 GB  \n",
       "4  Moved from android, display is impressiveCamer...  Colour: Black  256 GB  \n",
       "5                                          Good deal  Colour: Black  256 GB  \n",
       "6   I want to give 0 start but had to give one start   Colour: Blue  256 GB  \n",
       "7  Performance is great. Battery is too good and ...  Colour: Green  256 GB  \n",
       "8                                               Like  Colour: Black  256 GB  \n",
       "9                        As usual good apple product   Colour: Pink  256 GB  "
      ]
     },
     "execution_count": 188,
     "metadata": {},
     "output_type": "execute_result"
    }
   ],
   "source": [
    "df.head(10)"
   ]
  },
  {
   "cell_type": "markdown",
   "id": "5da9da81",
   "metadata": {},
   "source": [
    "## Exploratory Data Analysis"
   ]
  },
  {
   "cell_type": "code",
   "execution_count": 189,
   "id": "b047b43a",
   "metadata": {},
   "outputs": [
    {
     "name": "stdout",
     "output_type": "stream",
     "text": [
      "<class 'pandas.core.frame.DataFrame'>\n",
      "RangeIndex: 100 entries, 0 to 99\n",
      "Data columns (total 6 columns):\n",
      " #   Column  Non-Null Count  Dtype         \n",
      "---  ------  --------------  -----         \n",
      " 0   title   100 non-null    object        \n",
      " 1   rating  100 non-null    int32         \n",
      " 2   date    100 non-null    datetime64[ns]\n",
      " 3   body    100 non-null    object        \n",
      " 4   colour  100 non-null    object        \n",
      " 5   size    100 non-null    object        \n",
      "dtypes: datetime64[ns](1), int32(1), object(4)\n",
      "memory usage: 4.4+ KB\n"
     ]
    }
   ],
   "source": [
    "df.info()"
   ]
  },
  {
   "cell_type": "code",
   "execution_count": 190,
   "id": "ed700910",
   "metadata": {},
   "outputs": [
    {
     "data": {
      "text/plain": [
       "rating\n",
       "5    70\n",
       "4    20\n",
       "1    10\n",
       "Name: count, dtype: int64"
      ]
     },
     "execution_count": 190,
     "metadata": {},
     "output_type": "execute_result"
    }
   ],
   "source": [
    "df['rating'].value_counts()"
   ]
  },
  {
   "cell_type": "code",
   "execution_count": null,
   "id": "bf7e10b3",
   "metadata": {},
   "outputs": [],
   "source": []
  },
  {
   "cell_type": "code",
   "execution_count": null,
   "id": "966d0ae2",
   "metadata": {},
   "outputs": [],
   "source": []
  }
 ],
 "metadata": {
  "kernelspec": {
   "display_name": "Python 3 (ipykernel)",
   "language": "python",
   "name": "python3"
  },
  "language_info": {
   "codemirror_mode": {
    "name": "ipython",
    "version": 3
   },
   "file_extension": ".py",
   "mimetype": "text/x-python",
   "name": "python",
   "nbconvert_exporter": "python",
   "pygments_lexer": "ipython3",
   "version": "3.11.5"
  }
 },
 "nbformat": 4,
 "nbformat_minor": 5
}
