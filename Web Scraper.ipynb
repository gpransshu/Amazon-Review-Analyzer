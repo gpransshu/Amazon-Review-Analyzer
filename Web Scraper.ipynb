{
 "cells": [
  {
   "cell_type": "code",
   "execution_count": 245,
   "metadata": {},
   "outputs": [
    {
     "name": "stdout",
     "output_type": "stream",
     "text": [
      "Defaulting to user installation because normal site-packages is not writeable\n",
      "Requirement already satisfied: pandas in c:\\programdata\\anaconda3\\lib\\site-packages (2.0.3)\n",
      "Requirement already satisfied: python-dateutil>=2.8.2 in c:\\programdata\\anaconda3\\lib\\site-packages (from pandas) (2.8.2)\n",
      "Requirement already satisfied: pytz>=2020.1 in c:\\programdata\\anaconda3\\lib\\site-packages (from pandas) (2023.3.post1)\n",
      "Requirement already satisfied: tzdata>=2022.1 in c:\\programdata\\anaconda3\\lib\\site-packages (from pandas) (2023.3)\n",
      "Requirement already satisfied: numpy>=1.21.0 in c:\\programdata\\anaconda3\\lib\\site-packages (from pandas) (1.24.3)\n",
      "Requirement already satisfied: six>=1.5 in c:\\programdata\\anaconda3\\lib\\site-packages (from python-dateutil>=2.8.2->pandas) (1.16.0)\n"
     ]
    }
   ],
   "source": [
    "!pip install pandas"
   ]
  },
  {
   "cell_type": "code",
   "execution_count": 246,
   "metadata": {
    "colab": {
     "base_uri": "https://localhost:8080/"
    },
    "id": "h2QX0szMmBBK",
    "outputId": "1b194553-9854-4d81-e374-4186eb09b320"
   },
   "outputs": [
    {
     "name": "stdout",
     "output_type": "stream",
     "text": [
      "Defaulting to user installation because normal site-packages is not writeable\n",
      "Requirement already satisfied: selenium in c:\\users\\admin\\appdata\\roaming\\python\\python311\\site-packages (4.17.2)\n",
      "Requirement already satisfied: urllib3[socks]<3,>=1.26 in c:\\programdata\\anaconda3\\lib\\site-packages (from selenium) (1.26.16)\n",
      "Requirement already satisfied: trio~=0.17 in c:\\users\\admin\\appdata\\roaming\\python\\python311\\site-packages (from selenium) (0.24.0)\n",
      "Requirement already satisfied: trio-websocket~=0.9 in c:\\users\\admin\\appdata\\roaming\\python\\python311\\site-packages (from selenium) (0.11.1)\n",
      "Requirement already satisfied: certifi>=2021.10.8 in c:\\programdata\\anaconda3\\lib\\site-packages (from selenium) (2023.7.22)\n",
      "Requirement already satisfied: typing_extensions>=4.9.0 in c:\\users\\admin\\appdata\\roaming\\python\\python311\\site-packages (from selenium) (4.9.0)\n",
      "Requirement already satisfied: attrs>=20.1.0 in c:\\programdata\\anaconda3\\lib\\site-packages (from trio~=0.17->selenium) (22.1.0)\n",
      "Requirement already satisfied: sortedcontainers in c:\\programdata\\anaconda3\\lib\\site-packages (from trio~=0.17->selenium) (2.4.0)\n",
      "Requirement already satisfied: idna in c:\\programdata\\anaconda3\\lib\\site-packages (from trio~=0.17->selenium) (3.4)\n",
      "Requirement already satisfied: outcome in c:\\users\\admin\\appdata\\roaming\\python\\python311\\site-packages (from trio~=0.17->selenium) (1.3.0.post0)\n",
      "Requirement already satisfied: sniffio>=1.3.0 in c:\\users\\admin\\appdata\\roaming\\python\\python311\\site-packages (from trio~=0.17->selenium) (1.3.0)\n",
      "Requirement already satisfied: cffi>=1.14 in c:\\programdata\\anaconda3\\lib\\site-packages (from trio~=0.17->selenium) (1.15.1)\n",
      "Requirement already satisfied: wsproto>=0.14 in c:\\users\\admin\\appdata\\roaming\\python\\python311\\site-packages (from trio-websocket~=0.9->selenium) (1.2.0)\n",
      "Requirement already satisfied: PySocks!=1.5.7,<2.0,>=1.5.6 in c:\\programdata\\anaconda3\\lib\\site-packages (from urllib3[socks]<3,>=1.26->selenium) (1.7.1)\n",
      "Requirement already satisfied: pycparser in c:\\programdata\\anaconda3\\lib\\site-packages (from cffi>=1.14->trio~=0.17->selenium) (2.21)\n",
      "Requirement already satisfied: h11<1,>=0.9.0 in c:\\users\\admin\\appdata\\roaming\\python\\python311\\site-packages (from wsproto>=0.14->trio-websocket~=0.9->selenium) (0.14.0)\n"
     ]
    }
   ],
   "source": [
    "!pip install selenium"
   ]
  },
  {
   "cell_type": "code",
   "execution_count": 247,
   "metadata": {
    "colab": {
     "base_uri": "https://localhost:8080/"
    },
    "id": "7rUIrOcFnJE_",
    "outputId": "7be7f228-cc85-4af7-b2fb-e6a7655565b0"
   },
   "outputs": [],
   "source": [
    "#!apt-get update"
   ]
  },
  {
   "cell_type": "code",
   "execution_count": 248,
   "metadata": {
    "colab": {
     "base_uri": "https://localhost:8080/"
    },
    "id": "OrHkMiOOnunU",
    "outputId": "bed55f23-07f3-4315-f9a0-4c098130a8f6"
   },
   "outputs": [],
   "source": [
    "#!apt-get install chromium chromium-driver"
   ]
  },
  {
   "cell_type": "code",
   "execution_count": 249,
   "metadata": {
    "id": "W4n8PfM_n14Y"
   },
   "outputs": [],
   "source": [
    "from selenium import webdriver\n",
    "from selenium.webdriver.common.by import By\n",
    "import time\n",
    "\n",
    "def web_driver():\n",
    "    options = webdriver.ChromeOptions()\n",
    "    options.add_argument(\"--verbose\")\n",
    "    options.add_argument('--no-sandbox')\n",
    "    options.add_argument('--headless')\n",
    "    options.add_argument('--disable-gpu')\n",
    "    options.add_argument(\"--window-size=1920, 1200\")\n",
    "    options.add_argument('--disable-dev-shm-usage')\n",
    "    driver = webdriver.Chrome(options=options)\n",
    "    return driver\n",
    "\n",
    "\n"
   ]
  },
  {
   "cell_type": "code",
   "execution_count": 250,
   "metadata": {
    "id": "CHIqGrDKn7i7"
   },
   "outputs": [],
   "source": [
    "driver = web_driver()\n",
    "\n",
    "\n"
   ]
  },
  {
   "cell_type": "code",
   "execution_count": 251,
   "metadata": {
    "id": "ehqdziKDn_Rn"
   },
   "outputs": [],
   "source": [
    "driver.get('https://www.amazon.in/')"
   ]
  },
  {
   "cell_type": "code",
   "execution_count": 252,
   "metadata": {
    "id": "T1WBFZVIp_Oq"
   },
   "outputs": [],
   "source": [
    "driver.maximize_window()"
   ]
  },
  {
   "cell_type": "code",
   "execution_count": 253,
   "metadata": {
    "id": "FmdtueTDrl35"
   },
   "outputs": [],
   "source": [
    "time.sleep(5)\n",
    "isearch = driver.find_element(By.NAME,'field-keywords')\n",
    "sbutton = driver.find_element(By.ID, 'nav-search-submit-button')"
   ]
  },
  {
   "cell_type": "code",
   "execution_count": 254,
   "metadata": {
    "id": "tO-2qJkqqq8d"
   },
   "outputs": [],
   "source": [
    "isearch.send_keys(\"iPhone\")\n",
    "time.sleep(1)"
   ]
  },
  {
   "cell_type": "code",
   "execution_count": 255,
   "metadata": {
    "id": "HG5d9hlna-L7"
   },
   "outputs": [],
   "source": [
    "sbutton.click()"
   ]
  },
  {
   "cell_type": "code",
   "execution_count": 256,
   "metadata": {
    "colab": {
     "base_uri": "https://localhost:8080/"
    },
    "id": "r3RhxETF4wID",
    "outputId": "e6dc2c78-6e4f-4b82-8bc2-a72330820483"
   },
   "outputs": [
    {
     "name": "stdout",
     "output_type": "stream",
     "text": [
      "Defaulting to user installation because normal site-packages is not writeable\n",
      "Requirement already satisfied: bs4 in c:\\users\\admin\\appdata\\roaming\\python\\python311\\site-packages (0.0.2)\n",
      "Requirement already satisfied: beautifulsoup4 in c:\\programdata\\anaconda3\\lib\\site-packages (from bs4) (4.12.2)\n",
      "Requirement already satisfied: soupsieve>1.2 in c:\\programdata\\anaconda3\\lib\\site-packages (from beautifulsoup4->bs4) (2.4)\n"
     ]
    }
   ],
   "source": [
    "!pip install bs4"
   ]
  },
  {
   "cell_type": "code",
   "execution_count": 257,
   "metadata": {
    "id": "x0Lq4FhMqPd2"
   },
   "outputs": [],
   "source": [
    "from bs4 import BeautifulSoup\n",
    "html = driver.page_source\n",
    "\n",
    "soup = BeautifulSoup(html)\n"
   ]
  },
  {
   "cell_type": "code",
   "execution_count": 258,
   "metadata": {
    "id": "ACFFB-uZP6D2"
   },
   "outputs": [],
   "source": [
    "#button_element = soup.find('a', {'data-cel-widget':'search_result_2'})\n"
   ]
  },
  {
   "cell_type": "code",
   "execution_count": 259,
   "metadata": {
    "id": "ytb_BoDpMDg5"
   },
   "outputs": [],
   "source": [
    "button_element = soup.find('a', {'class':'a-link-normal s-underline-text s-underline-link-text s-link-style a-text-normal'})\n"
   ]
  },
  {
   "cell_type": "code",
   "execution_count": 260,
   "metadata": {
    "colab": {
     "base_uri": "https://localhost:8080/"
    },
    "id": "cuYAiisneJtG",
    "outputId": "15714c21-15c7-408c-aa01-4d491b75b127"
   },
   "outputs": [
    {
     "name": "stdout",
     "output_type": "stream",
     "text": [
      "<a class=\"a-link-normal s-underline-text s-underline-link-text s-link-style a-text-normal\" href=\"/Apple-iPhone-15-256-GB/dp/B0CHX2WQLX/ref=sr_1_1?crid=30T10I5KLK4BI&amp;keywords=iPhone&amp;qid=1707587266&amp;sprefix=iphone%2Caps%2C186&amp;sr=8-1\" target=\"_blank\"><span class=\"a-size-medium a-color-base a-text-normal\">Apple iPhone 15 (256 GB) - Black</span> </a>\n"
     ]
    }
   ],
   "source": [
    "print(button_element)"
   ]
  },
  {
   "cell_type": "code",
   "execution_count": 261,
   "metadata": {
    "id": "cQyWhrAANpx3"
   },
   "outputs": [],
   "source": [
    "button_class = button_element['class']"
   ]
  },
  {
   "cell_type": "code",
   "execution_count": 262,
   "metadata": {
    "colab": {
     "base_uri": "https://localhost:8080/"
    },
    "id": "P5zt33KePY0-",
    "outputId": "3e1ff6bc-0a61-4df5-b121-abebe01fc6aa"
   },
   "outputs": [
    {
     "name": "stdout",
     "output_type": "stream",
     "text": [
      "['a-link-normal', 's-underline-text', 's-underline-link-text', 's-link-style', 'a-text-normal']\n"
     ]
    }
   ],
   "source": [
    "print(button_class)"
   ]
  },
  {
   "cell_type": "code",
   "execution_count": 263,
   "metadata": {
    "id": "FO5ii7OxOZBq"
   },
   "outputs": [],
   "source": [
    "from selenium.webdriver.support.ui import WebDriverWait\n",
    "from selenium.webdriver.support import expected_conditions as EC\n",
    "from selenium.webdriver.common.by import By\n"
   ]
  },
  {
   "cell_type": "code",
   "execution_count": 264,
   "metadata": {
    "id": "uIsZj-pAOPiE"
   },
   "outputs": [],
   "source": [
    "# Construct the CSS selector using the button class\n",
    "button_selector = f\".{'.'.join(button_class)}\"\n",
    "\n",
    "# Find the element using Selenium\n",
    "element = WebDriverWait(driver, 10).until(EC.presence_of_element_located((By.CSS_SELECTOR, button_selector)))\n"
   ]
  },
  {
   "cell_type": "code",
   "execution_count": 265,
   "metadata": {
    "id": "2TnGRPHaOmuZ"
   },
   "outputs": [],
   "source": [
    "# Perform actions (e.g., click)\n",
    "element.click()"
   ]
  },
  {
   "cell_type": "code",
   "execution_count": 266,
   "metadata": {
    "id": "4n8mkQ9lcwHT"
   },
   "outputs": [],
   "source": [
    "driver.switch_to.window(driver.window_handles[1])"
   ]
  },
  {
   "cell_type": "code",
   "execution_count": 267,
   "metadata": {
    "id": "R6ZHS8rIyysU"
   },
   "outputs": [],
   "source": [
    "\n",
    "time.sleep(10)"
   ]
  },
  {
   "cell_type": "code",
   "execution_count": 268,
   "metadata": {
    "id": "3K1nQeHudBQ7"
   },
   "outputs": [],
   "source": [
    "morereviewbutton = \"See more reviews\"\n",
    "morereviewbutton1 = driver.find_element(By.LINK_TEXT, morereviewbutton)\n",
    "morereviewbutton1.click()"
   ]
  },
  {
   "cell_type": "code",
   "execution_count": 269,
   "metadata": {
    "colab": {
     "base_uri": "https://localhost:8080/"
    },
    "id": "3YvYQlHRrFWB",
    "outputId": "0f1df15e-954e-4105-8728-d2b294e45d99"
   },
   "outputs": [
    {
     "name": "stdout",
     "output_type": "stream",
     "text": [
      "https://www.amazon.in/Apple-iPhone-15-256-GB/product-reviews/B0CHX2WQLX/ref=cm_cr_dp_d_show_all_btm?ie=UTF8&reviewerType=all_reviews\n"
     ]
    }
   ],
   "source": [
    "url1 = driver.current_url\n",
    "print(url1)"
   ]
  },
  {
   "cell_type": "code",
   "execution_count": 270,
   "metadata": {
    "id": "T8yGQye44gm7"
   },
   "outputs": [],
   "source": [
    "html = driver.page_source\n",
    "\n",
    "soup = BeautifulSoup(html)\n"
   ]
  },
  {
   "cell_type": "code",
   "execution_count": 271,
   "metadata": {
    "colab": {
     "base_uri": "https://localhost:8080/"
    },
    "id": "WUPRJyOZc3Gv",
    "outputId": "a21c93ea-c791-4882-a753-a1d648ae0f36"
   },
   "outputs": [
    {
     "name": "stdout",
     "output_type": "stream",
     "text": [
      "Scraped Page No. 1\n",
      "Scraped Page No. 2\n",
      "Scraped Page No. 3\n",
      "Scraped Page No. 4\n",
      "Scraped Page No. 5\n",
      "Scraped Page No. 6\n",
      "Scraped Page No. 7\n",
      "Scraped Page No. 8\n",
      "Scraped Page No. 9\n",
      "Scraped Page No. 10\n"
     ]
    }
   ],
   "source": [
    "import time\n",
    "import pandas as pd\n",
    "\n",
    "# Initialize an empty DataFrame\n",
    "df = pd.DataFrame(columns=['title', 'rating', 'date', 'body', 'details'])\n",
    "\n",
    "# Loop through the desired number of pages\n",
    "for x in range(1, 11):\n",
    "    time.sleep(2)\n",
    "    url = f\"{url1}&pageNumber={x}\"\n",
    "    driver.get(url)\n",
    "    html = driver.page_source\n",
    "    #soup = get_soup(url)\n",
    "    reviews = soup.find_all('div', {'data-hook': 'review'})\n",
    "    \n",
    "    # Initialize empty lists to store data for this page\n",
    "    titles = []\n",
    "    ratings = []\n",
    "    dates = []\n",
    "    bodies = []\n",
    "    details = []\n",
    "\n",
    "    # Extract information for each review on this page\n",
    "    for item in reviews:\n",
    "        # Extract information from the current review item\n",
    "        title = item.find('a', {'data-hook': 'review-title'}).text.strip() if item.find('a', {'data-hook': 'review-title'}) else pd.NA\n",
    "        titles.append(title)\n",
    "        \n",
    "        rating = item.find('i', {'data-hook': 'review-star-rating'}).text if item.find('i', {'data-hook': 'review-star-rating'}) else pd.NA\n",
    "        ratings.append(rating)\n",
    "        \n",
    "        date = item.find('span', {'data-hook': 'review-date'}).text if item.find('span', {'data-hook': 'review-date'}) else pd.NA\n",
    "        dates.append(date)\n",
    "        \n",
    "        body = item.find('span', {'data-hook': 'review-body'}).text if item.find('span', {'data-hook': 'review-body'}) else pd.NA\n",
    "        bodies.append(body)\n",
    "        \n",
    "        detail = item.find('a', {'data-hook': 'format-strip'}).text if item.find('a', {'data-hook': 'format-strip'}) else pd.NA\n",
    "        details.append(detail)\n",
    "\n",
    "    # Append the data for this page to the DataFrame\n",
    "    page_df = pd.DataFrame({'title': titles, 'rating': ratings, 'date': dates, 'body': bodies, 'details': details})\n",
    "    df = pd.concat([df, page_df], ignore_index=True)\n",
    "    \n",
    "    driver.execute_script(\"window.scrollTo(0, document.body.scrollHeight);\")\n",
    "    # Click the next page button\n",
    "    #next_page_button = driver.find_element(By.CLASS_NAME, 'a-last')\n",
    "    #next_page_button.click()\n",
    "\n",
    "    # Wait for the next page to load\n",
    "    time.sleep(5)\n",
    "\n",
    "    print(\"Scraped Page No.\", x)\n",
    "\n",
    "\n",
    "# Reset index\n",
    "df.reset_index(drop=True, inplace=True)\n"
   ]
  },
  {
   "cell_type": "code",
   "execution_count": 272,
   "metadata": {
    "colab": {
     "base_uri": "https://localhost:8080/",
     "height": 1000
    },
    "id": "JKJFx8e2bdUo",
    "outputId": "67c25280-45c6-4f19-dc17-59d9f21270c7"
   },
   "outputs": [
    {
     "data": {
      "text/html": [
       "<div>\n",
       "<style scoped>\n",
       "    .dataframe tbody tr th:only-of-type {\n",
       "        vertical-align: middle;\n",
       "    }\n",
       "\n",
       "    .dataframe tbody tr th {\n",
       "        vertical-align: top;\n",
       "    }\n",
       "\n",
       "    .dataframe thead th {\n",
       "        text-align: right;\n",
       "    }\n",
       "</style>\n",
       "<table border=\"1\" class=\"dataframe\">\n",
       "  <thead>\n",
       "    <tr style=\"text-align: right;\">\n",
       "      <th></th>\n",
       "      <th>title</th>\n",
       "      <th>rating</th>\n",
       "      <th>date</th>\n",
       "      <th>body</th>\n",
       "      <th>details</th>\n",
       "    </tr>\n",
       "  </thead>\n",
       "  <tbody>\n",
       "    <tr>\n",
       "      <th>0</th>\n",
       "      <td>5.0 out of 5 stars\\nGood performance</td>\n",
       "      <td>5.0 out of 5 stars</td>\n",
       "      <td>Reviewed in India on 26 December 2023</td>\n",
       "      <td>\\nUpgrading from iPhone 11 to 15. Good one ful...</td>\n",
       "      <td>Colour: BlueSize: 256 GB</td>\n",
       "    </tr>\n",
       "    <tr>\n",
       "      <th>1</th>\n",
       "      <td>5.0 out of 5 stars\\nExcellent Product</td>\n",
       "      <td>5.0 out of 5 stars</td>\n",
       "      <td>Reviewed in India on 2 January 2024</td>\n",
       "      <td>\\nThis phone is good and quite seamless for mu...</td>\n",
       "      <td>Colour: BlackSize: 256 GB</td>\n",
       "    </tr>\n",
       "    <tr>\n",
       "      <th>2</th>\n",
       "      <td>5.0 out of 5 stars\\nOn Time delivery</td>\n",
       "      <td>5.0 out of 5 stars</td>\n",
       "      <td>Reviewed in India on 15 January 2024</td>\n",
       "      <td>\\nGood and quality\\n</td>\n",
       "      <td>Colour: BlackSize: 256 GB</td>\n",
       "    </tr>\n",
       "    <tr>\n",
       "      <th>3</th>\n",
       "      <td>4.0 out of 5 stars\\niPhone 15 A solid upgrade ...</td>\n",
       "      <td>4.0 out of 5 stars</td>\n",
       "      <td>Reviewed in India on 8 January 2024</td>\n",
       "      <td>\\nI am from Android(Samsung flagship phones)  ...</td>\n",
       "      <td>Colour: BlackSize: 256 GB</td>\n",
       "    </tr>\n",
       "    <tr>\n",
       "      <th>4</th>\n",
       "      <td>5.0 out of 5 stars\\nEnjoying iphone15</td>\n",
       "      <td>5.0 out of 5 stars</td>\n",
       "      <td>Reviewed in India on 13 December 2023</td>\n",
       "      <td>\\nMoved from android, display is impressiveCam...</td>\n",
       "      <td>Colour: BlackSize: 256 GB</td>\n",
       "    </tr>\n",
       "    <tr>\n",
       "      <th>5</th>\n",
       "      <td>5.0 out of 5 stars\\nFast delivery</td>\n",
       "      <td>5.0 out of 5 stars</td>\n",
       "      <td>Reviewed in India on 21 November 2023</td>\n",
       "      <td>\\nGood deal\\n</td>\n",
       "      <td>Colour: BlackSize: 256 GB</td>\n",
       "    </tr>\n",
       "    <tr>\n",
       "      <th>6</th>\n",
       "      <td>1.0 out of 5 stars\\nBad behaviour</td>\n",
       "      <td>1.0 out of 5 stars</td>\n",
       "      <td>Reviewed in India on 12 January 2024</td>\n",
       "      <td>\\nI want to give 0 start but had to give one s...</td>\n",
       "      <td>Colour: BlueSize: 256 GB</td>\n",
       "    </tr>\n",
       "    <tr>\n",
       "      <th>7</th>\n",
       "      <td>5.0 out of 5 stars\\nBest IPhone</td>\n",
       "      <td>5.0 out of 5 stars</td>\n",
       "      <td>Reviewed in India on 29 October 2023</td>\n",
       "      <td>\\nPerformance is great. Battery is too good an...</td>\n",
       "      <td>Colour: GreenSize: 256 GB</td>\n",
       "    </tr>\n",
       "    <tr>\n",
       "      <th>8</th>\n",
       "      <td>4.0 out of 5 stars\\nNice</td>\n",
       "      <td>4.0 out of 5 stars</td>\n",
       "      <td>Reviewed in India on 4 January 2024</td>\n",
       "      <td>\\nLike\\n</td>\n",
       "      <td>Colour: BlackSize: 256 GB</td>\n",
       "    </tr>\n",
       "    <tr>\n",
       "      <th>9</th>\n",
       "      <td>5.0 out of 5 stars\\nAuthentic Product</td>\n",
       "      <td>5.0 out of 5 stars</td>\n",
       "      <td>Reviewed in India on 31 December 2023</td>\n",
       "      <td>\\nAs usual good apple product\\n</td>\n",
       "      <td>Colour: PinkSize: 256 GB</td>\n",
       "    </tr>\n",
       "    <tr>\n",
       "      <th>10</th>\n",
       "      <td>5.0 out of 5 stars\\nGood performance</td>\n",
       "      <td>5.0 out of 5 stars</td>\n",
       "      <td>Reviewed in India on 26 December 2023</td>\n",
       "      <td>\\nUpgrading from iPhone 11 to 15. Good one ful...</td>\n",
       "      <td>Colour: BlueSize: 256 GB</td>\n",
       "    </tr>\n",
       "    <tr>\n",
       "      <th>11</th>\n",
       "      <td>5.0 out of 5 stars\\nExcellent Product</td>\n",
       "      <td>5.0 out of 5 stars</td>\n",
       "      <td>Reviewed in India on 2 January 2024</td>\n",
       "      <td>\\nThis phone is good and quite seamless for mu...</td>\n",
       "      <td>Colour: BlackSize: 256 GB</td>\n",
       "    </tr>\n",
       "    <tr>\n",
       "      <th>12</th>\n",
       "      <td>5.0 out of 5 stars\\nOn Time delivery</td>\n",
       "      <td>5.0 out of 5 stars</td>\n",
       "      <td>Reviewed in India on 15 January 2024</td>\n",
       "      <td>\\nGood and quality\\n</td>\n",
       "      <td>Colour: BlackSize: 256 GB</td>\n",
       "    </tr>\n",
       "    <tr>\n",
       "      <th>13</th>\n",
       "      <td>4.0 out of 5 stars\\niPhone 15 A solid upgrade ...</td>\n",
       "      <td>4.0 out of 5 stars</td>\n",
       "      <td>Reviewed in India on 8 January 2024</td>\n",
       "      <td>\\nI am from Android(Samsung flagship phones)  ...</td>\n",
       "      <td>Colour: BlackSize: 256 GB</td>\n",
       "    </tr>\n",
       "    <tr>\n",
       "      <th>14</th>\n",
       "      <td>5.0 out of 5 stars\\nEnjoying iphone15</td>\n",
       "      <td>5.0 out of 5 stars</td>\n",
       "      <td>Reviewed in India on 13 December 2023</td>\n",
       "      <td>\\nMoved from android, display is impressiveCam...</td>\n",
       "      <td>Colour: BlackSize: 256 GB</td>\n",
       "    </tr>\n",
       "    <tr>\n",
       "      <th>15</th>\n",
       "      <td>5.0 out of 5 stars\\nFast delivery</td>\n",
       "      <td>5.0 out of 5 stars</td>\n",
       "      <td>Reviewed in India on 21 November 2023</td>\n",
       "      <td>\\nGood deal\\n</td>\n",
       "      <td>Colour: BlackSize: 256 GB</td>\n",
       "    </tr>\n",
       "    <tr>\n",
       "      <th>16</th>\n",
       "      <td>1.0 out of 5 stars\\nBad behaviour</td>\n",
       "      <td>1.0 out of 5 stars</td>\n",
       "      <td>Reviewed in India on 12 January 2024</td>\n",
       "      <td>\\nI want to give 0 start but had to give one s...</td>\n",
       "      <td>Colour: BlueSize: 256 GB</td>\n",
       "    </tr>\n",
       "    <tr>\n",
       "      <th>17</th>\n",
       "      <td>5.0 out of 5 stars\\nBest IPhone</td>\n",
       "      <td>5.0 out of 5 stars</td>\n",
       "      <td>Reviewed in India on 29 October 2023</td>\n",
       "      <td>\\nPerformance is great. Battery is too good an...</td>\n",
       "      <td>Colour: GreenSize: 256 GB</td>\n",
       "    </tr>\n",
       "    <tr>\n",
       "      <th>18</th>\n",
       "      <td>4.0 out of 5 stars\\nNice</td>\n",
       "      <td>4.0 out of 5 stars</td>\n",
       "      <td>Reviewed in India on 4 January 2024</td>\n",
       "      <td>\\nLike\\n</td>\n",
       "      <td>Colour: BlackSize: 256 GB</td>\n",
       "    </tr>\n",
       "    <tr>\n",
       "      <th>19</th>\n",
       "      <td>5.0 out of 5 stars\\nAuthentic Product</td>\n",
       "      <td>5.0 out of 5 stars</td>\n",
       "      <td>Reviewed in India on 31 December 2023</td>\n",
       "      <td>\\nAs usual good apple product\\n</td>\n",
       "      <td>Colour: PinkSize: 256 GB</td>\n",
       "    </tr>\n",
       "    <tr>\n",
       "      <th>20</th>\n",
       "      <td>5.0 out of 5 stars\\nGood performance</td>\n",
       "      <td>5.0 out of 5 stars</td>\n",
       "      <td>Reviewed in India on 26 December 2023</td>\n",
       "      <td>\\nUpgrading from iPhone 11 to 15. Good one ful...</td>\n",
       "      <td>Colour: BlueSize: 256 GB</td>\n",
       "    </tr>\n",
       "    <tr>\n",
       "      <th>21</th>\n",
       "      <td>5.0 out of 5 stars\\nExcellent Product</td>\n",
       "      <td>5.0 out of 5 stars</td>\n",
       "      <td>Reviewed in India on 2 January 2024</td>\n",
       "      <td>\\nThis phone is good and quite seamless for mu...</td>\n",
       "      <td>Colour: BlackSize: 256 GB</td>\n",
       "    </tr>\n",
       "    <tr>\n",
       "      <th>22</th>\n",
       "      <td>5.0 out of 5 stars\\nOn Time delivery</td>\n",
       "      <td>5.0 out of 5 stars</td>\n",
       "      <td>Reviewed in India on 15 January 2024</td>\n",
       "      <td>\\nGood and quality\\n</td>\n",
       "      <td>Colour: BlackSize: 256 GB</td>\n",
       "    </tr>\n",
       "    <tr>\n",
       "      <th>23</th>\n",
       "      <td>4.0 out of 5 stars\\niPhone 15 A solid upgrade ...</td>\n",
       "      <td>4.0 out of 5 stars</td>\n",
       "      <td>Reviewed in India on 8 January 2024</td>\n",
       "      <td>\\nI am from Android(Samsung flagship phones)  ...</td>\n",
       "      <td>Colour: BlackSize: 256 GB</td>\n",
       "    </tr>\n",
       "    <tr>\n",
       "      <th>24</th>\n",
       "      <td>5.0 out of 5 stars\\nEnjoying iphone15</td>\n",
       "      <td>5.0 out of 5 stars</td>\n",
       "      <td>Reviewed in India on 13 December 2023</td>\n",
       "      <td>\\nMoved from android, display is impressiveCam...</td>\n",
       "      <td>Colour: BlackSize: 256 GB</td>\n",
       "    </tr>\n",
       "    <tr>\n",
       "      <th>25</th>\n",
       "      <td>5.0 out of 5 stars\\nFast delivery</td>\n",
       "      <td>5.0 out of 5 stars</td>\n",
       "      <td>Reviewed in India on 21 November 2023</td>\n",
       "      <td>\\nGood deal\\n</td>\n",
       "      <td>Colour: BlackSize: 256 GB</td>\n",
       "    </tr>\n",
       "    <tr>\n",
       "      <th>26</th>\n",
       "      <td>1.0 out of 5 stars\\nBad behaviour</td>\n",
       "      <td>1.0 out of 5 stars</td>\n",
       "      <td>Reviewed in India on 12 January 2024</td>\n",
       "      <td>\\nI want to give 0 start but had to give one s...</td>\n",
       "      <td>Colour: BlueSize: 256 GB</td>\n",
       "    </tr>\n",
       "    <tr>\n",
       "      <th>27</th>\n",
       "      <td>5.0 out of 5 stars\\nBest IPhone</td>\n",
       "      <td>5.0 out of 5 stars</td>\n",
       "      <td>Reviewed in India on 29 October 2023</td>\n",
       "      <td>\\nPerformance is great. Battery is too good an...</td>\n",
       "      <td>Colour: GreenSize: 256 GB</td>\n",
       "    </tr>\n",
       "    <tr>\n",
       "      <th>28</th>\n",
       "      <td>4.0 out of 5 stars\\nNice</td>\n",
       "      <td>4.0 out of 5 stars</td>\n",
       "      <td>Reviewed in India on 4 January 2024</td>\n",
       "      <td>\\nLike\\n</td>\n",
       "      <td>Colour: BlackSize: 256 GB</td>\n",
       "    </tr>\n",
       "    <tr>\n",
       "      <th>29</th>\n",
       "      <td>5.0 out of 5 stars\\nAuthentic Product</td>\n",
       "      <td>5.0 out of 5 stars</td>\n",
       "      <td>Reviewed in India on 31 December 2023</td>\n",
       "      <td>\\nAs usual good apple product\\n</td>\n",
       "      <td>Colour: PinkSize: 256 GB</td>\n",
       "    </tr>\n",
       "    <tr>\n",
       "      <th>30</th>\n",
       "      <td>5.0 out of 5 stars\\nGood performance</td>\n",
       "      <td>5.0 out of 5 stars</td>\n",
       "      <td>Reviewed in India on 26 December 2023</td>\n",
       "      <td>\\nUpgrading from iPhone 11 to 15. Good one ful...</td>\n",
       "      <td>Colour: BlueSize: 256 GB</td>\n",
       "    </tr>\n",
       "    <tr>\n",
       "      <th>31</th>\n",
       "      <td>5.0 out of 5 stars\\nExcellent Product</td>\n",
       "      <td>5.0 out of 5 stars</td>\n",
       "      <td>Reviewed in India on 2 January 2024</td>\n",
       "      <td>\\nThis phone is good and quite seamless for mu...</td>\n",
       "      <td>Colour: BlackSize: 256 GB</td>\n",
       "    </tr>\n",
       "    <tr>\n",
       "      <th>32</th>\n",
       "      <td>5.0 out of 5 stars\\nOn Time delivery</td>\n",
       "      <td>5.0 out of 5 stars</td>\n",
       "      <td>Reviewed in India on 15 January 2024</td>\n",
       "      <td>\\nGood and quality\\n</td>\n",
       "      <td>Colour: BlackSize: 256 GB</td>\n",
       "    </tr>\n",
       "    <tr>\n",
       "      <th>33</th>\n",
       "      <td>4.0 out of 5 stars\\niPhone 15 A solid upgrade ...</td>\n",
       "      <td>4.0 out of 5 stars</td>\n",
       "      <td>Reviewed in India on 8 January 2024</td>\n",
       "      <td>\\nI am from Android(Samsung flagship phones)  ...</td>\n",
       "      <td>Colour: BlackSize: 256 GB</td>\n",
       "    </tr>\n",
       "    <tr>\n",
       "      <th>34</th>\n",
       "      <td>5.0 out of 5 stars\\nEnjoying iphone15</td>\n",
       "      <td>5.0 out of 5 stars</td>\n",
       "      <td>Reviewed in India on 13 December 2023</td>\n",
       "      <td>\\nMoved from android, display is impressiveCam...</td>\n",
       "      <td>Colour: BlackSize: 256 GB</td>\n",
       "    </tr>\n",
       "    <tr>\n",
       "      <th>35</th>\n",
       "      <td>5.0 out of 5 stars\\nFast delivery</td>\n",
       "      <td>5.0 out of 5 stars</td>\n",
       "      <td>Reviewed in India on 21 November 2023</td>\n",
       "      <td>\\nGood deal\\n</td>\n",
       "      <td>Colour: BlackSize: 256 GB</td>\n",
       "    </tr>\n",
       "    <tr>\n",
       "      <th>36</th>\n",
       "      <td>1.0 out of 5 stars\\nBad behaviour</td>\n",
       "      <td>1.0 out of 5 stars</td>\n",
       "      <td>Reviewed in India on 12 January 2024</td>\n",
       "      <td>\\nI want to give 0 start but had to give one s...</td>\n",
       "      <td>Colour: BlueSize: 256 GB</td>\n",
       "    </tr>\n",
       "    <tr>\n",
       "      <th>37</th>\n",
       "      <td>5.0 out of 5 stars\\nBest IPhone</td>\n",
       "      <td>5.0 out of 5 stars</td>\n",
       "      <td>Reviewed in India on 29 October 2023</td>\n",
       "      <td>\\nPerformance is great. Battery is too good an...</td>\n",
       "      <td>Colour: GreenSize: 256 GB</td>\n",
       "    </tr>\n",
       "    <tr>\n",
       "      <th>38</th>\n",
       "      <td>4.0 out of 5 stars\\nNice</td>\n",
       "      <td>4.0 out of 5 stars</td>\n",
       "      <td>Reviewed in India on 4 January 2024</td>\n",
       "      <td>\\nLike\\n</td>\n",
       "      <td>Colour: BlackSize: 256 GB</td>\n",
       "    </tr>\n",
       "    <tr>\n",
       "      <th>39</th>\n",
       "      <td>5.0 out of 5 stars\\nAuthentic Product</td>\n",
       "      <td>5.0 out of 5 stars</td>\n",
       "      <td>Reviewed in India on 31 December 2023</td>\n",
       "      <td>\\nAs usual good apple product\\n</td>\n",
       "      <td>Colour: PinkSize: 256 GB</td>\n",
       "    </tr>\n",
       "    <tr>\n",
       "      <th>40</th>\n",
       "      <td>5.0 out of 5 stars\\nGood performance</td>\n",
       "      <td>5.0 out of 5 stars</td>\n",
       "      <td>Reviewed in India on 26 December 2023</td>\n",
       "      <td>\\nUpgrading from iPhone 11 to 15. Good one ful...</td>\n",
       "      <td>Colour: BlueSize: 256 GB</td>\n",
       "    </tr>\n",
       "    <tr>\n",
       "      <th>41</th>\n",
       "      <td>5.0 out of 5 stars\\nExcellent Product</td>\n",
       "      <td>5.0 out of 5 stars</td>\n",
       "      <td>Reviewed in India on 2 January 2024</td>\n",
       "      <td>\\nThis phone is good and quite seamless for mu...</td>\n",
       "      <td>Colour: BlackSize: 256 GB</td>\n",
       "    </tr>\n",
       "    <tr>\n",
       "      <th>42</th>\n",
       "      <td>5.0 out of 5 stars\\nOn Time delivery</td>\n",
       "      <td>5.0 out of 5 stars</td>\n",
       "      <td>Reviewed in India on 15 January 2024</td>\n",
       "      <td>\\nGood and quality\\n</td>\n",
       "      <td>Colour: BlackSize: 256 GB</td>\n",
       "    </tr>\n",
       "    <tr>\n",
       "      <th>43</th>\n",
       "      <td>4.0 out of 5 stars\\niPhone 15 A solid upgrade ...</td>\n",
       "      <td>4.0 out of 5 stars</td>\n",
       "      <td>Reviewed in India on 8 January 2024</td>\n",
       "      <td>\\nI am from Android(Samsung flagship phones)  ...</td>\n",
       "      <td>Colour: BlackSize: 256 GB</td>\n",
       "    </tr>\n",
       "    <tr>\n",
       "      <th>44</th>\n",
       "      <td>5.0 out of 5 stars\\nEnjoying iphone15</td>\n",
       "      <td>5.0 out of 5 stars</td>\n",
       "      <td>Reviewed in India on 13 December 2023</td>\n",
       "      <td>\\nMoved from android, display is impressiveCam...</td>\n",
       "      <td>Colour: BlackSize: 256 GB</td>\n",
       "    </tr>\n",
       "    <tr>\n",
       "      <th>45</th>\n",
       "      <td>5.0 out of 5 stars\\nFast delivery</td>\n",
       "      <td>5.0 out of 5 stars</td>\n",
       "      <td>Reviewed in India on 21 November 2023</td>\n",
       "      <td>\\nGood deal\\n</td>\n",
       "      <td>Colour: BlackSize: 256 GB</td>\n",
       "    </tr>\n",
       "    <tr>\n",
       "      <th>46</th>\n",
       "      <td>1.0 out of 5 stars\\nBad behaviour</td>\n",
       "      <td>1.0 out of 5 stars</td>\n",
       "      <td>Reviewed in India on 12 January 2024</td>\n",
       "      <td>\\nI want to give 0 start but had to give one s...</td>\n",
       "      <td>Colour: BlueSize: 256 GB</td>\n",
       "    </tr>\n",
       "    <tr>\n",
       "      <th>47</th>\n",
       "      <td>5.0 out of 5 stars\\nBest IPhone</td>\n",
       "      <td>5.0 out of 5 stars</td>\n",
       "      <td>Reviewed in India on 29 October 2023</td>\n",
       "      <td>\\nPerformance is great. Battery is too good an...</td>\n",
       "      <td>Colour: GreenSize: 256 GB</td>\n",
       "    </tr>\n",
       "    <tr>\n",
       "      <th>48</th>\n",
       "      <td>4.0 out of 5 stars\\nNice</td>\n",
       "      <td>4.0 out of 5 stars</td>\n",
       "      <td>Reviewed in India on 4 January 2024</td>\n",
       "      <td>\\nLike\\n</td>\n",
       "      <td>Colour: BlackSize: 256 GB</td>\n",
       "    </tr>\n",
       "    <tr>\n",
       "      <th>49</th>\n",
       "      <td>5.0 out of 5 stars\\nAuthentic Product</td>\n",
       "      <td>5.0 out of 5 stars</td>\n",
       "      <td>Reviewed in India on 31 December 2023</td>\n",
       "      <td>\\nAs usual good apple product\\n</td>\n",
       "      <td>Colour: PinkSize: 256 GB</td>\n",
       "    </tr>\n",
       "  </tbody>\n",
       "</table>\n",
       "</div>"
      ],
      "text/plain": [
       "                                                title              rating  \\\n",
       "0                5.0 out of 5 stars\\nGood performance  5.0 out of 5 stars   \n",
       "1               5.0 out of 5 stars\\nExcellent Product  5.0 out of 5 stars   \n",
       "2                5.0 out of 5 stars\\nOn Time delivery  5.0 out of 5 stars   \n",
       "3   4.0 out of 5 stars\\niPhone 15 A solid upgrade ...  4.0 out of 5 stars   \n",
       "4               5.0 out of 5 stars\\nEnjoying iphone15  5.0 out of 5 stars   \n",
       "5                   5.0 out of 5 stars\\nFast delivery  5.0 out of 5 stars   \n",
       "6                   1.0 out of 5 stars\\nBad behaviour  1.0 out of 5 stars   \n",
       "7                     5.0 out of 5 stars\\nBest IPhone  5.0 out of 5 stars   \n",
       "8                            4.0 out of 5 stars\\nNice  4.0 out of 5 stars   \n",
       "9               5.0 out of 5 stars\\nAuthentic Product  5.0 out of 5 stars   \n",
       "10               5.0 out of 5 stars\\nGood performance  5.0 out of 5 stars   \n",
       "11              5.0 out of 5 stars\\nExcellent Product  5.0 out of 5 stars   \n",
       "12               5.0 out of 5 stars\\nOn Time delivery  5.0 out of 5 stars   \n",
       "13  4.0 out of 5 stars\\niPhone 15 A solid upgrade ...  4.0 out of 5 stars   \n",
       "14              5.0 out of 5 stars\\nEnjoying iphone15  5.0 out of 5 stars   \n",
       "15                  5.0 out of 5 stars\\nFast delivery  5.0 out of 5 stars   \n",
       "16                  1.0 out of 5 stars\\nBad behaviour  1.0 out of 5 stars   \n",
       "17                    5.0 out of 5 stars\\nBest IPhone  5.0 out of 5 stars   \n",
       "18                           4.0 out of 5 stars\\nNice  4.0 out of 5 stars   \n",
       "19              5.0 out of 5 stars\\nAuthentic Product  5.0 out of 5 stars   \n",
       "20               5.0 out of 5 stars\\nGood performance  5.0 out of 5 stars   \n",
       "21              5.0 out of 5 stars\\nExcellent Product  5.0 out of 5 stars   \n",
       "22               5.0 out of 5 stars\\nOn Time delivery  5.0 out of 5 stars   \n",
       "23  4.0 out of 5 stars\\niPhone 15 A solid upgrade ...  4.0 out of 5 stars   \n",
       "24              5.0 out of 5 stars\\nEnjoying iphone15  5.0 out of 5 stars   \n",
       "25                  5.0 out of 5 stars\\nFast delivery  5.0 out of 5 stars   \n",
       "26                  1.0 out of 5 stars\\nBad behaviour  1.0 out of 5 stars   \n",
       "27                    5.0 out of 5 stars\\nBest IPhone  5.0 out of 5 stars   \n",
       "28                           4.0 out of 5 stars\\nNice  4.0 out of 5 stars   \n",
       "29              5.0 out of 5 stars\\nAuthentic Product  5.0 out of 5 stars   \n",
       "30               5.0 out of 5 stars\\nGood performance  5.0 out of 5 stars   \n",
       "31              5.0 out of 5 stars\\nExcellent Product  5.0 out of 5 stars   \n",
       "32               5.0 out of 5 stars\\nOn Time delivery  5.0 out of 5 stars   \n",
       "33  4.0 out of 5 stars\\niPhone 15 A solid upgrade ...  4.0 out of 5 stars   \n",
       "34              5.0 out of 5 stars\\nEnjoying iphone15  5.0 out of 5 stars   \n",
       "35                  5.0 out of 5 stars\\nFast delivery  5.0 out of 5 stars   \n",
       "36                  1.0 out of 5 stars\\nBad behaviour  1.0 out of 5 stars   \n",
       "37                    5.0 out of 5 stars\\nBest IPhone  5.0 out of 5 stars   \n",
       "38                           4.0 out of 5 stars\\nNice  4.0 out of 5 stars   \n",
       "39              5.0 out of 5 stars\\nAuthentic Product  5.0 out of 5 stars   \n",
       "40               5.0 out of 5 stars\\nGood performance  5.0 out of 5 stars   \n",
       "41              5.0 out of 5 stars\\nExcellent Product  5.0 out of 5 stars   \n",
       "42               5.0 out of 5 stars\\nOn Time delivery  5.0 out of 5 stars   \n",
       "43  4.0 out of 5 stars\\niPhone 15 A solid upgrade ...  4.0 out of 5 stars   \n",
       "44              5.0 out of 5 stars\\nEnjoying iphone15  5.0 out of 5 stars   \n",
       "45                  5.0 out of 5 stars\\nFast delivery  5.0 out of 5 stars   \n",
       "46                  1.0 out of 5 stars\\nBad behaviour  1.0 out of 5 stars   \n",
       "47                    5.0 out of 5 stars\\nBest IPhone  5.0 out of 5 stars   \n",
       "48                           4.0 out of 5 stars\\nNice  4.0 out of 5 stars   \n",
       "49              5.0 out of 5 stars\\nAuthentic Product  5.0 out of 5 stars   \n",
       "\n",
       "                                     date  \\\n",
       "0   Reviewed in India on 26 December 2023   \n",
       "1     Reviewed in India on 2 January 2024   \n",
       "2    Reviewed in India on 15 January 2024   \n",
       "3     Reviewed in India on 8 January 2024   \n",
       "4   Reviewed in India on 13 December 2023   \n",
       "5   Reviewed in India on 21 November 2023   \n",
       "6    Reviewed in India on 12 January 2024   \n",
       "7    Reviewed in India on 29 October 2023   \n",
       "8     Reviewed in India on 4 January 2024   \n",
       "9   Reviewed in India on 31 December 2023   \n",
       "10  Reviewed in India on 26 December 2023   \n",
       "11    Reviewed in India on 2 January 2024   \n",
       "12   Reviewed in India on 15 January 2024   \n",
       "13    Reviewed in India on 8 January 2024   \n",
       "14  Reviewed in India on 13 December 2023   \n",
       "15  Reviewed in India on 21 November 2023   \n",
       "16   Reviewed in India on 12 January 2024   \n",
       "17   Reviewed in India on 29 October 2023   \n",
       "18    Reviewed in India on 4 January 2024   \n",
       "19  Reviewed in India on 31 December 2023   \n",
       "20  Reviewed in India on 26 December 2023   \n",
       "21    Reviewed in India on 2 January 2024   \n",
       "22   Reviewed in India on 15 January 2024   \n",
       "23    Reviewed in India on 8 January 2024   \n",
       "24  Reviewed in India on 13 December 2023   \n",
       "25  Reviewed in India on 21 November 2023   \n",
       "26   Reviewed in India on 12 January 2024   \n",
       "27   Reviewed in India on 29 October 2023   \n",
       "28    Reviewed in India on 4 January 2024   \n",
       "29  Reviewed in India on 31 December 2023   \n",
       "30  Reviewed in India on 26 December 2023   \n",
       "31    Reviewed in India on 2 January 2024   \n",
       "32   Reviewed in India on 15 January 2024   \n",
       "33    Reviewed in India on 8 January 2024   \n",
       "34  Reviewed in India on 13 December 2023   \n",
       "35  Reviewed in India on 21 November 2023   \n",
       "36   Reviewed in India on 12 January 2024   \n",
       "37   Reviewed in India on 29 October 2023   \n",
       "38    Reviewed in India on 4 January 2024   \n",
       "39  Reviewed in India on 31 December 2023   \n",
       "40  Reviewed in India on 26 December 2023   \n",
       "41    Reviewed in India on 2 January 2024   \n",
       "42   Reviewed in India on 15 January 2024   \n",
       "43    Reviewed in India on 8 January 2024   \n",
       "44  Reviewed in India on 13 December 2023   \n",
       "45  Reviewed in India on 21 November 2023   \n",
       "46   Reviewed in India on 12 January 2024   \n",
       "47   Reviewed in India on 29 October 2023   \n",
       "48    Reviewed in India on 4 January 2024   \n",
       "49  Reviewed in India on 31 December 2023   \n",
       "\n",
       "                                                 body  \\\n",
       "0   \\nUpgrading from iPhone 11 to 15. Good one ful...   \n",
       "1   \\nThis phone is good and quite seamless for mu...   \n",
       "2                                \\nGood and quality\\n   \n",
       "3   \\nI am from Android(Samsung flagship phones)  ...   \n",
       "4   \\nMoved from android, display is impressiveCam...   \n",
       "5                                       \\nGood deal\\n   \n",
       "6   \\nI want to give 0 start but had to give one s...   \n",
       "7   \\nPerformance is great. Battery is too good an...   \n",
       "8                                            \\nLike\\n   \n",
       "9                     \\nAs usual good apple product\\n   \n",
       "10  \\nUpgrading from iPhone 11 to 15. Good one ful...   \n",
       "11  \\nThis phone is good and quite seamless for mu...   \n",
       "12                               \\nGood and quality\\n   \n",
       "13  \\nI am from Android(Samsung flagship phones)  ...   \n",
       "14  \\nMoved from android, display is impressiveCam...   \n",
       "15                                      \\nGood deal\\n   \n",
       "16  \\nI want to give 0 start but had to give one s...   \n",
       "17  \\nPerformance is great. Battery is too good an...   \n",
       "18                                           \\nLike\\n   \n",
       "19                    \\nAs usual good apple product\\n   \n",
       "20  \\nUpgrading from iPhone 11 to 15. Good one ful...   \n",
       "21  \\nThis phone is good and quite seamless for mu...   \n",
       "22                               \\nGood and quality\\n   \n",
       "23  \\nI am from Android(Samsung flagship phones)  ...   \n",
       "24  \\nMoved from android, display is impressiveCam...   \n",
       "25                                      \\nGood deal\\n   \n",
       "26  \\nI want to give 0 start but had to give one s...   \n",
       "27  \\nPerformance is great. Battery is too good an...   \n",
       "28                                           \\nLike\\n   \n",
       "29                    \\nAs usual good apple product\\n   \n",
       "30  \\nUpgrading from iPhone 11 to 15. Good one ful...   \n",
       "31  \\nThis phone is good and quite seamless for mu...   \n",
       "32                               \\nGood and quality\\n   \n",
       "33  \\nI am from Android(Samsung flagship phones)  ...   \n",
       "34  \\nMoved from android, display is impressiveCam...   \n",
       "35                                      \\nGood deal\\n   \n",
       "36  \\nI want to give 0 start but had to give one s...   \n",
       "37  \\nPerformance is great. Battery is too good an...   \n",
       "38                                           \\nLike\\n   \n",
       "39                    \\nAs usual good apple product\\n   \n",
       "40  \\nUpgrading from iPhone 11 to 15. Good one ful...   \n",
       "41  \\nThis phone is good and quite seamless for mu...   \n",
       "42                               \\nGood and quality\\n   \n",
       "43  \\nI am from Android(Samsung flagship phones)  ...   \n",
       "44  \\nMoved from android, display is impressiveCam...   \n",
       "45                                      \\nGood deal\\n   \n",
       "46  \\nI want to give 0 start but had to give one s...   \n",
       "47  \\nPerformance is great. Battery is too good an...   \n",
       "48                                           \\nLike\\n   \n",
       "49                    \\nAs usual good apple product\\n   \n",
       "\n",
       "                      details  \n",
       "0    Colour: BlueSize: 256 GB  \n",
       "1   Colour: BlackSize: 256 GB  \n",
       "2   Colour: BlackSize: 256 GB  \n",
       "3   Colour: BlackSize: 256 GB  \n",
       "4   Colour: BlackSize: 256 GB  \n",
       "5   Colour: BlackSize: 256 GB  \n",
       "6    Colour: BlueSize: 256 GB  \n",
       "7   Colour: GreenSize: 256 GB  \n",
       "8   Colour: BlackSize: 256 GB  \n",
       "9    Colour: PinkSize: 256 GB  \n",
       "10   Colour: BlueSize: 256 GB  \n",
       "11  Colour: BlackSize: 256 GB  \n",
       "12  Colour: BlackSize: 256 GB  \n",
       "13  Colour: BlackSize: 256 GB  \n",
       "14  Colour: BlackSize: 256 GB  \n",
       "15  Colour: BlackSize: 256 GB  \n",
       "16   Colour: BlueSize: 256 GB  \n",
       "17  Colour: GreenSize: 256 GB  \n",
       "18  Colour: BlackSize: 256 GB  \n",
       "19   Colour: PinkSize: 256 GB  \n",
       "20   Colour: BlueSize: 256 GB  \n",
       "21  Colour: BlackSize: 256 GB  \n",
       "22  Colour: BlackSize: 256 GB  \n",
       "23  Colour: BlackSize: 256 GB  \n",
       "24  Colour: BlackSize: 256 GB  \n",
       "25  Colour: BlackSize: 256 GB  \n",
       "26   Colour: BlueSize: 256 GB  \n",
       "27  Colour: GreenSize: 256 GB  \n",
       "28  Colour: BlackSize: 256 GB  \n",
       "29   Colour: PinkSize: 256 GB  \n",
       "30   Colour: BlueSize: 256 GB  \n",
       "31  Colour: BlackSize: 256 GB  \n",
       "32  Colour: BlackSize: 256 GB  \n",
       "33  Colour: BlackSize: 256 GB  \n",
       "34  Colour: BlackSize: 256 GB  \n",
       "35  Colour: BlackSize: 256 GB  \n",
       "36   Colour: BlueSize: 256 GB  \n",
       "37  Colour: GreenSize: 256 GB  \n",
       "38  Colour: BlackSize: 256 GB  \n",
       "39   Colour: PinkSize: 256 GB  \n",
       "40   Colour: BlueSize: 256 GB  \n",
       "41  Colour: BlackSize: 256 GB  \n",
       "42  Colour: BlackSize: 256 GB  \n",
       "43  Colour: BlackSize: 256 GB  \n",
       "44  Colour: BlackSize: 256 GB  \n",
       "45  Colour: BlackSize: 256 GB  \n",
       "46   Colour: BlueSize: 256 GB  \n",
       "47  Colour: GreenSize: 256 GB  \n",
       "48  Colour: BlackSize: 256 GB  \n",
       "49   Colour: PinkSize: 256 GB  "
      ]
     },
     "execution_count": 272,
     "metadata": {},
     "output_type": "execute_result"
    }
   ],
   "source": [
    "df.head(50)"
   ]
  },
  {
   "cell_type": "code",
   "execution_count": 273,
   "metadata": {
    "id": "qUettdSBxlZD"
   },
   "outputs": [],
   "source": [
    "df.to_excel(\"Dataset.xlsx\")"
   ]
  },
  {
   "cell_type": "code",
   "execution_count": null,
   "metadata": {},
   "outputs": [],
   "source": []
  }
 ],
 "metadata": {
  "colab": {
   "provenance": []
  },
  "kernelspec": {
   "display_name": "Python 3 (ipykernel)",
   "language": "python",
   "name": "python3"
  },
  "language_info": {
   "codemirror_mode": {
    "name": "ipython",
    "version": 3
   },
   "file_extension": ".py",
   "mimetype": "text/x-python",
   "name": "python",
   "nbconvert_exporter": "python",
   "pygments_lexer": "ipython3",
   "version": "3.11.5"
  }
 },
 "nbformat": 4,
 "nbformat_minor": 1
}
