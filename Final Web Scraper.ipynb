{
 "cells": [
  {
   "cell_type": "code",
   "execution_count": 50,
   "metadata": {},
   "outputs": [
    {
     "name": "stdout",
     "output_type": "stream",
     "text": [
      "Defaulting to user installation because normal site-packages is not writeable\n",
      "Requirement already satisfied: pandas in c:\\programdata\\anaconda3\\lib\\site-packages (2.0.3)\n",
      "Requirement already satisfied: python-dateutil>=2.8.2 in c:\\programdata\\anaconda3\\lib\\site-packages (from pandas) (2.8.2)\n",
      "Requirement already satisfied: pytz>=2020.1 in c:\\programdata\\anaconda3\\lib\\site-packages (from pandas) (2023.3.post1)\n",
      "Requirement already satisfied: tzdata>=2022.1 in c:\\programdata\\anaconda3\\lib\\site-packages (from pandas) (2023.3)\n",
      "Requirement already satisfied: numpy>=1.21.0 in c:\\programdata\\anaconda3\\lib\\site-packages (from pandas) (1.24.3)\n",
      "Requirement already satisfied: six>=1.5 in c:\\programdata\\anaconda3\\lib\\site-packages (from python-dateutil>=2.8.2->pandas) (1.16.0)\n"
     ]
    }
   ],
   "source": [
    "!pip install pandas"
   ]
  },
  {
   "cell_type": "code",
   "execution_count": 51,
   "metadata": {
    "colab": {
     "base_uri": "https://localhost:8080/"
    },
    "id": "h2QX0szMmBBK",
    "outputId": "1b194553-9854-4d81-e374-4186eb09b320"
   },
   "outputs": [
    {
     "name": "stdout",
     "output_type": "stream",
     "text": [
      "Defaulting to user installation because normal site-packages is not writeable\n",
      "Requirement already satisfied: selenium in c:\\users\\admin\\appdata\\roaming\\python\\python311\\site-packages (4.17.2)\n",
      "Requirement already satisfied: urllib3[socks]<3,>=1.26 in c:\\programdata\\anaconda3\\lib\\site-packages (from selenium) (1.26.16)\n",
      "Requirement already satisfied: trio~=0.17 in c:\\users\\admin\\appdata\\roaming\\python\\python311\\site-packages (from selenium) (0.24.0)\n",
      "Requirement already satisfied: trio-websocket~=0.9 in c:\\users\\admin\\appdata\\roaming\\python\\python311\\site-packages (from selenium) (0.11.1)\n",
      "Requirement already satisfied: certifi>=2021.10.8 in c:\\programdata\\anaconda3\\lib\\site-packages (from selenium) (2024.2.2)\n",
      "Requirement already satisfied: typing_extensions>=4.9.0 in c:\\users\\admin\\appdata\\roaming\\python\\python311\\site-packages (from selenium) (4.9.0)\n",
      "Requirement already satisfied: attrs>=20.1.0 in c:\\programdata\\anaconda3\\lib\\site-packages (from trio~=0.17->selenium) (22.1.0)\n",
      "Requirement already satisfied: sortedcontainers in c:\\programdata\\anaconda3\\lib\\site-packages (from trio~=0.17->selenium) (2.4.0)\n",
      "Requirement already satisfied: idna in c:\\users\\admin\\appdata\\roaming\\python\\python311\\site-packages (from trio~=0.17->selenium) (2.10)\n",
      "Requirement already satisfied: outcome in c:\\users\\admin\\appdata\\roaming\\python\\python311\\site-packages (from trio~=0.17->selenium) (1.3.0.post0)\n",
      "Requirement already satisfied: sniffio>=1.3.0 in c:\\users\\admin\\appdata\\roaming\\python\\python311\\site-packages (from trio~=0.17->selenium) (1.3.0)\n",
      "Requirement already satisfied: cffi>=1.14 in c:\\programdata\\anaconda3\\lib\\site-packages (from trio~=0.17->selenium) (1.15.1)\n",
      "Requirement already satisfied: wsproto>=0.14 in c:\\users\\admin\\appdata\\roaming\\python\\python311\\site-packages (from trio-websocket~=0.9->selenium) (1.2.0)\n",
      "Requirement already satisfied: PySocks!=1.5.7,<2.0,>=1.5.6 in c:\\programdata\\anaconda3\\lib\\site-packages (from urllib3[socks]<3,>=1.26->selenium) (1.7.1)\n",
      "Requirement already satisfied: pycparser in c:\\programdata\\anaconda3\\lib\\site-packages (from cffi>=1.14->trio~=0.17->selenium) (2.21)\n",
      "Requirement already satisfied: h11<1,>=0.9.0 in c:\\users\\admin\\appdata\\roaming\\python\\python311\\site-packages (from wsproto>=0.14->trio-websocket~=0.9->selenium) (0.9.0)\n"
     ]
    }
   ],
   "source": [
    "!pip install selenium"
   ]
  },
  {
   "cell_type": "code",
   "execution_count": 52,
   "metadata": {
    "colab": {
     "base_uri": "https://localhost:8080/"
    },
    "id": "r3RhxETF4wID",
    "outputId": "e6dc2c78-6e4f-4b82-8bc2-a72330820483"
   },
   "outputs": [
    {
     "name": "stdout",
     "output_type": "stream",
     "text": [
      "Defaulting to user installation because normal site-packages is not writeable\n",
      "Requirement already satisfied: bs4 in c:\\users\\admin\\appdata\\roaming\\python\\python311\\site-packages (0.0.2)\n",
      "Requirement already satisfied: beautifulsoup4 in c:\\programdata\\anaconda3\\lib\\site-packages (from bs4) (4.12.2)\n",
      "Requirement already satisfied: soupsieve>1.2 in c:\\programdata\\anaconda3\\lib\\site-packages (from beautifulsoup4->bs4) (2.4)\n"
     ]
    }
   ],
   "source": [
    "!pip install bs4"
   ]
  },
  {
   "cell_type": "code",
   "execution_count": 74,
   "metadata": {
    "colab": {
     "base_uri": "https://localhost:8080/"
    },
    "id": "7rUIrOcFnJE_",
    "outputId": "7be7f228-cc85-4af7-b2fb-e6a7655565b0"
   },
   "outputs": [],
   "source": [
    "#!apt-get update"
   ]
  },
  {
   "cell_type": "code",
   "execution_count": 75,
   "metadata": {
    "colab": {
     "base_uri": "https://localhost:8080/"
    },
    "id": "OrHkMiOOnunU",
    "outputId": "bed55f23-07f3-4315-f9a0-4c098130a8f6"
   },
   "outputs": [],
   "source": [
    "#!apt-get install chromium chromium-driver"
   ]
  },
  {
   "cell_type": "code",
   "execution_count": 76,
   "metadata": {
    "id": "W4n8PfM_n14Y"
   },
   "outputs": [],
   "source": [
    "from selenium import webdriver\n",
    "from selenium.webdriver.common.by import By\n",
    "from selenium.webdriver.support import expected_conditions as EC\n",
    "from selenium.webdriver.support.ui import WebDriverWait\n",
    "import time\n",
    "\n",
    "\n",
    "def web_driver():\n",
    "    options = webdriver.ChromeOptions()\n",
    "    options.add_argument(\"--verbose\")\n",
    "    options.add_argument('--no-sandbox')\n",
    "    options.add_argument('--headless')\n",
    "    options.add_argument('--disable-gpu')\n",
    "    options.add_argument(\"--window-size=1920, 1200\")\n",
    "    options.add_argument('--disable-dev-shm-usage')\n",
    "    driver = webdriver.Chrome(options=options)\n",
    "    return driver\n",
    "\n",
    "\n"
   ]
  },
  {
   "cell_type": "code",
   "execution_count": 77,
   "metadata": {
    "id": "CHIqGrDKn7i7"
   },
   "outputs": [],
   "source": [
    "driver = web_driver()\n",
    "\n",
    "\n"
   ]
  },
  {
   "cell_type": "code",
   "execution_count": null,
   "metadata": {},
   "outputs": [],
   "source": []
  },
  {
   "cell_type": "code",
   "execution_count": 78,
   "metadata": {
    "id": "ehqdziKDn_Rn"
   },
   "outputs": [],
   "source": [
    "driver.get('https://www.amazon.in/')"
   ]
  },
  {
   "cell_type": "code",
   "execution_count": 79,
   "metadata": {
    "id": "T1WBFZVIp_Oq"
   },
   "outputs": [],
   "source": [
    "driver.maximize_window()"
   ]
  },
  {
   "cell_type": "code",
   "execution_count": 80,
   "metadata": {},
   "outputs": [],
   "source": [
    "time.sleep(5)\n",
    "isearch = WebDriverWait(driver, 20).until(EC.element_to_be_clickable((By.NAME,'field-keywords')))\n",
    "sbutton = WebDriverWait(driver, 20).until(EC.element_to_be_clickable((By.ID, 'nav-search-submit-button')))"
   ]
  },
  {
   "cell_type": "markdown",
   "metadata": {
    "id": "FmdtueTDrl35"
   },
   "source": [
    "time.sleep(5)\n",
    "isearch = driver.find_element(By.NAME,'field-keywords')\n",
    "sbutton = driver.find_element(By.ID, 'nav-search-submit-button')"
   ]
  },
  {
   "cell_type": "code",
   "execution_count": 81,
   "metadata": {
    "id": "tO-2qJkqqq8d"
   },
   "outputs": [],
   "source": [
    "isearch.send_keys(\"iPhone\")\n",
    "time.sleep(1)"
   ]
  },
  {
   "cell_type": "code",
   "execution_count": 82,
   "metadata": {
    "id": "HG5d9hlna-L7"
   },
   "outputs": [],
   "source": [
    "sbutton.click()"
   ]
  },
  {
   "cell_type": "code",
   "execution_count": 83,
   "metadata": {
    "id": "x0Lq4FhMqPd2"
   },
   "outputs": [],
   "source": [
    "from bs4 import BeautifulSoup\n",
    "html = driver.page_source\n",
    "\n",
    "soup = BeautifulSoup(html)\n"
   ]
  },
  {
   "cell_type": "code",
   "execution_count": 84,
   "metadata": {
    "id": "ACFFB-uZP6D2"
   },
   "outputs": [],
   "source": [
    "#button_element = soup.find('a', {'data-cel-widget':'search_result_2'})\n"
   ]
  },
  {
   "cell_type": "code",
   "execution_count": 85,
   "metadata": {
    "id": "ytb_BoDpMDg5"
   },
   "outputs": [],
   "source": [
    "button_element = soup.find('a', {'class':'a-link-normal s-underline-text s-underline-link-text s-link-style a-text-normal'})\n"
   ]
  },
  {
   "cell_type": "code",
   "execution_count": 86,
   "metadata": {
    "colab": {
     "base_uri": "https://localhost:8080/"
    },
    "id": "cuYAiisneJtG",
    "outputId": "15714c21-15c7-408c-aa01-4d491b75b127"
   },
   "outputs": [
    {
     "name": "stdout",
     "output_type": "stream",
     "text": [
      "<a class=\"a-link-normal s-underline-text s-underline-link-text s-link-style a-text-normal\" href=\"/Apple-iPhone-13-128GB-Blue/dp/B09G9BL5CP/ref=sr_1_1?crid=ZXCSN0YAG61M&amp;dib=eyJ2IjoiMSJ9.eFa-TvbcC_zjCq_5PD2KO7sua8FLjHkgudzmYiS71BIYxc61NR9Qh-S3XchUD4-C3CMBdzG8ftNvyDkklDuV1S9UDQCQYNvS9gDHQ02CT6DMnEaXSLZpjcel1vH-ClWKRmcQAtSSDHdq2L6T0MUwZ84DbR8HmC4Fp99AIO78fEnshYLaBRD3dOHU5M84IjgwT7u2jjtupnLZMF1lIEiqIjByhuDc83JnaEQ8TnZYdvY.VWPcnNjJgZ6TQ_0WxVsLqygEy_TKZM6vv3urrJkGmsc&amp;dib_tag=se&amp;keywords=iPhone&amp;qid=1716392621&amp;sprefix=iphone%2Caps%2C350&amp;sr=8-1\" target=\"_blank\"><span class=\"a-size-medium a-color-base a-text-normal\">Apple iPhone 13 (128GB) - Blue</span> </a>\n"
     ]
    }
   ],
   "source": [
    "print(button_element)"
   ]
  },
  {
   "cell_type": "code",
   "execution_count": 87,
   "metadata": {
    "id": "cQyWhrAANpx3"
   },
   "outputs": [],
   "source": [
    "button_class = button_element['class']"
   ]
  },
  {
   "cell_type": "code",
   "execution_count": 88,
   "metadata": {
    "colab": {
     "base_uri": "https://localhost:8080/"
    },
    "id": "P5zt33KePY0-",
    "outputId": "3e1ff6bc-0a61-4df5-b121-abebe01fc6aa"
   },
   "outputs": [
    {
     "name": "stdout",
     "output_type": "stream",
     "text": [
      "['a-link-normal', 's-underline-text', 's-underline-link-text', 's-link-style', 'a-text-normal']\n"
     ]
    }
   ],
   "source": [
    "print(button_class)"
   ]
  },
  {
   "cell_type": "markdown",
   "metadata": {
    "id": "FO5ii7OxOZBq"
   },
   "source": [
    "from selenium.webdriver.support.ui import WebDriverWait\n",
    "from selenium.webdriver.support import expected_conditions as EC\n",
    "from selenium.webdriver.common.by import By\n"
   ]
  },
  {
   "cell_type": "code",
   "execution_count": 89,
   "metadata": {
    "id": "uIsZj-pAOPiE"
   },
   "outputs": [],
   "source": [
    "# Construct the CSS selector using the button class\n",
    "button_selector = f\".{'.'.join(button_class)}\"\n",
    "\n",
    "# Find the element using Selenium\n",
    "element = WebDriverWait(driver, 10).until(EC.presence_of_element_located((By.CSS_SELECTOR, button_selector)))\n"
   ]
  },
  {
   "cell_type": "code",
   "execution_count": 90,
   "metadata": {
    "id": "2TnGRPHaOmuZ"
   },
   "outputs": [],
   "source": [
    "# Perform actions (e.g., click)\n",
    "element.click()"
   ]
  },
  {
   "cell_type": "code",
   "execution_count": 91,
   "metadata": {
    "id": "4n8mkQ9lcwHT"
   },
   "outputs": [],
   "source": [
    "driver.switch_to.window(driver.window_handles[1])"
   ]
  },
  {
   "cell_type": "code",
   "execution_count": 92,
   "metadata": {
    "id": "R6ZHS8rIyysU"
   },
   "outputs": [],
   "source": [
    "\n",
    "time.sleep(10)"
   ]
  },
  {
   "cell_type": "code",
   "execution_count": null,
   "metadata": {},
   "outputs": [],
   "source": []
  },
  {
   "cell_type": "code",
   "execution_count": 93,
   "metadata": {
    "id": "3K1nQeHudBQ7"
   },
   "outputs": [],
   "source": [
    "morereviewbutton = \"See more reviews\"\n",
    "morereviewbutton1 = WebDriverWait(driver, 20).until(EC.element_to_be_clickable((By.LINK_TEXT, morereviewbutton)))\n",
    "morereviewbutton1.click()"
   ]
  },
  {
   "cell_type": "code",
   "execution_count": 94,
   "metadata": {
    "colab": {
     "base_uri": "https://localhost:8080/"
    },
    "id": "3YvYQlHRrFWB",
    "outputId": "0f1df15e-954e-4105-8728-d2b294e45d99"
   },
   "outputs": [
    {
     "name": "stdout",
     "output_type": "stream",
     "text": [
      "https://www.amazon.in/Apple-iPhone-13-128GB-Blue/product-reviews/B09G9BL5CP/ref=cm_cr_dp_d_show_all_btm?ie=UTF8&reviewerType=all_reviews\n"
     ]
    }
   ],
   "source": [
    "url1 = driver.current_url\n",
    "print(url1)"
   ]
  },
  {
   "cell_type": "code",
   "execution_count": 95,
   "metadata": {
    "id": "T8yGQye44gm7"
   },
   "outputs": [],
   "source": [
    "html = driver.page_source\n",
    "\n",
    "soup = BeautifulSoup(html)\n"
   ]
  },
  {
   "cell_type": "code",
   "execution_count": 96,
   "metadata": {
    "colab": {
     "base_uri": "https://localhost:8080/"
    },
    "id": "WUPRJyOZc3Gv",
    "outputId": "a21c93ea-c791-4882-a753-a1d648ae0f36"
   },
   "outputs": [
    {
     "name": "stdout",
     "output_type": "stream",
     "text": [
      "Scraped Page No. 1\n",
      "Scraped Page No. 2\n",
      "Scraped Page No. 3\n",
      "Scraped Page No. 4\n",
      "Scraped Page No. 5\n",
      "Scraped Page No. 6\n",
      "Scraped Page No. 7\n",
      "Scraped Page No. 8\n",
      "Scraped Page No. 9\n",
      "Scraped Page No. 10\n",
      "Scraped Page No. 11\n",
      "Scraped Page No. 12\n",
      "Scraped Page No. 13\n",
      "Scraped Page No. 14\n",
      "Scraped Page No. 15\n",
      "Scraped Page No. 16\n",
      "Scraped Page No. 17\n",
      "Scraped Page No. 18\n",
      "Scraped Page No. 19\n",
      "Scraped Page No. 20\n",
      "Scraped Page No. 21\n",
      "Scraped Page No. 22\n",
      "Scraped Page No. 23\n",
      "Scraped Page No. 24\n",
      "Scraped Page No. 25\n",
      "Scraped Page No. 26\n",
      "Scraped Page No. 27\n",
      "Scraped Page No. 28\n",
      "Scraped Page No. 29\n",
      "Scraped Page No. 30\n",
      "Scraped Page No. 31\n",
      "Scraped Page No. 32\n",
      "Scraped Page No. 33\n",
      "Scraped Page No. 34\n",
      "Scraped Page No. 35\n",
      "Scraped Page No. 36\n",
      "Scraped Page No. 37\n",
      "Scraped Page No. 38\n",
      "Scraped Page No. 39\n",
      "Scraped Page No. 40\n",
      "Scraped Page No. 41\n",
      "Scraped Page No. 42\n",
      "Scraped Page No. 43\n",
      "Scraped Page No. 44\n",
      "Scraped Page No. 45\n",
      "Scraped Page No. 46\n",
      "Scraped Page No. 47\n",
      "Scraped Page No. 48\n",
      "Scraped Page No. 49\n",
      "Scraped Page No. 50\n",
      "Scraped Page No. 51\n",
      "Scraped Page No. 52\n",
      "Scraped Page No. 53\n",
      "Scraped Page No. 54\n",
      "Scraped Page No. 55\n",
      "Scraped Page No. 56\n",
      "Scraped Page No. 57\n",
      "Scraped Page No. 58\n",
      "Scraped Page No. 59\n",
      "Scraped Page No. 60\n",
      "Scraped Page No. 61\n",
      "Scraped Page No. 62\n",
      "Scraped Page No. 63\n",
      "Scraped Page No. 64\n",
      "Scraped Page No. 65\n",
      "Scraped Page No. 66\n",
      "Scraped Page No. 67\n",
      "Scraped Page No. 68\n",
      "Scraped Page No. 69\n",
      "Scraped Page No. 70\n",
      "Scraped Page No. 71\n",
      "Scraped Page No. 72\n",
      "Scraped Page No. 73\n",
      "Scraped Page No. 74\n",
      "Scraped Page No. 75\n",
      "Scraped Page No. 76\n",
      "Scraped Page No. 77\n",
      "Scraped Page No. 78\n",
      "Scraped Page No. 79\n",
      "Scraped Page No. 80\n",
      "Scraped Page No. 81\n",
      "Scraped Page No. 82\n",
      "Scraped Page No. 83\n",
      "Scraped Page No. 84\n",
      "Scraped Page No. 85\n",
      "Scraped Page No. 86\n",
      "Scraped Page No. 87\n",
      "Scraped Page No. 88\n",
      "Scraped Page No. 89\n",
      "Scraped Page No. 90\n",
      "Scraped Page No. 91\n",
      "Scraped Page No. 92\n",
      "Scraped Page No. 93\n",
      "Scraped Page No. 94\n",
      "Scraped Page No. 95\n",
      "Scraped Page No. 96\n",
      "Scraped Page No. 97\n",
      "Scraped Page No. 98\n",
      "Scraped Page No. 99\n",
      "Scraped Page No. 100\n"
     ]
    }
   ],
   "source": [
    "import time\n",
    "import pandas as pd\n",
    "\n",
    "# Initialize an empty DataFrame\n",
    "df = pd.DataFrame(columns=['title', 'rating', 'date', 'body', 'details'])\n",
    "\n",
    "# Loop through the desired number of pages\n",
    "for x in range(1, 101):\n",
    "    time.sleep(2)\n",
    "    url = f\"{url1}&pageNumber={x}\"\n",
    "    driver.get(url)\n",
    "    html = driver.page_source\n",
    "    #soup = get_soup(url)\n",
    "    reviews = soup.find_all('div', {'data-hook': 'review'})\n",
    "    \n",
    "    # Initialize empty lists to store data for this page\n",
    "    titles = []\n",
    "    ratings = []\n",
    "    dates = []\n",
    "    bodies = []\n",
    "    details = []\n",
    "\n",
    "    # Extract information for each review on this page\n",
    "    for item in reviews:\n",
    "        # Extract information from the current review item\n",
    "        title = item.find('a', {'data-hook': 'review-title'}).text.strip() if item.find('a', {'data-hook': 'review-title'}) else pd.NA\n",
    "        titles.append(title)\n",
    "        \n",
    "        rating = item.find('i', {'data-hook': 'review-star-rating'}).text if item.find('i', {'data-hook': 'review-star-rating'}) else pd.NA\n",
    "        ratings.append(rating)\n",
    "        \n",
    "        date = item.find('span', {'data-hook': 'review-date'}).text if item.find('span', {'data-hook': 'review-date'}) else pd.NA\n",
    "        dates.append(date)\n",
    "        \n",
    "        body = item.find('span', {'data-hook': 'review-body'}).text if item.find('span', {'data-hook': 'review-body'}) else pd.NA\n",
    "        bodies.append(body)\n",
    "        \n",
    "        detail = item.find('a', {'data-hook': 'format-strip'}).text if item.find('a', {'data-hook': 'format-strip'}) else pd.NA\n",
    "        details.append(detail)\n",
    "\n",
    "    # Append the data for this page to the DataFrame\n",
    "    page_df = pd.DataFrame({'title': titles, 'rating': ratings, 'date': dates, 'body': bodies, 'details': details})\n",
    "    df = pd.concat([df, page_df], ignore_index=True)\n",
    "    \n",
    "    driver.execute_script(\"window.scrollTo(0, document.body.scrollHeight);\")\n",
    "\n",
    "\n",
    "    # Wait for the next page to load\n",
    "    time.sleep(5)\n",
    "\n",
    "    print(\"Scraped Page No.\", x)\n",
    "\n",
    "\n",
    "# Reset index\n",
    "df.reset_index(drop=True, inplace=True)\n"
   ]
  },
  {
   "cell_type": "code",
   "execution_count": 97,
   "metadata": {
    "colab": {
     "base_uri": "https://localhost:8080/",
     "height": 1000
    },
    "id": "JKJFx8e2bdUo",
    "outputId": "67c25280-45c6-4f19-dc17-59d9f21270c7"
   },
   "outputs": [
    {
     "data": {
      "text/html": [
       "<div>\n",
       "<style scoped>\n",
       "    .dataframe tbody tr th:only-of-type {\n",
       "        vertical-align: middle;\n",
       "    }\n",
       "\n",
       "    .dataframe tbody tr th {\n",
       "        vertical-align: top;\n",
       "    }\n",
       "\n",
       "    .dataframe thead th {\n",
       "        text-align: right;\n",
       "    }\n",
       "</style>\n",
       "<table border=\"1\" class=\"dataframe\">\n",
       "  <thead>\n",
       "    <tr style=\"text-align: right;\">\n",
       "      <th></th>\n",
       "      <th>title</th>\n",
       "      <th>rating</th>\n",
       "      <th>date</th>\n",
       "      <th>body</th>\n",
       "      <th>details</th>\n",
       "    </tr>\n",
       "  </thead>\n",
       "  <tbody>\n",
       "    <tr>\n",
       "      <th>0</th>\n",
       "      <td>5.0 out of 5 stars\\nRedefining Excellence: A R...</td>\n",
       "      <td>5.0 out of 5 stars</td>\n",
       "      <td>Reviewed in India on 24 February 2024</td>\n",
       "      <td>\\nThe iPhone 13 128GB has surpassed my expecta...</td>\n",
       "      <td>&lt;NA&gt;</td>\n",
       "    </tr>\n",
       "    <tr>\n",
       "      <th>1</th>\n",
       "      <td>5.0 out of 5 stars\\nUsing after 3 months hones...</td>\n",
       "      <td>5.0 out of 5 stars</td>\n",
       "      <td>Reviewed in India on 30 December 2023</td>\n",
       "      <td>\\n\\n\\n\\n\\n                    The media could ...</td>\n",
       "      <td>Colour: BlueSize: 128 GB</td>\n",
       "    </tr>\n",
       "    <tr>\n",
       "      <th>2</th>\n",
       "      <td>4.0 out of 5 stars\\nThe iPhone 13 - A Stunning...</td>\n",
       "      <td>4.0 out of 5 stars</td>\n",
       "      <td>Reviewed in India on 1 November 2023</td>\n",
       "      <td>\\nThe iPhone 13 is, without a doubt, a game-ch...</td>\n",
       "      <td>Colour: StarlightSize: 256 GB</td>\n",
       "    </tr>\n",
       "    <tr>\n",
       "      <th>3</th>\n",
       "      <td>5.0 out of 5 stars\\nSo Beautiful, So elegant, ...</td>\n",
       "      <td>5.0 out of 5 stars</td>\n",
       "      <td>Reviewed in India on 13 November 2023</td>\n",
       "      <td>\\nI snagged the iPhone 13 during the Great Ind...</td>\n",
       "      <td>Colour: MidnightSize: 128 GB</td>\n",
       "    </tr>\n",
       "    <tr>\n",
       "      <th>4</th>\n",
       "      <td>5.0 out of 5 stars\\nA gift for my wife</td>\n",
       "      <td>5.0 out of 5 stars</td>\n",
       "      <td>Reviewed in India on 21 April 2024</td>\n",
       "      <td>\\nStep into a world of sophistication with the...</td>\n",
       "      <td>&lt;NA&gt;</td>\n",
       "    </tr>\n",
       "    <tr>\n",
       "      <th>5</th>\n",
       "      <td>5.0 out of 5 stars\\nAbsolute brilliance!</td>\n",
       "      <td>5.0 out of 5 stars</td>\n",
       "      <td>Reviewed in India on 9 May 2024</td>\n",
       "      <td>\\nYou don't need to explain how good apple pro...</td>\n",
       "      <td>Colour: BlueSize: 128 GB</td>\n",
       "    </tr>\n",
       "    <tr>\n",
       "      <th>6</th>\n",
       "      <td>5.0 out of 5 stars\\nDo I need to say something...</td>\n",
       "      <td>5.0 out of 5 stars</td>\n",
       "      <td>Reviewed in India on 30 March 2024</td>\n",
       "      <td>\\nGreat product.. I love android and apple bot...</td>\n",
       "      <td>&lt;NA&gt;</td>\n",
       "    </tr>\n",
       "    <tr>\n",
       "      <th>7</th>\n",
       "      <td>5.0 out of 5 stars\\nAwesome phone</td>\n",
       "      <td>5.0 out of 5 stars</td>\n",
       "      <td>Reviewed in India on 20 May 2024</td>\n",
       "      <td>\\nValue for time and money also.Nice products\\n</td>\n",
       "      <td>&lt;NA&gt;</td>\n",
       "    </tr>\n",
       "    <tr>\n",
       "      <th>8</th>\n",
       "      <td>4.0 out of 5 stars\\nAndroid to Apple Transitio...</td>\n",
       "      <td>4.0 out of 5 stars</td>\n",
       "      <td>Reviewed in India on 4 February 2023</td>\n",
       "      <td>\\nThis is my first iPhone and it always feels ...</td>\n",
       "      <td>Colour: BlueSize: 128 GB</td>\n",
       "    </tr>\n",
       "    <tr>\n",
       "      <th>9</th>\n",
       "      <td>4.0 out of 5 stars\\nMobile have more heat at t...</td>\n",
       "      <td>4.0 out of 5 stars</td>\n",
       "      <td>Reviewed in India on 11 May 2024</td>\n",
       "      <td>\\nAll over good price is good less than other ...</td>\n",
       "      <td>Colour: GreenSize: 128 GB</td>\n",
       "    </tr>\n",
       "    <tr>\n",
       "      <th>10</th>\n",
       "      <td>5.0 out of 5 stars\\nRedefining Excellence: A R...</td>\n",
       "      <td>5.0 out of 5 stars</td>\n",
       "      <td>Reviewed in India on 24 February 2024</td>\n",
       "      <td>\\nThe iPhone 13 128GB has surpassed my expecta...</td>\n",
       "      <td>&lt;NA&gt;</td>\n",
       "    </tr>\n",
       "    <tr>\n",
       "      <th>11</th>\n",
       "      <td>5.0 out of 5 stars\\nUsing after 3 months hones...</td>\n",
       "      <td>5.0 out of 5 stars</td>\n",
       "      <td>Reviewed in India on 30 December 2023</td>\n",
       "      <td>\\n\\n\\n\\n\\n                    The media could ...</td>\n",
       "      <td>Colour: BlueSize: 128 GB</td>\n",
       "    </tr>\n",
       "    <tr>\n",
       "      <th>12</th>\n",
       "      <td>4.0 out of 5 stars\\nThe iPhone 13 - A Stunning...</td>\n",
       "      <td>4.0 out of 5 stars</td>\n",
       "      <td>Reviewed in India on 1 November 2023</td>\n",
       "      <td>\\nThe iPhone 13 is, without a doubt, a game-ch...</td>\n",
       "      <td>Colour: StarlightSize: 256 GB</td>\n",
       "    </tr>\n",
       "    <tr>\n",
       "      <th>13</th>\n",
       "      <td>5.0 out of 5 stars\\nSo Beautiful, So elegant, ...</td>\n",
       "      <td>5.0 out of 5 stars</td>\n",
       "      <td>Reviewed in India on 13 November 2023</td>\n",
       "      <td>\\nI snagged the iPhone 13 during the Great Ind...</td>\n",
       "      <td>Colour: MidnightSize: 128 GB</td>\n",
       "    </tr>\n",
       "    <tr>\n",
       "      <th>14</th>\n",
       "      <td>5.0 out of 5 stars\\nA gift for my wife</td>\n",
       "      <td>5.0 out of 5 stars</td>\n",
       "      <td>Reviewed in India on 21 April 2024</td>\n",
       "      <td>\\nStep into a world of sophistication with the...</td>\n",
       "      <td>&lt;NA&gt;</td>\n",
       "    </tr>\n",
       "    <tr>\n",
       "      <th>15</th>\n",
       "      <td>5.0 out of 5 stars\\nAbsolute brilliance!</td>\n",
       "      <td>5.0 out of 5 stars</td>\n",
       "      <td>Reviewed in India on 9 May 2024</td>\n",
       "      <td>\\nYou don't need to explain how good apple pro...</td>\n",
       "      <td>Colour: BlueSize: 128 GB</td>\n",
       "    </tr>\n",
       "    <tr>\n",
       "      <th>16</th>\n",
       "      <td>5.0 out of 5 stars\\nDo I need to say something...</td>\n",
       "      <td>5.0 out of 5 stars</td>\n",
       "      <td>Reviewed in India on 30 March 2024</td>\n",
       "      <td>\\nGreat product.. I love android and apple bot...</td>\n",
       "      <td>&lt;NA&gt;</td>\n",
       "    </tr>\n",
       "    <tr>\n",
       "      <th>17</th>\n",
       "      <td>5.0 out of 5 stars\\nAwesome phone</td>\n",
       "      <td>5.0 out of 5 stars</td>\n",
       "      <td>Reviewed in India on 20 May 2024</td>\n",
       "      <td>\\nValue for time and money also.Nice products\\n</td>\n",
       "      <td>&lt;NA&gt;</td>\n",
       "    </tr>\n",
       "    <tr>\n",
       "      <th>18</th>\n",
       "      <td>4.0 out of 5 stars\\nAndroid to Apple Transitio...</td>\n",
       "      <td>4.0 out of 5 stars</td>\n",
       "      <td>Reviewed in India on 4 February 2023</td>\n",
       "      <td>\\nThis is my first iPhone and it always feels ...</td>\n",
       "      <td>Colour: BlueSize: 128 GB</td>\n",
       "    </tr>\n",
       "    <tr>\n",
       "      <th>19</th>\n",
       "      <td>4.0 out of 5 stars\\nMobile have more heat at t...</td>\n",
       "      <td>4.0 out of 5 stars</td>\n",
       "      <td>Reviewed in India on 11 May 2024</td>\n",
       "      <td>\\nAll over good price is good less than other ...</td>\n",
       "      <td>Colour: GreenSize: 128 GB</td>\n",
       "    </tr>\n",
       "    <tr>\n",
       "      <th>20</th>\n",
       "      <td>5.0 out of 5 stars\\nRedefining Excellence: A R...</td>\n",
       "      <td>5.0 out of 5 stars</td>\n",
       "      <td>Reviewed in India on 24 February 2024</td>\n",
       "      <td>\\nThe iPhone 13 128GB has surpassed my expecta...</td>\n",
       "      <td>&lt;NA&gt;</td>\n",
       "    </tr>\n",
       "    <tr>\n",
       "      <th>21</th>\n",
       "      <td>5.0 out of 5 stars\\nUsing after 3 months hones...</td>\n",
       "      <td>5.0 out of 5 stars</td>\n",
       "      <td>Reviewed in India on 30 December 2023</td>\n",
       "      <td>\\n\\n\\n\\n\\n                    The media could ...</td>\n",
       "      <td>Colour: BlueSize: 128 GB</td>\n",
       "    </tr>\n",
       "    <tr>\n",
       "      <th>22</th>\n",
       "      <td>4.0 out of 5 stars\\nThe iPhone 13 - A Stunning...</td>\n",
       "      <td>4.0 out of 5 stars</td>\n",
       "      <td>Reviewed in India on 1 November 2023</td>\n",
       "      <td>\\nThe iPhone 13 is, without a doubt, a game-ch...</td>\n",
       "      <td>Colour: StarlightSize: 256 GB</td>\n",
       "    </tr>\n",
       "    <tr>\n",
       "      <th>23</th>\n",
       "      <td>5.0 out of 5 stars\\nSo Beautiful, So elegant, ...</td>\n",
       "      <td>5.0 out of 5 stars</td>\n",
       "      <td>Reviewed in India on 13 November 2023</td>\n",
       "      <td>\\nI snagged the iPhone 13 during the Great Ind...</td>\n",
       "      <td>Colour: MidnightSize: 128 GB</td>\n",
       "    </tr>\n",
       "    <tr>\n",
       "      <th>24</th>\n",
       "      <td>5.0 out of 5 stars\\nA gift for my wife</td>\n",
       "      <td>5.0 out of 5 stars</td>\n",
       "      <td>Reviewed in India on 21 April 2024</td>\n",
       "      <td>\\nStep into a world of sophistication with the...</td>\n",
       "      <td>&lt;NA&gt;</td>\n",
       "    </tr>\n",
       "    <tr>\n",
       "      <th>25</th>\n",
       "      <td>5.0 out of 5 stars\\nAbsolute brilliance!</td>\n",
       "      <td>5.0 out of 5 stars</td>\n",
       "      <td>Reviewed in India on 9 May 2024</td>\n",
       "      <td>\\nYou don't need to explain how good apple pro...</td>\n",
       "      <td>Colour: BlueSize: 128 GB</td>\n",
       "    </tr>\n",
       "    <tr>\n",
       "      <th>26</th>\n",
       "      <td>5.0 out of 5 stars\\nDo I need to say something...</td>\n",
       "      <td>5.0 out of 5 stars</td>\n",
       "      <td>Reviewed in India on 30 March 2024</td>\n",
       "      <td>\\nGreat product.. I love android and apple bot...</td>\n",
       "      <td>&lt;NA&gt;</td>\n",
       "    </tr>\n",
       "    <tr>\n",
       "      <th>27</th>\n",
       "      <td>5.0 out of 5 stars\\nAwesome phone</td>\n",
       "      <td>5.0 out of 5 stars</td>\n",
       "      <td>Reviewed in India on 20 May 2024</td>\n",
       "      <td>\\nValue for time and money also.Nice products\\n</td>\n",
       "      <td>&lt;NA&gt;</td>\n",
       "    </tr>\n",
       "    <tr>\n",
       "      <th>28</th>\n",
       "      <td>4.0 out of 5 stars\\nAndroid to Apple Transitio...</td>\n",
       "      <td>4.0 out of 5 stars</td>\n",
       "      <td>Reviewed in India on 4 February 2023</td>\n",
       "      <td>\\nThis is my first iPhone and it always feels ...</td>\n",
       "      <td>Colour: BlueSize: 128 GB</td>\n",
       "    </tr>\n",
       "    <tr>\n",
       "      <th>29</th>\n",
       "      <td>4.0 out of 5 stars\\nMobile have more heat at t...</td>\n",
       "      <td>4.0 out of 5 stars</td>\n",
       "      <td>Reviewed in India on 11 May 2024</td>\n",
       "      <td>\\nAll over good price is good less than other ...</td>\n",
       "      <td>Colour: GreenSize: 128 GB</td>\n",
       "    </tr>\n",
       "    <tr>\n",
       "      <th>30</th>\n",
       "      <td>5.0 out of 5 stars\\nRedefining Excellence: A R...</td>\n",
       "      <td>5.0 out of 5 stars</td>\n",
       "      <td>Reviewed in India on 24 February 2024</td>\n",
       "      <td>\\nThe iPhone 13 128GB has surpassed my expecta...</td>\n",
       "      <td>&lt;NA&gt;</td>\n",
       "    </tr>\n",
       "    <tr>\n",
       "      <th>31</th>\n",
       "      <td>5.0 out of 5 stars\\nUsing after 3 months hones...</td>\n",
       "      <td>5.0 out of 5 stars</td>\n",
       "      <td>Reviewed in India on 30 December 2023</td>\n",
       "      <td>\\n\\n\\n\\n\\n                    The media could ...</td>\n",
       "      <td>Colour: BlueSize: 128 GB</td>\n",
       "    </tr>\n",
       "    <tr>\n",
       "      <th>32</th>\n",
       "      <td>4.0 out of 5 stars\\nThe iPhone 13 - A Stunning...</td>\n",
       "      <td>4.0 out of 5 stars</td>\n",
       "      <td>Reviewed in India on 1 November 2023</td>\n",
       "      <td>\\nThe iPhone 13 is, without a doubt, a game-ch...</td>\n",
       "      <td>Colour: StarlightSize: 256 GB</td>\n",
       "    </tr>\n",
       "    <tr>\n",
       "      <th>33</th>\n",
       "      <td>5.0 out of 5 stars\\nSo Beautiful, So elegant, ...</td>\n",
       "      <td>5.0 out of 5 stars</td>\n",
       "      <td>Reviewed in India on 13 November 2023</td>\n",
       "      <td>\\nI snagged the iPhone 13 during the Great Ind...</td>\n",
       "      <td>Colour: MidnightSize: 128 GB</td>\n",
       "    </tr>\n",
       "    <tr>\n",
       "      <th>34</th>\n",
       "      <td>5.0 out of 5 stars\\nA gift for my wife</td>\n",
       "      <td>5.0 out of 5 stars</td>\n",
       "      <td>Reviewed in India on 21 April 2024</td>\n",
       "      <td>\\nStep into a world of sophistication with the...</td>\n",
       "      <td>&lt;NA&gt;</td>\n",
       "    </tr>\n",
       "    <tr>\n",
       "      <th>35</th>\n",
       "      <td>5.0 out of 5 stars\\nAbsolute brilliance!</td>\n",
       "      <td>5.0 out of 5 stars</td>\n",
       "      <td>Reviewed in India on 9 May 2024</td>\n",
       "      <td>\\nYou don't need to explain how good apple pro...</td>\n",
       "      <td>Colour: BlueSize: 128 GB</td>\n",
       "    </tr>\n",
       "    <tr>\n",
       "      <th>36</th>\n",
       "      <td>5.0 out of 5 stars\\nDo I need to say something...</td>\n",
       "      <td>5.0 out of 5 stars</td>\n",
       "      <td>Reviewed in India on 30 March 2024</td>\n",
       "      <td>\\nGreat product.. I love android and apple bot...</td>\n",
       "      <td>&lt;NA&gt;</td>\n",
       "    </tr>\n",
       "    <tr>\n",
       "      <th>37</th>\n",
       "      <td>5.0 out of 5 stars\\nAwesome phone</td>\n",
       "      <td>5.0 out of 5 stars</td>\n",
       "      <td>Reviewed in India on 20 May 2024</td>\n",
       "      <td>\\nValue for time and money also.Nice products\\n</td>\n",
       "      <td>&lt;NA&gt;</td>\n",
       "    </tr>\n",
       "    <tr>\n",
       "      <th>38</th>\n",
       "      <td>4.0 out of 5 stars\\nAndroid to Apple Transitio...</td>\n",
       "      <td>4.0 out of 5 stars</td>\n",
       "      <td>Reviewed in India on 4 February 2023</td>\n",
       "      <td>\\nThis is my first iPhone and it always feels ...</td>\n",
       "      <td>Colour: BlueSize: 128 GB</td>\n",
       "    </tr>\n",
       "    <tr>\n",
       "      <th>39</th>\n",
       "      <td>4.0 out of 5 stars\\nMobile have more heat at t...</td>\n",
       "      <td>4.0 out of 5 stars</td>\n",
       "      <td>Reviewed in India on 11 May 2024</td>\n",
       "      <td>\\nAll over good price is good less than other ...</td>\n",
       "      <td>Colour: GreenSize: 128 GB</td>\n",
       "    </tr>\n",
       "    <tr>\n",
       "      <th>40</th>\n",
       "      <td>5.0 out of 5 stars\\nRedefining Excellence: A R...</td>\n",
       "      <td>5.0 out of 5 stars</td>\n",
       "      <td>Reviewed in India on 24 February 2024</td>\n",
       "      <td>\\nThe iPhone 13 128GB has surpassed my expecta...</td>\n",
       "      <td>&lt;NA&gt;</td>\n",
       "    </tr>\n",
       "    <tr>\n",
       "      <th>41</th>\n",
       "      <td>5.0 out of 5 stars\\nUsing after 3 months hones...</td>\n",
       "      <td>5.0 out of 5 stars</td>\n",
       "      <td>Reviewed in India on 30 December 2023</td>\n",
       "      <td>\\n\\n\\n\\n\\n                    The media could ...</td>\n",
       "      <td>Colour: BlueSize: 128 GB</td>\n",
       "    </tr>\n",
       "    <tr>\n",
       "      <th>42</th>\n",
       "      <td>4.0 out of 5 stars\\nThe iPhone 13 - A Stunning...</td>\n",
       "      <td>4.0 out of 5 stars</td>\n",
       "      <td>Reviewed in India on 1 November 2023</td>\n",
       "      <td>\\nThe iPhone 13 is, without a doubt, a game-ch...</td>\n",
       "      <td>Colour: StarlightSize: 256 GB</td>\n",
       "    </tr>\n",
       "    <tr>\n",
       "      <th>43</th>\n",
       "      <td>5.0 out of 5 stars\\nSo Beautiful, So elegant, ...</td>\n",
       "      <td>5.0 out of 5 stars</td>\n",
       "      <td>Reviewed in India on 13 November 2023</td>\n",
       "      <td>\\nI snagged the iPhone 13 during the Great Ind...</td>\n",
       "      <td>Colour: MidnightSize: 128 GB</td>\n",
       "    </tr>\n",
       "    <tr>\n",
       "      <th>44</th>\n",
       "      <td>5.0 out of 5 stars\\nA gift for my wife</td>\n",
       "      <td>5.0 out of 5 stars</td>\n",
       "      <td>Reviewed in India on 21 April 2024</td>\n",
       "      <td>\\nStep into a world of sophistication with the...</td>\n",
       "      <td>&lt;NA&gt;</td>\n",
       "    </tr>\n",
       "    <tr>\n",
       "      <th>45</th>\n",
       "      <td>5.0 out of 5 stars\\nAbsolute brilliance!</td>\n",
       "      <td>5.0 out of 5 stars</td>\n",
       "      <td>Reviewed in India on 9 May 2024</td>\n",
       "      <td>\\nYou don't need to explain how good apple pro...</td>\n",
       "      <td>Colour: BlueSize: 128 GB</td>\n",
       "    </tr>\n",
       "    <tr>\n",
       "      <th>46</th>\n",
       "      <td>5.0 out of 5 stars\\nDo I need to say something...</td>\n",
       "      <td>5.0 out of 5 stars</td>\n",
       "      <td>Reviewed in India on 30 March 2024</td>\n",
       "      <td>\\nGreat product.. I love android and apple bot...</td>\n",
       "      <td>&lt;NA&gt;</td>\n",
       "    </tr>\n",
       "    <tr>\n",
       "      <th>47</th>\n",
       "      <td>5.0 out of 5 stars\\nAwesome phone</td>\n",
       "      <td>5.0 out of 5 stars</td>\n",
       "      <td>Reviewed in India on 20 May 2024</td>\n",
       "      <td>\\nValue for time and money also.Nice products\\n</td>\n",
       "      <td>&lt;NA&gt;</td>\n",
       "    </tr>\n",
       "    <tr>\n",
       "      <th>48</th>\n",
       "      <td>4.0 out of 5 stars\\nAndroid to Apple Transitio...</td>\n",
       "      <td>4.0 out of 5 stars</td>\n",
       "      <td>Reviewed in India on 4 February 2023</td>\n",
       "      <td>\\nThis is my first iPhone and it always feels ...</td>\n",
       "      <td>Colour: BlueSize: 128 GB</td>\n",
       "    </tr>\n",
       "    <tr>\n",
       "      <th>49</th>\n",
       "      <td>4.0 out of 5 stars\\nMobile have more heat at t...</td>\n",
       "      <td>4.0 out of 5 stars</td>\n",
       "      <td>Reviewed in India on 11 May 2024</td>\n",
       "      <td>\\nAll over good price is good less than other ...</td>\n",
       "      <td>Colour: GreenSize: 128 GB</td>\n",
       "    </tr>\n",
       "  </tbody>\n",
       "</table>\n",
       "</div>"
      ],
      "text/plain": [
       "                                                title              rating  \\\n",
       "0   5.0 out of 5 stars\\nRedefining Excellence: A R...  5.0 out of 5 stars   \n",
       "1   5.0 out of 5 stars\\nUsing after 3 months hones...  5.0 out of 5 stars   \n",
       "2   4.0 out of 5 stars\\nThe iPhone 13 - A Stunning...  4.0 out of 5 stars   \n",
       "3   5.0 out of 5 stars\\nSo Beautiful, So elegant, ...  5.0 out of 5 stars   \n",
       "4              5.0 out of 5 stars\\nA gift for my wife  5.0 out of 5 stars   \n",
       "5            5.0 out of 5 stars\\nAbsolute brilliance!  5.0 out of 5 stars   \n",
       "6   5.0 out of 5 stars\\nDo I need to say something...  5.0 out of 5 stars   \n",
       "7                   5.0 out of 5 stars\\nAwesome phone  5.0 out of 5 stars   \n",
       "8   4.0 out of 5 stars\\nAndroid to Apple Transitio...  4.0 out of 5 stars   \n",
       "9   4.0 out of 5 stars\\nMobile have more heat at t...  4.0 out of 5 stars   \n",
       "10  5.0 out of 5 stars\\nRedefining Excellence: A R...  5.0 out of 5 stars   \n",
       "11  5.0 out of 5 stars\\nUsing after 3 months hones...  5.0 out of 5 stars   \n",
       "12  4.0 out of 5 stars\\nThe iPhone 13 - A Stunning...  4.0 out of 5 stars   \n",
       "13  5.0 out of 5 stars\\nSo Beautiful, So elegant, ...  5.0 out of 5 stars   \n",
       "14             5.0 out of 5 stars\\nA gift for my wife  5.0 out of 5 stars   \n",
       "15           5.0 out of 5 stars\\nAbsolute brilliance!  5.0 out of 5 stars   \n",
       "16  5.0 out of 5 stars\\nDo I need to say something...  5.0 out of 5 stars   \n",
       "17                  5.0 out of 5 stars\\nAwesome phone  5.0 out of 5 stars   \n",
       "18  4.0 out of 5 stars\\nAndroid to Apple Transitio...  4.0 out of 5 stars   \n",
       "19  4.0 out of 5 stars\\nMobile have more heat at t...  4.0 out of 5 stars   \n",
       "20  5.0 out of 5 stars\\nRedefining Excellence: A R...  5.0 out of 5 stars   \n",
       "21  5.0 out of 5 stars\\nUsing after 3 months hones...  5.0 out of 5 stars   \n",
       "22  4.0 out of 5 stars\\nThe iPhone 13 - A Stunning...  4.0 out of 5 stars   \n",
       "23  5.0 out of 5 stars\\nSo Beautiful, So elegant, ...  5.0 out of 5 stars   \n",
       "24             5.0 out of 5 stars\\nA gift for my wife  5.0 out of 5 stars   \n",
       "25           5.0 out of 5 stars\\nAbsolute brilliance!  5.0 out of 5 stars   \n",
       "26  5.0 out of 5 stars\\nDo I need to say something...  5.0 out of 5 stars   \n",
       "27                  5.0 out of 5 stars\\nAwesome phone  5.0 out of 5 stars   \n",
       "28  4.0 out of 5 stars\\nAndroid to Apple Transitio...  4.0 out of 5 stars   \n",
       "29  4.0 out of 5 stars\\nMobile have more heat at t...  4.0 out of 5 stars   \n",
       "30  5.0 out of 5 stars\\nRedefining Excellence: A R...  5.0 out of 5 stars   \n",
       "31  5.0 out of 5 stars\\nUsing after 3 months hones...  5.0 out of 5 stars   \n",
       "32  4.0 out of 5 stars\\nThe iPhone 13 - A Stunning...  4.0 out of 5 stars   \n",
       "33  5.0 out of 5 stars\\nSo Beautiful, So elegant, ...  5.0 out of 5 stars   \n",
       "34             5.0 out of 5 stars\\nA gift for my wife  5.0 out of 5 stars   \n",
       "35           5.0 out of 5 stars\\nAbsolute brilliance!  5.0 out of 5 stars   \n",
       "36  5.0 out of 5 stars\\nDo I need to say something...  5.0 out of 5 stars   \n",
       "37                  5.0 out of 5 stars\\nAwesome phone  5.0 out of 5 stars   \n",
       "38  4.0 out of 5 stars\\nAndroid to Apple Transitio...  4.0 out of 5 stars   \n",
       "39  4.0 out of 5 stars\\nMobile have more heat at t...  4.0 out of 5 stars   \n",
       "40  5.0 out of 5 stars\\nRedefining Excellence: A R...  5.0 out of 5 stars   \n",
       "41  5.0 out of 5 stars\\nUsing after 3 months hones...  5.0 out of 5 stars   \n",
       "42  4.0 out of 5 stars\\nThe iPhone 13 - A Stunning...  4.0 out of 5 stars   \n",
       "43  5.0 out of 5 stars\\nSo Beautiful, So elegant, ...  5.0 out of 5 stars   \n",
       "44             5.0 out of 5 stars\\nA gift for my wife  5.0 out of 5 stars   \n",
       "45           5.0 out of 5 stars\\nAbsolute brilliance!  5.0 out of 5 stars   \n",
       "46  5.0 out of 5 stars\\nDo I need to say something...  5.0 out of 5 stars   \n",
       "47                  5.0 out of 5 stars\\nAwesome phone  5.0 out of 5 stars   \n",
       "48  4.0 out of 5 stars\\nAndroid to Apple Transitio...  4.0 out of 5 stars   \n",
       "49  4.0 out of 5 stars\\nMobile have more heat at t...  4.0 out of 5 stars   \n",
       "\n",
       "                                     date  \\\n",
       "0   Reviewed in India on 24 February 2024   \n",
       "1   Reviewed in India on 30 December 2023   \n",
       "2    Reviewed in India on 1 November 2023   \n",
       "3   Reviewed in India on 13 November 2023   \n",
       "4      Reviewed in India on 21 April 2024   \n",
       "5         Reviewed in India on 9 May 2024   \n",
       "6      Reviewed in India on 30 March 2024   \n",
       "7        Reviewed in India on 20 May 2024   \n",
       "8    Reviewed in India on 4 February 2023   \n",
       "9        Reviewed in India on 11 May 2024   \n",
       "10  Reviewed in India on 24 February 2024   \n",
       "11  Reviewed in India on 30 December 2023   \n",
       "12   Reviewed in India on 1 November 2023   \n",
       "13  Reviewed in India on 13 November 2023   \n",
       "14     Reviewed in India on 21 April 2024   \n",
       "15        Reviewed in India on 9 May 2024   \n",
       "16     Reviewed in India on 30 March 2024   \n",
       "17       Reviewed in India on 20 May 2024   \n",
       "18   Reviewed in India on 4 February 2023   \n",
       "19       Reviewed in India on 11 May 2024   \n",
       "20  Reviewed in India on 24 February 2024   \n",
       "21  Reviewed in India on 30 December 2023   \n",
       "22   Reviewed in India on 1 November 2023   \n",
       "23  Reviewed in India on 13 November 2023   \n",
       "24     Reviewed in India on 21 April 2024   \n",
       "25        Reviewed in India on 9 May 2024   \n",
       "26     Reviewed in India on 30 March 2024   \n",
       "27       Reviewed in India on 20 May 2024   \n",
       "28   Reviewed in India on 4 February 2023   \n",
       "29       Reviewed in India on 11 May 2024   \n",
       "30  Reviewed in India on 24 February 2024   \n",
       "31  Reviewed in India on 30 December 2023   \n",
       "32   Reviewed in India on 1 November 2023   \n",
       "33  Reviewed in India on 13 November 2023   \n",
       "34     Reviewed in India on 21 April 2024   \n",
       "35        Reviewed in India on 9 May 2024   \n",
       "36     Reviewed in India on 30 March 2024   \n",
       "37       Reviewed in India on 20 May 2024   \n",
       "38   Reviewed in India on 4 February 2023   \n",
       "39       Reviewed in India on 11 May 2024   \n",
       "40  Reviewed in India on 24 February 2024   \n",
       "41  Reviewed in India on 30 December 2023   \n",
       "42   Reviewed in India on 1 November 2023   \n",
       "43  Reviewed in India on 13 November 2023   \n",
       "44     Reviewed in India on 21 April 2024   \n",
       "45        Reviewed in India on 9 May 2024   \n",
       "46     Reviewed in India on 30 March 2024   \n",
       "47       Reviewed in India on 20 May 2024   \n",
       "48   Reviewed in India on 4 February 2023   \n",
       "49       Reviewed in India on 11 May 2024   \n",
       "\n",
       "                                                 body  \\\n",
       "0   \\nThe iPhone 13 128GB has surpassed my expecta...   \n",
       "1   \\n\\n\\n\\n\\n                    The media could ...   \n",
       "2   \\nThe iPhone 13 is, without a doubt, a game-ch...   \n",
       "3   \\nI snagged the iPhone 13 during the Great Ind...   \n",
       "4   \\nStep into a world of sophistication with the...   \n",
       "5   \\nYou don't need to explain how good apple pro...   \n",
       "6   \\nGreat product.. I love android and apple bot...   \n",
       "7     \\nValue for time and money also.Nice products\\n   \n",
       "8   \\nThis is my first iPhone and it always feels ...   \n",
       "9   \\nAll over good price is good less than other ...   \n",
       "10  \\nThe iPhone 13 128GB has surpassed my expecta...   \n",
       "11  \\n\\n\\n\\n\\n                    The media could ...   \n",
       "12  \\nThe iPhone 13 is, without a doubt, a game-ch...   \n",
       "13  \\nI snagged the iPhone 13 during the Great Ind...   \n",
       "14  \\nStep into a world of sophistication with the...   \n",
       "15  \\nYou don't need to explain how good apple pro...   \n",
       "16  \\nGreat product.. I love android and apple bot...   \n",
       "17    \\nValue for time and money also.Nice products\\n   \n",
       "18  \\nThis is my first iPhone and it always feels ...   \n",
       "19  \\nAll over good price is good less than other ...   \n",
       "20  \\nThe iPhone 13 128GB has surpassed my expecta...   \n",
       "21  \\n\\n\\n\\n\\n                    The media could ...   \n",
       "22  \\nThe iPhone 13 is, without a doubt, a game-ch...   \n",
       "23  \\nI snagged the iPhone 13 during the Great Ind...   \n",
       "24  \\nStep into a world of sophistication with the...   \n",
       "25  \\nYou don't need to explain how good apple pro...   \n",
       "26  \\nGreat product.. I love android and apple bot...   \n",
       "27    \\nValue for time and money also.Nice products\\n   \n",
       "28  \\nThis is my first iPhone and it always feels ...   \n",
       "29  \\nAll over good price is good less than other ...   \n",
       "30  \\nThe iPhone 13 128GB has surpassed my expecta...   \n",
       "31  \\n\\n\\n\\n\\n                    The media could ...   \n",
       "32  \\nThe iPhone 13 is, without a doubt, a game-ch...   \n",
       "33  \\nI snagged the iPhone 13 during the Great Ind...   \n",
       "34  \\nStep into a world of sophistication with the...   \n",
       "35  \\nYou don't need to explain how good apple pro...   \n",
       "36  \\nGreat product.. I love android and apple bot...   \n",
       "37    \\nValue for time and money also.Nice products\\n   \n",
       "38  \\nThis is my first iPhone and it always feels ...   \n",
       "39  \\nAll over good price is good less than other ...   \n",
       "40  \\nThe iPhone 13 128GB has surpassed my expecta...   \n",
       "41  \\n\\n\\n\\n\\n                    The media could ...   \n",
       "42  \\nThe iPhone 13 is, without a doubt, a game-ch...   \n",
       "43  \\nI snagged the iPhone 13 during the Great Ind...   \n",
       "44  \\nStep into a world of sophistication with the...   \n",
       "45  \\nYou don't need to explain how good apple pro...   \n",
       "46  \\nGreat product.. I love android and apple bot...   \n",
       "47    \\nValue for time and money also.Nice products\\n   \n",
       "48  \\nThis is my first iPhone and it always feels ...   \n",
       "49  \\nAll over good price is good less than other ...   \n",
       "\n",
       "                          details  \n",
       "0                            <NA>  \n",
       "1        Colour: BlueSize: 128 GB  \n",
       "2   Colour: StarlightSize: 256 GB  \n",
       "3    Colour: MidnightSize: 128 GB  \n",
       "4                            <NA>  \n",
       "5        Colour: BlueSize: 128 GB  \n",
       "6                            <NA>  \n",
       "7                            <NA>  \n",
       "8        Colour: BlueSize: 128 GB  \n",
       "9       Colour: GreenSize: 128 GB  \n",
       "10                           <NA>  \n",
       "11       Colour: BlueSize: 128 GB  \n",
       "12  Colour: StarlightSize: 256 GB  \n",
       "13   Colour: MidnightSize: 128 GB  \n",
       "14                           <NA>  \n",
       "15       Colour: BlueSize: 128 GB  \n",
       "16                           <NA>  \n",
       "17                           <NA>  \n",
       "18       Colour: BlueSize: 128 GB  \n",
       "19      Colour: GreenSize: 128 GB  \n",
       "20                           <NA>  \n",
       "21       Colour: BlueSize: 128 GB  \n",
       "22  Colour: StarlightSize: 256 GB  \n",
       "23   Colour: MidnightSize: 128 GB  \n",
       "24                           <NA>  \n",
       "25       Colour: BlueSize: 128 GB  \n",
       "26                           <NA>  \n",
       "27                           <NA>  \n",
       "28       Colour: BlueSize: 128 GB  \n",
       "29      Colour: GreenSize: 128 GB  \n",
       "30                           <NA>  \n",
       "31       Colour: BlueSize: 128 GB  \n",
       "32  Colour: StarlightSize: 256 GB  \n",
       "33   Colour: MidnightSize: 128 GB  \n",
       "34                           <NA>  \n",
       "35       Colour: BlueSize: 128 GB  \n",
       "36                           <NA>  \n",
       "37                           <NA>  \n",
       "38       Colour: BlueSize: 128 GB  \n",
       "39      Colour: GreenSize: 128 GB  \n",
       "40                           <NA>  \n",
       "41       Colour: BlueSize: 128 GB  \n",
       "42  Colour: StarlightSize: 256 GB  \n",
       "43   Colour: MidnightSize: 128 GB  \n",
       "44                           <NA>  \n",
       "45       Colour: BlueSize: 128 GB  \n",
       "46                           <NA>  \n",
       "47                           <NA>  \n",
       "48       Colour: BlueSize: 128 GB  \n",
       "49      Colour: GreenSize: 128 GB  "
      ]
     },
     "execution_count": 97,
     "metadata": {},
     "output_type": "execute_result"
    }
   ],
   "source": [
    "df.head(50)"
   ]
  },
  {
   "cell_type": "code",
   "execution_count": 98,
   "metadata": {
    "id": "qUettdSBxlZD"
   },
   "outputs": [],
   "source": [
    "df.to_excel(\"FinalData.xlsx\")"
   ]
  },
  {
   "cell_type": "code",
   "execution_count": null,
   "metadata": {},
   "outputs": [],
   "source": []
  }
 ],
 "metadata": {
  "colab": {
   "provenance": []
  },
  "kernelspec": {
   "display_name": "Python 3 (ipykernel)",
   "language": "python",
   "name": "python3"
  },
  "language_info": {
   "codemirror_mode": {
    "name": "ipython",
    "version": 3
   },
   "file_extension": ".py",
   "mimetype": "text/x-python",
   "name": "python",
   "nbconvert_exporter": "python",
   "pygments_lexer": "ipython3",
   "version": "3.11.5"
  }
 },
 "nbformat": 4,
 "nbformat_minor": 1
}
